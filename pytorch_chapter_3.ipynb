{
  "nbformat": 4,
  "nbformat_minor": 0,
  "metadata": {
    "colab": {
      "name": "pytorch-chapter-3.ipynb",
      "provenance": [],
      "collapsed_sections": [
        "Iqn-S9TOHlyL",
        "Fpzoak5SQFnN",
        "WgXRPpYgZXvZ"
      ],
      "include_colab_link": true
    },
    "kernelspec": {
      "name": "python3",
      "display_name": "Python 3"
    },
    "accelerator": "GPU"
  },
  "cells": [
    {
      "cell_type": "markdown",
      "metadata": {
        "id": "view-in-github",
        "colab_type": "text"
      },
      "source": [
        "<a href=\"https://colab.research.google.com/github/myazdani/pytorch-deep-learning/blob/master/pytorch_chapter_3.ipynb\" target=\"_parent\"><img src=\"https://colab.research.google.com/assets/colab-badge.svg\" alt=\"Open In Colab\"/></a>"
      ]
    },
    {
      "cell_type": "markdown",
      "metadata": {
        "id": "8F5RMGZelnFu",
        "colab_type": "text"
      },
      "source": [
        "# Chapter 3\n",
        "\n",
        "# The Artificial Neuron\n",
        "\n",
        "\n",
        "At the heart of deep learning is the single artificial neuron. When these \"neurons\" are connected together to form a network of neurons, we can perform many useful machine learning tasks. People will often instead of neuron use terms such as \"neuronal element\", \"neuronal unit\" or just simply \"unit.\" It's important to remember that regardless of the jargon, the \"artificial neurons\" that we refer to in deep learning are massive oversimplifications from biological neurons. It is best to think of artificial neurons as metaphors. This is because the computations in artificial neurons are not only oversimplified, but ignore many details as to how neurons are activated and information processing takes place in brains.\n",
        "\n",
        "At a high level, the artificial neuron is either \"excited\" or \"quiescent\" to input that it receives. This terminology is analogous to a biological neuron \"firing.\" While Binary Neurons are strictly either \"on\" or \"off\" (that is, they are either firing or not) most neuronal elements used in deep learning are analogs between being activated or not. Let's take a look at what one of these neurons look like:\n",
        "\n",
        "\n",
        "\n",
        "![alt text](https://upload.wikimedia.org/wikipedia/commons/thumb/6/60/ArtificialNeuronModel_english.png/640px-ArtificialNeuronModel_english.png)\n",
        "\n",
        "\n",
        "The inputs $x_1, \\ldots, x_n$ the neuron receives will either excite the neuron or not. In this case we have drawn ta that neuron receives $n$ inputs that are just floats. The neuron pays \"attention\" to each of the inputs with the synaptic weights $w_1, \\ldots, w_n$. If one of the weights $w_i = 0$ then the neuron is paying NO attention to input $x_i$. The bigger the value of $w_i$ the more influence input $x_i$ has on the neuron. These weights are analogous to \"synapses\" in biological neurons, so you will often here them referred to as \"synaptic weights\"\n",
        "\n",
        "The total state of the neuron is the sum of all the inputs $x_1, \\ldots, x_n$ the neuron receives weighted by the synaptic weights of the neuron. This is mathematically represented as\n",
        "\n",
        "$s = w_n x_n + \\ldots + w_1 x_1 + w_0$\n",
        "\n",
        "\n",
        "You'll notice the $w_0$ synaptic weight has no input associated with it. You can think of this as the \"baseline\" of the neuron of how sensitive it is for being excited. This term is often referred to as the \"bias\" term and mathematically it is equivalent to the \"intercept\" term that we discussed at length in the previous chapter for linear equations (the $b$ in the famous $y = mx + b$ equation). Mathematically, we can re-express the state of the neuron as:\n",
        "\n",
        "$s = w_n x_n + \\ldots + w_1 x_1 + w_0 = \\sum_{i=0}^{n}w_{i}x_{i}$\n",
        "\n",
        "where we have defined $x_0 = 1.0$ that gets multiplied by the bias term $w_{0}$. We can further equivalently write this as:\n",
        "\n",
        "$s = \\sum_{i=0}^{n}w_{i}x_{i} = \\mathbf{w}^{T}\\mathbf{x}$\n",
        "\n",
        "Where we now say that the state of the neuron is the *inner produt* or *dot product* between the synaptic *weight vector* $\\mathbf{w}$ and $\\mathbf{x}$ where\n",
        "\n",
        "$\\mathbf{w} = \\begin{bmatrix}\n",
        "w_0\\\\ \n",
        "w_1 \\\\\n",
        "\\vdots\\\\ \n",
        "w_{n}\n",
        "\\end{bmatrix} $\n",
        "\n",
        "and\n",
        "\n",
        "$\\mathbf{x} = \\begin{bmatrix}\n",
        "1.0\\\\\n",
        "x_1 \\\\\n",
        "\\vdots\\\\ \n",
        "x_{n}\n",
        "\\end{bmatrix} $\n",
        "\n",
        "\n",
        "This may seem like a frivolous mathematical exercise, but the interpretation of viewing the state of the artificial neuron as the inner product between an input vector $\\mathbf{x}$ and a synaptic weight vector $\\mathbf{w}$ is extremely helpful. Let's review some of the key concepts behind the dot product. Recall that vectors are just directions in a vector space along with a magnitude. Below is a toy example of a two dimensional synaptic weight vector $\\mathbf{w}$ and the input vector $\\mathbf{x}$\n",
        "\n",
        "![alt text](http://img.sparknotes.com/figures/1/13493b46f82b15be90229290a86eb26a/dotproduct.gif)\n",
        "\n",
        "Notice that these two vectors can point anywhere. But when the synaptic weight vector $\\mathbf{w}$ and the input vector $\\mathbf{x}$ are *aligned* and pointing in the same direction, then in some sense they are pointing the same direction and are providing the same piece of information. The dot product is a measure of how much the synaptic weight vector $\\mathbf{w}$ and the input vector $\\mathbf{x}$ are aligned. In this sense, the neuron with its synaptic weights $\\mathbf{w}$ will maximally fire when the input vector $\\mathbf{x}$ is in agreement with it.\n",
        "\n",
        "\n",
        "So the state of the neuron is determined by the inner product operation between the synaptic weights of the neuron with the incoming input vector. The inner product does not restrict the values of the state of the neuron, so the state can be either very small and negative or very large and positive. Typically to mimic the behavior of biological neurons, a non-linear \"activation function\" is applied to it to restrict the output of the neuron to be either firing/active or not. As the name suggests, the purpose of the activation function is to determine if the neuron should be active or not. So the final output of the artificial neuron then becomes:\n",
        "\n",
        "$z = \\sigma(\\mathbf{w}^{T}\\mathbf{x})$\n",
        "\n",
        "\n",
        "Historically, the sigmoid function (that has values between 0 and 1) was originally used but for technical reasons any non-polynomial non-linear function can be used as an activation function. A popular activation function is the hyperbolic tangent that we will use an example.\n",
        "\n",
        "$z = \\tanh(\\mathbf{w}^{T}\\mathbf{x})$\n",
        "\n",
        "Let's take a look at what this function looks like in the simplest case where we have one input:\n",
        "\n",
        "$z = \\tanh(xw_1 + w_0)$\n",
        "\n",
        "Since we only have one input $x$ we only have one synaptic weight $w_0$ associated with it (and $w_0$ is our bias term)\n",
        "\n",
        "Let 's visualize a simple case where the bias term $w_0 = 0$ and $w_1 = 1.0$."
      ]
    },
    {
      "cell_type": "code",
      "metadata": {
        "id": "d7k46EjOkV5l",
        "colab_type": "code",
        "colab": {}
      },
      "source": [
        "import numpy as np\n",
        "\n",
        "import torch \n",
        "\n",
        "import matplotlib.pyplot as plt;\n",
        "%matplotlib inline\n"
      ],
      "execution_count": 0,
      "outputs": []
    },
    {
      "cell_type": "code",
      "metadata": {
        "id": "kZWuDXqSk7XY",
        "colab_type": "code",
        "colab": {}
      },
      "source": [
        "#x = torch.linspace(-3, 3, steps=5000, requires_grad=True)\n",
        "x = torch.linspace(-3, 3, steps=5000)\n",
        "\n",
        "z1 = torch.tanh(x)"
      ],
      "execution_count": 0,
      "outputs": []
    },
    {
      "cell_type": "code",
      "metadata": {
        "id": "IxLZh8A2lCKC",
        "colab_type": "code",
        "outputId": "7f8a633f-12ba-4175-8d4c-806eb1787a18",
        "colab": {
          "base_uri": "https://localhost:8080/",
          "height": 269
        }
      },
      "source": [
        "plt.plot(x.detach().numpy(),z1.detach().numpy());"
      ],
      "execution_count": 0,
      "outputs": [
        {
          "output_type": "display_data",
          "data": {
            "image/png": "[encoded data removed]",
            "text/plain": [
              "<Figure size 432x288 with 1 Axes>"
            ]
          },
          "metadata": {
            "tags": []
          }
        }
      ]
    },
    {
      "cell_type": "markdown",
      "metadata": {
        "id": "EmtWiYhqEM5X",
        "colab_type": "text"
      },
      "source": [
        "If you are familiar with NumPy's `linspace`, you'll notice that `torch.linspace` is very similar. We have created a torch tensor `x` that has 5,000 equally spaced values between -3.0 and 3.0 - if you are having a hard time understanding this, just try printing out the values of `x` and test your understanding with toy cases such as `torch.linspace(-3, 3, steps=3)`.\n",
        "\n",
        "`torch.tanh` then applies the hyperbolic tangent function to each the elements in `x` to create the output tensor `z1`. Keep in mind that in this case even though `x` is a torch tensor with 5,000 elements, we are still in the 1-dimensional input case. We are just trying to show what the output of this single 1-dimensional neuron would be for 5,000 different values.\n",
        "\n",
        "The more \"technically correct\" way of showing the output of a single 1-dimensional neuron would be using a for loop such as:"
      ]
    },
    {
      "cell_type": "code",
      "metadata": {
        "id": "ggsDTQi3YFEV",
        "colab_type": "code",
        "colab": {}
      },
      "source": [
        "outputs = []\n",
        "\n",
        "for i in range(5000):\n",
        "    outputs.append(torch.tanh(x[i]))"
      ],
      "execution_count": 0,
      "outputs": []
    },
    {
      "cell_type": "markdown",
      "metadata": {
        "id": "PI1DVcJ_YRXN",
        "colab_type": "text"
      },
      "source": [
        "But using such a for loop is computationally much more expensive and cumbersome. \n",
        "\n",
        "In the above figure we show what the output of the neuron is for various values of inputs when the neuron has the specific synaptic weights of $w_1 = 1.0$ and $w_0 = 0$. You will notice that the output of the neuron is between two extremes: -1.0 and positive 1.0. Any input that is bigger than 3 or smaller than -3 will result in positive 1.0 or -1.0 respectively. Any input between -3.0 and 3.0 on the other hand will yield an out of a value between -1.0 and 1.0 for this neuron.\n",
        "\n",
        "You will often hear people refer to the output state of the neuron being \"saturated\" when the output is 1.0 or -1.0. These two states can be thought of as being analogous to the neuron being active or not. But the analogy stops there since the hyperbolic tangent is an example of a \"soft\" activation function as being in either state is a *soft* decision between the two extreme states. \n",
        "\n",
        "\n",
        "What if we have a neuron that has the following synaptic weights:\n",
        "\n",
        "$ z = tanh(10x - 10)$\n",
        "\n",
        "that is, $w_1 = 10.0$ and $w_0 = -10.0$?\n",
        "\n",
        "Below we show the output of this neuron and compare it with the original:"
      ]
    },
    {
      "cell_type": "code",
      "metadata": {
        "id": "YHmSPzz9uxyX",
        "colab_type": "code",
        "outputId": "b52b30c4-7ba4-4bdf-ce33-090a5dacaaa8",
        "colab": {
          "base_uri": "https://localhost:8080/",
          "height": 269
        }
      },
      "source": [
        "z2 = torch.tanh(10*x-10)\n",
        "\n",
        "plt.plot(x.detach().numpy(),z1.detach().numpy(), label = \"$y_1 = tanh(x)$\");\n",
        "plt.plot(x.detach().numpy(),z2.detach().numpy(), label = \"$y_2 = tanh(10x - 10)$\");\n",
        "plt.legend();"
      ],
      "execution_count": 0,
      "outputs": [
        {
          "output_type": "display_data",
          "data": {
            "image/png": "[encoded data removed]",
            "text/plain": [
              "<Figure size 432x288 with 1 Axes>"
            ]
          },
          "metadata": {
            "tags": []
          }
        }
      ]
    },
    {
      "cell_type": "markdown",
      "metadata": {
        "id": "zTq3NFVebH_j",
        "colab_type": "text"
      },
      "source": [
        "We can see that changing the synaptic weight $w_0$ has the effect of shifting the output activity of the neuron (to the right in this case) and $w_1$ has the effect of affecting the rate at which the output of the neuron switches between -1.0 and 1.0. In other words, adjusting the synaptic weights has the effective of shifting the neuron around in input space and controlling for the *sensitivity* of the neuron switching between the two states.\n",
        "\n",
        "Now lets add one more neuron to the output of this neuron:\n",
        "\n",
        "<br>\n",
        "\n",
        "This neuron has the identity activation function so the output is just the input $ z = \\sigma(z).$ Mathematically, the input and output of our two neurons can be expressed as follows:\n",
        "\n",
        "$y = u_1 tanh(w_1 x + w_0) + u_0 = u_1z + u_0$\n",
        "\n",
        "in the right hand side you may notice a pattern that we have seen before: we have again the inner product of the synaptic weights of our second neuron with the output of the neuronal activity of the first neuron. In other words, the first neuron maps the inputs to $z$, an *intermediate representation* and then the second neuron maps this intermediate representation to the output $y$. This pattern of mapping the inputs to an intermediate representation followed by a final output is at the heart of deep learning.\n",
        "\n",
        "Let's consider an example where $u_1 = 0.5$ and $u_0 = 10$ for the output neuron and we use the simple first neuron that we considered:"
      ]
    },
    {
      "cell_type": "code",
      "metadata": {
        "id": "h_BY0IAPDp6H",
        "colab_type": "code",
        "outputId": "4cc40787-4db2-4ffc-c253-a2a7b6611305",
        "colab": {
          "base_uri": "https://localhost:8080/",
          "height": 269
        }
      },
      "source": [
        "y = .5*z1 + 10\n",
        "\n",
        "plt.plot(x.detach().numpy(),y.detach().numpy());"
      ],
      "execution_count": 0,
      "outputs": [
        {
          "output_type": "display_data",
          "data": {
            "image/png": "[encoded data removed]",
            "text/plain": [
              "<Figure size 432x288 with 1 Axes>"
            ]
          },
          "metadata": {
            "tags": []
          }
        }
      ]
    },
    {
      "cell_type": "markdown",
      "metadata": {
        "id": "yd1XjLzDq_gg",
        "colab_type": "text"
      },
      "source": [
        "The shape of the output of looks very similar to what we had before but now notice the range of the vertical axis: instead of being limited to -1.0 and +1.0 it is now roughly between  9.5 and 10.5. This is because this output neuron is controlling where to place the hyperbolic tangent in the output space. \n",
        "\n",
        "Let's now also feed the second neuron to this output neuron so both are combined:\n",
        "\n",
        "$y = u_2 z_2 + u_1z_1 + u_0$\n",
        "\n",
        "Obviously since we are adding an additional source input (originating from the second neuron), we need an additional synaptic weight which is $u_2$. Let's select $u_2 = -0.5$ and plot the total output:"
      ]
    },
    {
      "cell_type": "code",
      "metadata": {
        "id": "t-wHlXrhqcPQ",
        "colab_type": "code",
        "outputId": "8433a3bd-1230-4ea4-bfa9-25c44c40f672",
        "colab": {
          "base_uri": "https://localhost:8080/",
          "height": 269
        }
      },
      "source": [
        "y = -.5*z2 + .5*z1  + 10\n",
        "plt.plot(x.detach().numpy(),y.detach().numpy());"
      ],
      "execution_count": 0,
      "outputs": [
        {
          "output_type": "display_data",
          "data": {
            "image/png": "[encoded data removed]",
            "text/plain": [
              "<Figure size 432x288 with 1 Axes>"
            ]
          },
          "metadata": {
            "tags": []
          }
        }
      ]
    },
    {
      "cell_type": "markdown",
      "metadata": {
        "id": "QChi2c5xs6Az",
        "colab_type": "text"
      },
      "source": [
        "This is a shape that is completely different from the hyperbolic tangents that we have been seeing! Adding an additional neuron has allowed us to express a function beyond just the hyperbolic tangent. In fact, the more neurons we include, the more \"expressive\" we can make the functional output. This idea has been proved as the \"universal approximator theorem\": the idea is that we can approximate any smooth function if we have enough neurons.\n",
        "\n",
        "In practice this theorem is not used often since the theorem does not give us any insight into *how* many neurons we need to express an arbitrary function. Nevertheless, such a result brings us the guarantee that if we have enough neurons in our network then we can approximate any practical function we observe in the real world (there may be some mathematical monstrosities with many sharp discontinuities that may be infeasible to reconstruct, but such oddities are rarely observed in practice).\n",
        "\n",
        "\n",
        "\n",
        "\n"
      ]
    },
    {
      "cell_type": "markdown",
      "metadata": {
        "id": "AefDQezHh55Q",
        "colab_type": "text"
      },
      "source": [
        "So far we have only considered single inputs. Let's consider the more general case where we have $n$ inputs and lets consider the case where we have $m$ hidden neurons. We can mathematically express the $m$ hidden states of this network as:\n",
        "\n",
        "$s_1 = w_{1}^{T}x$ <br>\n",
        "$s_2 = w_{2}^{T}x$ <br>\n",
        "$\\vdots$ <br>\n",
        "$s_m = w_{m}^{T}x$ <br>\n",
        "\n",
        "Using matrix notation we can more compactly write this as:\n",
        "\n",
        "$\\begin{bmatrix}\n",
        "s_1\\\\ \n",
        "s_2\\\\ \n",
        "\\vdots\\\\ \n",
        "s_m\n",
        "\\end{bmatrix} = \\begin{bmatrix}\n",
        "w_1^{T}\\\\ \n",
        "w_2^{T}\\\\ \n",
        "\\vdots\\\\ \n",
        "w_m^{T}\n",
        "\\end{bmatrix} x$\n",
        "\n",
        "Let's unpack this a bit: each $w_1$, $w_2$, $\\ldots$, $w_m$ are the set (vector) of synaptic weights associated with each of the $m$ neurons. We have $m$ neurons so we also have $m$ states $s_1$, $s_2$, $\\ldots$, $s_m$ associated with each of these neurons. Recall that each neuron is paying \"attention\" to the input based on the neuron's synaptic weights. This act of paying attention is done through the dot product operation. In other words, each of the states $s_i$ is measuring how much alignment there is between the input $x$ and the the neuron's synaptic weights $w_i$.\n",
        "\n",
        "It turns out this type of operation, measuring alignment of an input vector against a set of \"reference vectors\" (which in our case the reference vectors are the synaptic weights), is a very common operation in linear algebra. In fact, in linear algebra, such a transformation is typically referred to as a *basis transformation*. It is illustrative to think of these concepts pictorially for a special transformation call the *Fourier Transform*.\n",
        "\n",
        "In the Fourier Transform, an input signal (which on a computer is represented as an array or just a vector) is decomposed into a set of sinusoids. This transformation roughly as a cartoon looks something like this:\n",
        "\n",
        "\n",
        "\n",
        "\n",
        "![alt text](https://pbs.twimg.com/media/D15-WtuU0AAs6e3.jpg:small)\n",
        "\n",
        "Here we are repeating the equation that we had previously but are actually drawing out the values the synaptic weights and an example input. The synaptic weights are sinusoids at different frequencies starting from the DC signal at the very top (just flat), followed by a slowly oscillating sinusoid, and then ending with a very fast sinusoid. The input signal looks like a combination of a slowly moving sinusoid plus a little bit of a high frequency sinusoid. The \"output\" of this transformation in the left-hand-side then shows us that this input signal is not well-aligned with most of the sinusoids except for a few (ie, most of the sinusoids are not aligned with the input and hence are zeros).\n",
        "\n",
        "This is just a cartoon example, but such a transformation is at the heart of all transformation in deep learning. The major difference in deep learning is that the synaptic weights are not fixed to be sinusoids at different frequencies, but rather they are *learned*.\n",
        "\n",
        "\n",
        "Once we have computed the transformation, we compute the hidden representation of the input by passing the states to the non-linear activation functions:\n",
        "\n",
        "$\\begin{bmatrix}\n",
        "z_1\\\\ \n",
        "z_2\\\\ \n",
        "\\vdots\\\\ \n",
        "z_m\n",
        "\\end{bmatrix} = \\begin{bmatrix}\n",
        "\\sigma(s_1)\\\\ \n",
        "\\sigma(s_2)\\\\ \n",
        "\\vdots\\\\ \n",
        "\\sigma(s_m)\n",
        "\\end{bmatrix} $\n",
        "\n",
        "$z_1, z_2, \\ldots, z_m$ is the hidden representation of the input. To get a desired output, we pass this hidden representation to a final output neuron.\n",
        "\n",
        "$y = u^{T}\\mathbf{z}$\n",
        "\n",
        "where $\\mathbf{z} = \\begin{bmatrix}\n",
        "1.0\\\\\n",
        "z_1 \\\\\n",
        "\\vdots\\\\ \n",
        "z_{n}\n",
        "\\end{bmatrix} $\n",
        "\n",
        "and we have augmented the constant 1.0 with the hidden representation for the bias of the output neuron.\n",
        "\n",
        "\n",
        "The example we have can be expressed compactly in PyTorch as:\n"
      ]
    },
    {
      "cell_type": "code",
      "metadata": {
        "id": "712kBTJeh7Ux",
        "colab_type": "code",
        "outputId": "9448bac9-2804-470b-d40a-92ec26282e88",
        "colab": {
          "base_uri": "https://localhost:8080/",
          "height": 269
        }
      },
      "source": [
        "\n",
        "W = torch.tensor([[10, -10], [1, 0]], dtype = torch.float32)\n",
        "u = torch.tensor([-.5, .5, 10], dtype = torch.float32)\n",
        "\n",
        "\n",
        "x_aug = torch.cat((x[None,:],torch.ones_like(x)[None,:]), 0)\n",
        "\n",
        "z = torch.tanh(torch.mm(W, x_aug))\n",
        "z_aug = torch.cat((z, torch.ones(z.size()[1])[None,:]), 0)\n",
        "\n",
        "y = torch.mm(u[None,:],z_aug).squeeze()\n",
        "\n",
        "\n",
        "plt.plot(x.detach().numpy(),y.detach().numpy());"
      ],
      "execution_count": 0,
      "outputs": [
        {
          "output_type": "display_data",
          "data": {
            "image/png": "[encoded data removed]",
            "text/plain": [
              "<Figure size 432x288 with 1 Axes>"
            ]
          },
          "metadata": {
            "tags": []
          }
        }
      ]
    },
    {
      "cell_type": "markdown",
      "metadata": {
        "id": "Shy4AJ9h-qqo",
        "colab_type": "text"
      },
      "source": [
        "# MNIST digit classificaiton\n",
        "\n",
        "\n",
        "The MNIST dataset is a popular dataset used to benchmark machine learning algorithms. The training set of the dataset consists of 60,000 hand drawn characters of the digits 0-9 on gray-scale 28-by-28 pixel images. One of the images looks something like this:\n",
        "\n",
        "![alt text](https://raw.githubusercontent.com/rohan-varma/rohan-blog/master/images/mnistimg.png)\n",
        "\n",
        "\n",
        "\n",
        "We would like to design a neural network that can classify which digit is drawn from the pixels of the images. \n",
        "\n",
        "This dataset has been enormously popular since its inception and is always used as a first step for understanding a new algorithm. Given its popularity, this dataset is included as a subclass in `torch`. "
      ]
    },
    {
      "cell_type": "code",
      "metadata": {
        "id": "r-HUotQkBdTo",
        "colab_type": "code",
        "colab": {}
      },
      "source": [
        "import torch.nn as nn\n",
        "import torch.nn.functional as F\n",
        "from torchvision import datasets, transforms"
      ],
      "execution_count": 0,
      "outputs": []
    },
    {
      "cell_type": "markdown",
      "metadata": {
        "id": "I-aSOr0OCYpI",
        "colab_type": "text"
      },
      "source": [
        "The `datasets` class in `torch` includes an `MNIST` module that will return a PyTorch  `dataset` and handle the downloading of the train and validation datasets. "
      ]
    },
    {
      "cell_type": "code",
      "metadata": {
        "id": "0jPYc1w8C2Jy",
        "colab_type": "code",
        "outputId": "3c5f1641-f4c9-4ec8-aa92-8f2f8ef155ad",
        "colab": {
          "base_uri": "https://localhost:8080/",
          "height": 275
        }
      },
      "source": [
        "train_dataset = datasets.MNIST('./data', \n",
        "                               train=True, \n",
        "                               download=True, \n",
        "                               transform=transforms.ToTensor())\n",
        "\n",
        "validation_dataset = datasets.MNIST('./data', \n",
        "                                    train=False, \n",
        "                                    transform=transforms.ToTensor())"
      ],
      "execution_count": 0,
      "outputs": [
        {
          "output_type": "stream",
          "text": [
            "\r0it [00:00, ?it/s]"
          ],
          "name": "stderr"
        },
        {
          "output_type": "stream",
          "text": [
            "Downloading http://yann.lecun.com/exdb/mnist/train-images-idx3-ubyte.gz to ./data/MNIST/raw/train-images-idx3-ubyte.gz\n"
          ],
          "name": "stdout"
        },
        {
          "output_type": "stream",
          "text": [
            "9920512it [00:01, 8412693.18it/s]                            \n"
          ],
          "name": "stderr"
        },
        {
          "output_type": "stream",
          "text": [
            "Extracting ./data/MNIST/raw/train-images-idx3-ubyte.gz\n"
          ],
          "name": "stdout"
        },
        {
          "output_type": "stream",
          "text": [
            "  0%|          | 0/28881 [00:00<?, ?it/s]"
          ],
          "name": "stderr"
        },
        {
          "output_type": "stream",
          "text": [
            "Downloading http://yann.lecun.com/exdb/mnist/train-labels-idx1-ubyte.gz to ./data/MNIST/raw/train-labels-idx1-ubyte.gz\n"
          ],
          "name": "stdout"
        },
        {
          "output_type": "stream",
          "text": [
            "32768it [00:00, 135522.66it/s]           \n",
            "  0%|          | 0/1648877 [00:00<?, ?it/s]"
          ],
          "name": "stderr"
        },
        {
          "output_type": "stream",
          "text": [
            "Extracting ./data/MNIST/raw/train-labels-idx1-ubyte.gz\n",
            "Downloading http://yann.lecun.com/exdb/mnist/t10k-images-idx3-ubyte.gz to ./data/MNIST/raw/t10k-images-idx3-ubyte.gz\n"
          ],
          "name": "stdout"
        },
        {
          "output_type": "stream",
          "text": [
            "1654784it [00:00, 2201462.39it/s]                            \n",
            "0it [00:00, ?it/s]"
          ],
          "name": "stderr"
        },
        {
          "output_type": "stream",
          "text": [
            "Extracting ./data/MNIST/raw/t10k-images-idx3-ubyte.gz\n",
            "Downloading http://yann.lecun.com/exdb/mnist/t10k-labels-idx1-ubyte.gz to ./data/MNIST/raw/t10k-labels-idx1-ubyte.gz\n"
          ],
          "name": "stdout"
        },
        {
          "output_type": "stream",
          "text": [
            "8192it [00:00, 50661.19it/s]            \n"
          ],
          "name": "stderr"
        },
        {
          "output_type": "stream",
          "text": [
            "Extracting ./data/MNIST/raw/t10k-labels-idx1-ubyte.gz\n",
            "Processing...\n",
            "Done!\n"
          ],
          "name": "stdout"
        }
      ]
    },
    {
      "cell_type": "markdown",
      "metadata": {
        "id": "ndtVtS78C4DY",
        "colab_type": "text"
      },
      "source": [
        "Once you have the these dataset objects prepared, you can create a `DataLoader` object from them that you can iterate through the different examples when you trian the network with a specified batch size. In this case we will haev a batch size of 32 examples and we have also specified that we want to shuffle the training data after every epoch by setting `shuffle = True`. "
      ]
    },
    {
      "cell_type": "code",
      "metadata": {
        "id": "CE06VatL5Fpg",
        "colab_type": "code",
        "colab": {}
      },
      "source": [
        "\n",
        "batch_size = 32\n",
        "\n",
        "\n",
        "\n",
        "train_loader = torch.utils.data.DataLoader(dataset=train_dataset, \n",
        "                                           batch_size=batch_size, \n",
        "                                           shuffle=True)\n",
        "\n",
        "validation_loader = torch.utils.data.DataLoader(dataset=validation_dataset, \n",
        "                                                batch_size=batch_size, \n",
        "                                                shuffle=False)"
      ],
      "execution_count": 0,
      "outputs": []
    },
    {
      "cell_type": "markdown",
      "metadata": {
        "id": "5yqCJ4g9DZL6",
        "colab_type": "text"
      },
      "source": [
        "Now that we have our data loading and preparation objects ready, we need to specify a network architecture. Here is a simple single hidden layer with a `tanh` activation function. This is a standard Multi-Layer Perceptron (MLP) architecture Recall that when we create Networks in PyTorch we inherit from the `nn.Module`. Here we define our network as a class called `DigitsNet`:"
      ]
    },
    {
      "cell_type": "code",
      "metadata": {
        "id": "OjBe5ZMQEhTR",
        "colab_type": "code",
        "colab": {}
      },
      "source": [
        "class DigitsNet(nn.Module):\n",
        "    def __init__(self, num_hidden, input_size = 28*28, num_classes = 10):\n",
        "        super(DigitsNet, self).__init__()\n",
        "        self.num_hidden = num_hidden\n",
        "        self.input_size = input_size\n",
        "        self.num_classes = num_classes\n",
        "        \n",
        "        self.fc1 = nn.Linear(self.input_size, self.num_hidden)\n",
        "        self.fc2 = nn.Linear(self.num_hidden, self.num_classes)\n",
        "\n",
        "    def forward(self, x):\n",
        "        x = x.view(-1, self.input_size)\n",
        "        z = torch.tanh(self.fc1(x))\n",
        "        return F.log_softmax(self.fc2(z), dim=1)"
      ],
      "execution_count": 0,
      "outputs": []
    },
    {
      "cell_type": "markdown",
      "metadata": {
        "id": "CM5wU1cjEgHx",
        "colab_type": "text"
      },
      "source": [
        "As discussed earlier, when inherriting from `nn.Module`, we need to specify two methods: `__init__` and `forward`. In the `__init__` method you always want to call `super` to have access to the inherrited methods in `nn.Module`.  As is typical in `__init__` methods, you will also want to specify the instance variables for the class. The `DigitsNet` class allows users to create different networks based on three network hyperparameters:\n",
        "- `num_hidden`: we can specify how many hidden units the hidden layer should have \n",
        "- `input_size`: the number of inputs the network will receive. Since we will be using `DigitsNet` for the MNIST dataset, the type of data that is passed as input to the network is always fixed. Each image is a 28-by-28 grayscale image. Because we are using an MLP architecture, the input shape needs to be 1-D array, and so we reshape the 28-by-28 2D array into a 1D vector of shape `28*28 = 784`. So by default we have the `input_size` be set to 784.\n",
        "- `num_classes`: The number of classes we wantt to predict. Since we will be using `DigitsNet` for MNIST and there are only 10 digits, we set the default number of classes to 10. \n",
        "\n",
        "\n",
        "Now that we have defined the class, let's make a `DigitsNet` object and call it a `model` with 1000 hidden units. We also want to put this model on the GPU which can with the `to` method. Note that we didn't have to write the `to` method since `DigitsNet` inherits from `nn.Module`. "
      ]
    },
    {
      "cell_type": "code",
      "metadata": {
        "id": "m83xgJYNB04y",
        "colab_type": "code",
        "outputId": "357ab673-830d-426c-d6ba-0100f67f2466",
        "colab": {
          "base_uri": "https://localhost:8080/",
          "height": 85
        }
      },
      "source": [
        "device = torch.device(\"cuda\") if torch.cuda.is_available() else torch.device(\"cpu\")\n",
        "    \n",
        "model = DigitsNet(num_hidden=10000).to(device)    \n",
        "\n",
        "print(model)"
      ],
      "execution_count": 0,
      "outputs": [
        {
          "output_type": "stream",
          "text": [
            "DigitsNet(\n",
            "  (fc1): Linear(in_features=784, out_features=10000, bias=True)\n",
            "  (fc2): Linear(in_features=10000, out_features=10, bias=True)\n",
            ")\n"
          ],
          "name": "stdout"
        }
      ]
    },
    {
      "cell_type": "markdown",
      "metadata": {
        "id": "YNDRh7WqlPTP",
        "colab_type": "text"
      },
      "source": [
        "We next define the optimizer that ew want to use (simple SGD in this case) and the loss function: "
      ]
    },
    {
      "cell_type": "code",
      "metadata": {
        "id": "6st_Nw8rBgqZ",
        "colab_type": "code",
        "colab": {}
      },
      "source": [
        "\n",
        "optimizer = torch.optim.SGD(model.parameters(), lr=0.01, momentum=0.5)\n",
        "criterion = nn.CrossEntropyLoss()"
      ],
      "execution_count": 0,
      "outputs": []
    },
    {
      "cell_type": "markdown",
      "metadata": {
        "id": "ADYviOhIXDz3",
        "colab_type": "text"
      },
      "source": [
        "Now that we have defined the model, the optimizer, and the loss function that we want to minimize, we write some helper functions for computing the training step and validation step when training the network. We call the `train` function for every epoch of training and also specify how often we want to print the progress of training with the `log_interval` parameter (set to every 200 batches by default)."
      ]
    },
    {
      "cell_type": "code",
      "metadata": {
        "id": "SE69Xmu4BxLg",
        "colab_type": "code",
        "colab": {}
      },
      "source": [
        "def train(epoch, log_interval=200):\n",
        "    # Set model to training mode\n",
        "    model.train()\n",
        "    \n",
        "    # Loop over each batch from the training set\n",
        "    for batch_idx, (data, target) in enumerate(train_loader):\n",
        "        # Copy data to GPU if needed\n",
        "        data = data.to(device)\n",
        "        target = target.to(device)\n",
        "\n",
        "        # Zero gradient buffers\n",
        "        optimizer.zero_grad() \n",
        "        \n",
        "        # Pass data through the network\n",
        "        output = model(data)\n",
        "\n",
        "        # Calculate loss\n",
        "        loss = criterion(output, target)\n",
        "\n",
        "        # Backpropagate\n",
        "        loss.backward()\n",
        "        \n",
        "        # Update weights\n",
        "        optimizer.step()\n",
        "        \n",
        "        if batch_idx % log_interval == 0:\n",
        "            print('Train Epoch: {} [{}/{} ({:.0f}%)]\\tLoss: {:.6f}'.format(\n",
        "                epoch, batch_idx * len(data), len(train_loader.dataset),\n",
        "                100. * batch_idx / len(train_loader), loss.data.item()))\n",
        "            \n",
        "            \n",
        "\n",
        "           "
      ],
      "execution_count": 0,
      "outputs": []
    },
    {
      "cell_type": "markdown",
      "metadata": {
        "id": "nhlCRbmocFBd",
        "colab_type": "text"
      },
      "source": [
        "We similarly have the helper function `validate` where we compute the validation loss for every epoch. "
      ]
    },
    {
      "cell_type": "code",
      "metadata": {
        "id": "wEDHeqV1XbQs",
        "colab_type": "code",
        "colab": {}
      },
      "source": [
        "def validate(loss_vector, accuracy_vector):\n",
        "    model.eval()\n",
        "    val_loss, correct = 0, 0\n",
        "    for data, target in validation_loader:\n",
        "        data = data.to(device)\n",
        "        target = target.to(device)\n",
        "        output = model(data)\n",
        "        val_loss += criterion(output, target).data.item()\n",
        "        pred = output.data.max(1)[1] # get the index of the max log-probability\n",
        "        correct += pred.eq(target.data).cpu().sum()\n",
        "\n",
        "    val_loss /= len(validation_loader)\n",
        "    loss_vector.append(val_loss)\n",
        "\n",
        "    accuracy = 100. * correct.to(torch.float32) / len(validation_loader.dataset)\n",
        "    accuracy_vector.append(accuracy)\n",
        "    \n",
        "    print('\\nValidation set: Average loss: {:.4f}, Accuracy: {}/{} ({:.0f}%)\\n'.format(\n",
        "        val_loss, correct, len(validation_loader.dataset), accuracy)) "
      ],
      "execution_count": 0,
      "outputs": []
    },
    {
      "cell_type": "markdown",
      "metadata": {
        "id": "nJiGVa74cg3L",
        "colab_type": "text"
      },
      "source": [
        "Now we finally iterate through training the network! In our illustrative example we will only train for 5 epochs but in practice you  will want to train for more."
      ]
    },
    {
      "cell_type": "code",
      "metadata": {
        "id": "_wFP1v3PB5M_",
        "colab_type": "code",
        "outputId": "835a1dc1-6c8d-4cb8-839b-e53ea51fc15d",
        "colab": {
          "base_uri": "https://localhost:8080/",
          "height": 1156
        }
      },
      "source": [
        "%%time\n",
        "epochs = 5\n",
        "\n",
        "lossv, accv = [], []\n",
        "for epoch in range(1, epochs + 1):\n",
        "    train(epoch)\n",
        "    validate(lossv, accv)"
      ],
      "execution_count": 0,
      "outputs": [
        {
          "output_type": "stream",
          "text": [
            "Train Epoch: 1 [0/60000 (0%)]\tLoss: 2.304025\n",
            "Train Epoch: 1 [6400/60000 (11%)]\tLoss: 0.768343\n",
            "Train Epoch: 1 [12800/60000 (21%)]\tLoss: 0.381467\n",
            "Train Epoch: 1 [19200/60000 (32%)]\tLoss: 0.332935\n",
            "Train Epoch: 1 [25600/60000 (43%)]\tLoss: 0.374648\n",
            "Train Epoch: 1 [32000/60000 (53%)]\tLoss: 0.403438\n",
            "Train Epoch: 1 [38400/60000 (64%)]\tLoss: 0.437832\n",
            "Train Epoch: 1 [44800/60000 (75%)]\tLoss: 0.196312\n",
            "Train Epoch: 1 [51200/60000 (85%)]\tLoss: 0.161528\n",
            "Train Epoch: 1 [57600/60000 (96%)]\tLoss: 0.377965\n",
            "\n",
            "Validation set: Average loss: 0.3109, Accuracy: 9111/10000 (91%)\n",
            "\n",
            "Train Epoch: 2 [0/60000 (0%)]\tLoss: 0.487841\n",
            "Train Epoch: 2 [6400/60000 (11%)]\tLoss: 0.483424\n",
            "Train Epoch: 2 [12800/60000 (21%)]\tLoss: 0.333753\n",
            "Train Epoch: 2 [19200/60000 (32%)]\tLoss: 0.200992\n",
            "Train Epoch: 2 [25600/60000 (43%)]\tLoss: 0.110567\n",
            "Train Epoch: 2 [32000/60000 (53%)]\tLoss: 0.125804\n",
            "Train Epoch: 2 [38400/60000 (64%)]\tLoss: 0.396206\n",
            "Train Epoch: 2 [44800/60000 (75%)]\tLoss: 0.292536\n",
            "Train Epoch: 2 [51200/60000 (85%)]\tLoss: 0.490806\n",
            "Train Epoch: 2 [57600/60000 (96%)]\tLoss: 0.190976\n",
            "\n",
            "Validation set: Average loss: 0.2833, Accuracy: 9198/10000 (92%)\n",
            "\n",
            "Train Epoch: 3 [0/60000 (0%)]\tLoss: 0.203756\n",
            "Train Epoch: 3 [6400/60000 (11%)]\tLoss: 0.159625\n",
            "Train Epoch: 3 [12800/60000 (21%)]\tLoss: 0.181808\n",
            "Train Epoch: 3 [19200/60000 (32%)]\tLoss: 0.132293\n",
            "Train Epoch: 3 [25600/60000 (43%)]\tLoss: 0.184392\n",
            "Train Epoch: 3 [32000/60000 (53%)]\tLoss: 0.269045\n",
            "Train Epoch: 3 [38400/60000 (64%)]\tLoss: 0.317091\n",
            "Train Epoch: 3 [44800/60000 (75%)]\tLoss: 0.373034\n",
            "Train Epoch: 3 [51200/60000 (85%)]\tLoss: 0.440918\n",
            "Train Epoch: 3 [57600/60000 (96%)]\tLoss: 0.251159\n",
            "\n",
            "Validation set: Average loss: 0.2871, Accuracy: 9191/10000 (92%)\n",
            "\n",
            "Train Epoch: 4 [0/60000 (0%)]\tLoss: 0.241052\n",
            "Train Epoch: 4 [6400/60000 (11%)]\tLoss: 0.201769\n",
            "Train Epoch: 4 [12800/60000 (21%)]\tLoss: 0.519565\n",
            "Train Epoch: 4 [19200/60000 (32%)]\tLoss: 0.611298\n",
            "Train Epoch: 4 [25600/60000 (43%)]\tLoss: 0.292315\n",
            "Train Epoch: 4 [32000/60000 (53%)]\tLoss: 0.316062\n",
            "Train Epoch: 4 [38400/60000 (64%)]\tLoss: 0.109404\n",
            "Train Epoch: 4 [44800/60000 (75%)]\tLoss: 0.157112\n",
            "Train Epoch: 4 [51200/60000 (85%)]\tLoss: 0.229098\n",
            "Train Epoch: 4 [57600/60000 (96%)]\tLoss: 0.446860\n",
            "\n",
            "Validation set: Average loss: 0.2753, Accuracy: 9233/10000 (92%)\n",
            "\n",
            "Train Epoch: 5 [0/60000 (0%)]\tLoss: 0.119779\n",
            "Train Epoch: 5 [6400/60000 (11%)]\tLoss: 0.355283\n",
            "Train Epoch: 5 [12800/60000 (21%)]\tLoss: 0.638406\n",
            "Train Epoch: 5 [19200/60000 (32%)]\tLoss: 0.087961\n",
            "Train Epoch: 5 [25600/60000 (43%)]\tLoss: 0.277462\n",
            "Train Epoch: 5 [32000/60000 (53%)]\tLoss: 0.214205\n",
            "Train Epoch: 5 [38400/60000 (64%)]\tLoss: 0.472059\n",
            "Train Epoch: 5 [44800/60000 (75%)]\tLoss: 0.441169\n",
            "Train Epoch: 5 [51200/60000 (85%)]\tLoss: 0.112390\n",
            "Train Epoch: 5 [57600/60000 (96%)]\tLoss: 0.093722\n",
            "\n",
            "Validation set: Average loss: 0.2728, Accuracy: 9237/10000 (92%)\n",
            "\n",
            "CPU times: user 1min 3s, sys: 2.17 s, total: 1min 6s\n",
            "Wall time: 1min 6s\n"
          ],
          "name": "stdout"
        }
      ]
    },
    {
      "cell_type": "markdown",
      "metadata": {
        "id": "n7TyMBytcr4y",
        "colab_type": "text"
      },
      "source": [
        "After 5 epochs, we can plo how the loss and accuracy changed for each epoch:"
      ]
    },
    {
      "cell_type": "code",
      "metadata": {
        "id": "XFso8JZzCBMg",
        "colab_type": "code",
        "outputId": "5487fa8a-2af1-4428-c0b1-1957a4d9efbc",
        "colab": {
          "base_uri": "https://localhost:8080/",
          "height": 437
        }
      },
      "source": [
        "plt.figure(figsize=(5,3))\n",
        "plt.plot(np.arange(1,epochs+1), lossv)\n",
        "plt.title('validation loss')\n",
        "\n",
        "plt.figure(figsize=(5,3))\n",
        "plt.plot(np.arange(1,epochs+1), accv)\n",
        "plt.title('validation accuracy');"
      ],
      "execution_count": 0,
      "outputs": [
        {
          "output_type": "display_data",
          "data": {
            "image/png": "[encoded data removed]",
            "text/plain": [
              "<Figure size 360x216 with 1 Axes>"
            ]
          },
          "metadata": {
            "tags": []
          }
        },
        {
          "output_type": "display_data",
          "data": {
            "image/png": "[encoded data removed]",
            "text/plain": [
              "<Figure size 360x216 with 1 Axes>"
            ]
          },
          "metadata": {
            "tags": []
          }
        }
      ]
    },
    {
      "cell_type": "markdown",
      "metadata": {
        "id": "Iqn-S9TOHlyL",
        "colab_type": "text"
      },
      "source": [
        "# Weight initialization in neural networks\n",
        "\n",
        "\n",
        "The result of the neural network can be very sensitive to how weights are initialized. There are many different strategies for initializing the weights of a neural network and PyTorch provides convincience functions for the more popular initialization schemes. The `torch.nn.init` module contains a number of these functions. \n",
        "\n",
        "\n",
        "\n",
        "- `torch.nn.init.uniform_(tensor, a=0, b=1)`\n",
        "- `torch.nn.init.normal_(tensor, mean=0, std=1)`\n",
        "- `torch.nn.init.constant_(tensor, val)`\n",
        "- `torch.nn.init.eye_(tensor)`\n",
        "- `torch.nn.init.dirac_(tensor)`\n",
        "- `torch.nn.init.xavier_uniform_(tensor, gain=1)`\n",
        "- `torch.nn.init.xavier_normal_(tensor, gain=1)`\n",
        "- `torch.nn.init.kaiming_uniform_(tensor, a=0, mode='fan_in', nonlinearity='leaky_relu')`\n",
        "- `torch.nn.init.kaiming_normal_(tensor, a=0, mode='fan_in', nonlinearity='leaky_relu')`\n",
        "- `torch.nn.init.orthogonal_(tensor, gain=1)`\n",
        "- `torch.nn.init.sparse_(tensor, sparsity, std=0.01)`\n",
        "\n",
        "For example, if we want to create a tensor that has Identity initialization from a normal distribution, we just run:"
      ]
    },
    {
      "cell_type": "code",
      "metadata": {
        "id": "iua06RapCwj0",
        "colab_type": "code",
        "outputId": "99aacde6-1069-41bd-a6b0-084cb0e9174e",
        "colab": {
          "base_uri": "https://localhost:8080/",
          "height": 102
        }
      },
      "source": [
        "w = torch.empty(5, 5)\n",
        "torch.nn.init.eye_(w)"
      ],
      "execution_count": 0,
      "outputs": [
        {
          "output_type": "execute_result",
          "data": {
            "text/plain": [
              "tensor([[1., 0., 0., 0., 0.],\n",
              "        [0., 1., 0., 0., 0.],\n",
              "        [0., 0., 1., 0., 0.],\n",
              "        [0., 0., 0., 1., 0.],\n",
              "        [0., 0., 0., 0., 1.]])"
            ]
          },
          "metadata": {
            "tags": []
          },
          "execution_count": 19
        }
      ]
    },
    {
      "cell_type": "markdown",
      "metadata": {
        "id": "JqUOUDn3NEza",
        "colab_type": "text"
      },
      "source": [
        "If we want to initialize a tensor to be from a uniform distribution between the values of -3 and -2 (for exmaple), then we similarly execute:"
      ]
    },
    {
      "cell_type": "code",
      "metadata": {
        "id": "E0x4xn8mNELz",
        "colab_type": "code",
        "outputId": "6c4c9669-c28b-4fda-f4fc-c5a7e9152208",
        "colab": {
          "base_uri": "https://localhost:8080/",
          "height": 102
        }
      },
      "source": [
        "w = torch.empty(5, 5)\n",
        "torch.nn.init.uniform_(w, a = -3, b = -2)"
      ],
      "execution_count": 0,
      "outputs": [
        {
          "output_type": "execute_result",
          "data": {
            "text/plain": [
              "tensor([[-2.5619, -2.5951, -2.9953, -2.0815, -2.4360],\n",
              "        [-2.6373, -2.0486, -2.6107, -2.3840, -2.5237],\n",
              "        [-2.0752, -2.1740, -2.0585, -2.3693, -2.1509],\n",
              "        [-2.6660, -2.9415, -2.6313, -2.0703, -2.8004],\n",
              "        [-2.2263, -2.8522, -2.4063, -2.9217, -2.2011]])"
            ]
          },
          "metadata": {
            "tags": []
          },
          "execution_count": 20
        }
      ]
    },
    {
      "cell_type": "markdown",
      "metadata": {
        "id": "Q70sOL23NqhB",
        "colab_type": "text"
      },
      "source": [
        "If we want to apply a spefic type of intialization for a layer object, we have to apply the `torch.nn.init` function on the parameters instance variable of the layer object. For example, for the MLP where we use two linear layers, if we want to initialize the first linear layer `self.fc1` weight, we have to access the instanance variable `self.fc1.weight` to then pass to the desired initialization scheme we want. In the case of using a Normal Xavier initialization, we can simply just do `torch.nn.init.xavier_normal_(self.fc1.weight)` as part of the constructor of the `Net` class that we define. "
      ]
    },
    {
      "cell_type": "code",
      "metadata": {
        "id": "gOFhscF-H85f",
        "colab_type": "code",
        "outputId": "fca3c4bc-d6ee-4e3d-9d48-af9b1fe9a324",
        "colab": {
          "base_uri": "https://localhost:8080/",
          "height": 85
        }
      },
      "source": [
        "class Net(nn.Module):\n",
        "    def __init__(self):\n",
        "        super(Net, self).__init__()\n",
        "        self.fc1 = nn.Linear(28*28, 10000)\n",
        "        torch.nn.init.xavier_normal_(self.fc1.weight)\n",
        "        self.fc2 = nn.Linear(10000, 10)\n",
        "        torch.nn.init.xavier_normal_(self.fc2.weight)\n",
        "\n",
        "    def forward(self, x):\n",
        "        x = x.view(-1, 28*28)\n",
        "        z = torch.tanh(self.fc1(x))\n",
        "        return F.log_softmax(self.fc2(z), dim=1)\n",
        "\n",
        "model = Net().to(device)\n",
        "optimizer = torch.optim.SGD(model.parameters(), lr=0.01, momentum=0.5)\n",
        "criterion = nn.CrossEntropyLoss()\n",
        "\n",
        "print(model)"
      ],
      "execution_count": 0,
      "outputs": [
        {
          "output_type": "stream",
          "text": [
            "Net(\n",
            "  (fc1): Linear(in_features=784, out_features=10000, bias=True)\n",
            "  (fc2): Linear(in_features=10000, out_features=10, bias=True)\n",
            ")\n"
          ],
          "name": "stdout"
        }
      ]
    },
    {
      "cell_type": "code",
      "metadata": {
        "id": "KJAT42NhIMam",
        "colab_type": "code",
        "outputId": "e697baba-8024-41e2-e264-dbcd14bc5c07",
        "colab": {
          "base_uri": "https://localhost:8080/",
          "height": 1156
        }
      },
      "source": [
        "%%time\n",
        "epochs = 5\n",
        "\n",
        "lossv, accv = [], []\n",
        "for epoch in range(1, epochs + 1):\n",
        "    train(epoch)\n",
        "    validate(lossv, accv)"
      ],
      "execution_count": 0,
      "outputs": [
        {
          "output_type": "stream",
          "text": [
            "Train Epoch: 1 [0/60000 (0%)]\tLoss: 2.328075\n",
            "Train Epoch: 1 [6400/60000 (11%)]\tLoss: 0.463218\n",
            "Train Epoch: 1 [12800/60000 (21%)]\tLoss: 0.410965\n",
            "Train Epoch: 1 [19200/60000 (32%)]\tLoss: 0.502680\n",
            "Train Epoch: 1 [25600/60000 (43%)]\tLoss: 0.337229\n",
            "Train Epoch: 1 [32000/60000 (53%)]\tLoss: 0.263605\n",
            "Train Epoch: 1 [38400/60000 (64%)]\tLoss: 0.369612\n",
            "Train Epoch: 1 [44800/60000 (75%)]\tLoss: 0.245538\n",
            "Train Epoch: 1 [51200/60000 (85%)]\tLoss: 0.176293\n",
            "Train Epoch: 1 [57600/60000 (96%)]\tLoss: 0.240620\n",
            "\n",
            "Validation set: Average loss: 0.3053, Accuracy: 9146/10000 (91%)\n",
            "\n",
            "Train Epoch: 2 [0/60000 (0%)]\tLoss: 0.149343\n",
            "Train Epoch: 2 [6400/60000 (11%)]\tLoss: 0.254558\n",
            "Train Epoch: 2 [12800/60000 (21%)]\tLoss: 0.478351\n",
            "Train Epoch: 2 [19200/60000 (32%)]\tLoss: 0.206843\n",
            "Train Epoch: 2 [25600/60000 (43%)]\tLoss: 0.421685\n",
            "Train Epoch: 2 [32000/60000 (53%)]\tLoss: 0.285438\n",
            "Train Epoch: 2 [38400/60000 (64%)]\tLoss: 0.427840\n",
            "Train Epoch: 2 [44800/60000 (75%)]\tLoss: 0.102139\n",
            "Train Epoch: 2 [51200/60000 (85%)]\tLoss: 0.174123\n",
            "Train Epoch: 2 [57600/60000 (96%)]\tLoss: 0.305478\n",
            "\n",
            "Validation set: Average loss: 0.2893, Accuracy: 9186/10000 (92%)\n",
            "\n",
            "Train Epoch: 3 [0/60000 (0%)]\tLoss: 0.245687\n",
            "Train Epoch: 3 [6400/60000 (11%)]\tLoss: 0.233169\n",
            "Train Epoch: 3 [12800/60000 (21%)]\tLoss: 0.459473\n",
            "Train Epoch: 3 [19200/60000 (32%)]\tLoss: 0.522278\n",
            "Train Epoch: 3 [25600/60000 (43%)]\tLoss: 0.334478\n",
            "Train Epoch: 3 [32000/60000 (53%)]\tLoss: 0.213389\n",
            "Train Epoch: 3 [38400/60000 (64%)]\tLoss: 0.218908\n",
            "Train Epoch: 3 [44800/60000 (75%)]\tLoss: 0.268944\n",
            "Train Epoch: 3 [51200/60000 (85%)]\tLoss: 0.238532\n",
            "Train Epoch: 3 [57600/60000 (96%)]\tLoss: 0.207087\n",
            "\n",
            "Validation set: Average loss: 0.2833, Accuracy: 9201/10000 (92%)\n",
            "\n",
            "Train Epoch: 4 [0/60000 (0%)]\tLoss: 0.321478\n",
            "Train Epoch: 4 [6400/60000 (11%)]\tLoss: 0.153324\n",
            "Train Epoch: 4 [12800/60000 (21%)]\tLoss: 0.294013\n",
            "Train Epoch: 4 [19200/60000 (32%)]\tLoss: 0.169209\n",
            "Train Epoch: 4 [25600/60000 (43%)]\tLoss: 0.294970\n",
            "Train Epoch: 4 [32000/60000 (53%)]\tLoss: 0.323608\n",
            "Train Epoch: 4 [38400/60000 (64%)]\tLoss: 0.171416\n",
            "Train Epoch: 4 [44800/60000 (75%)]\tLoss: 0.372723\n",
            "Train Epoch: 4 [51200/60000 (85%)]\tLoss: 0.141667\n",
            "Train Epoch: 4 [57600/60000 (96%)]\tLoss: 0.091465\n",
            "\n",
            "Validation set: Average loss: 0.2732, Accuracy: 9227/10000 (92%)\n",
            "\n",
            "Train Epoch: 5 [0/60000 (0%)]\tLoss: 0.256705\n",
            "Train Epoch: 5 [6400/60000 (11%)]\tLoss: 0.201985\n",
            "Train Epoch: 5 [12800/60000 (21%)]\tLoss: 0.428630\n",
            "Train Epoch: 5 [19200/60000 (32%)]\tLoss: 0.163501\n",
            "Train Epoch: 5 [25600/60000 (43%)]\tLoss: 0.157410\n",
            "Train Epoch: 5 [32000/60000 (53%)]\tLoss: 0.392322\n",
            "Train Epoch: 5 [38400/60000 (64%)]\tLoss: 0.295773\n",
            "Train Epoch: 5 [44800/60000 (75%)]\tLoss: 0.431940\n",
            "Train Epoch: 5 [51200/60000 (85%)]\tLoss: 0.279441\n",
            "Train Epoch: 5 [57600/60000 (96%)]\tLoss: 0.244268\n",
            "\n",
            "Validation set: Average loss: 0.2741, Accuracy: 9214/10000 (92%)\n",
            "\n",
            "CPU times: user 1min 3s, sys: 2.09 s, total: 1min 5s\n",
            "Wall time: 1min 5s\n"
          ],
          "name": "stdout"
        }
      ]
    },
    {
      "cell_type": "markdown",
      "metadata": {
        "id": "97kdRCtOapNP",
        "colab_type": "text"
      },
      "source": [
        "And we finally visualize the losses and accuracy as epochs proceed:"
      ]
    },
    {
      "cell_type": "code",
      "metadata": {
        "id": "Ef-pTO30IPGh",
        "colab_type": "code",
        "outputId": "4ce1eec5-933a-479b-fa50-2907921fff81",
        "colab": {
          "base_uri": "https://localhost:8080/",
          "height": 437
        }
      },
      "source": [
        "plt.figure(figsize=(5,3))\n",
        "plt.plot(np.arange(1,epochs+1), lossv)\n",
        "plt.title('validation loss')\n",
        "\n",
        "plt.figure(figsize=(5,3))\n",
        "plt.plot(np.arange(1,epochs+1), accv)\n",
        "plt.title('validation accuracy');"
      ],
      "execution_count": 0,
      "outputs": [
        {
          "output_type": "display_data",
          "data": {
            "image/png": "[encoded data removed]",
            "text/plain": [
              "<Figure size 360x216 with 1 Axes>"
            ]
          },
          "metadata": {
            "tags": []
          }
        },
        {
          "output_type": "display_data",
          "data": {
            "image/png": "[encoded data removed]",
            "text/plain": [
              "<Figure size 360x216 with 1 Axes>"
            ]
          },
          "metadata": {
            "tags": []
          }
        }
      ]
    },
    {
      "cell_type": "markdown",
      "metadata": {
        "id": "Fpzoak5SQFnN",
        "colab_type": "text"
      },
      "source": [
        "# Batch Normalization\n",
        "\n",
        "\n",
        "The effectiveness of a neural network  is crucial to ensuring that the input activity of the neuron is within a \"sweet spot\" - that is, it it not too large or too small. This is because if the input activities of the network are uncontrolled, then during learning the training may suffer from the \"vanishing gradient\" or \"exploding gradient\" problem that makes learning difficult. \n",
        "\n",
        "A popular method to ensure the dynamic range of inputs that a neuron id within a standard range is Batch Normalization. Batch Normalization in PyTorch is simply an additional layer that we typically apply before applying the activtion function (although some argue it should be applied after). What Batch Normalization in a layer does is:\n",
        "\n",
        "$y = \\frac{x - E[x]}{\\sqrt{\\text{Var}[x] + \\epsilon}}\\gamma + \\beta$\n",
        "\n",
        "where $E[x]$ is the mean of $x$ and $\\text{Var}[x]$ is the variance.  The fraction $\\frac{x - E[x]}{\\sqrt{\\text{Var}[x] + \\epsilon}}$ is referred to as z-scaling that scalies $x$ to have mean zero and variance 1.0. The $\\gamma$ and $\\beta$ parameters are learned by the network to scale. Learning $\\gamma$ and $\\beta$ makes re-scaling the input activity to the neuron adaptive to the problem at hand and the particularities of the distributions and as a result Batch Normalization is popular in practice. \n",
        "\n",
        "In PyTorch we can use the `torch.nn.BatchNorm1d` class to create a layer object for the MLP network. As all layers, we define thie layer object in the constructor of the class and apply it before the activation function. \n"
      ]
    },
    {
      "cell_type": "code",
      "metadata": {
        "id": "DyT9KYzEKQAl",
        "colab_type": "code",
        "outputId": "bfc3592c-a0b7-4866-a740-c81a6bcbd4bd",
        "colab": {
          "base_uri": "https://localhost:8080/",
          "height": 102
        }
      },
      "source": [
        "class Net(nn.Module):\n",
        "    def __init__(self):\n",
        "        super(Net, self).__init__()\n",
        "        self.fc1 = nn.Linear(28*28, 10000)\n",
        "        self.bn = nn.BatchNorm1d(10000)\n",
        "        self.fc2 = nn.Linear(10000, 10)\n",
        "\n",
        "    def forward(self, x):\n",
        "        x = x.view(-1, 28*28)\n",
        "        z = torch.tanh(self.bn(self.fc1(x)))\n",
        "        return F.log_softmax(self.fc2(z), dim=1)\n",
        "\n",
        "model = Net().to(device)\n",
        "optimizer = torch.optim.SGD(model.parameters(), lr=0.01, momentum=0.5)\n",
        "criterion = nn.CrossEntropyLoss()\n",
        "\n",
        "print(model)"
      ],
      "execution_count": 0,
      "outputs": [
        {
          "output_type": "stream",
          "text": [
            "Net(\n",
            "  (fc1): Linear(in_features=784, out_features=10000, bias=True)\n",
            "  (bn): BatchNorm1d(10000, eps=1e-05, momentum=0.1, affine=True, track_running_stats=True)\n",
            "  (fc2): Linear(in_features=10000, out_features=10, bias=True)\n",
            ")\n"
          ],
          "name": "stdout"
        }
      ]
    },
    {
      "cell_type": "code",
      "metadata": {
        "id": "sfNV7r2JQb8d",
        "colab_type": "code",
        "outputId": "3ac86f0f-7c85-4afd-958f-1413c2f0962c",
        "colab": {
          "base_uri": "https://localhost:8080/",
          "height": 1156
        }
      },
      "source": [
        "%%time\n",
        "epochs = 5\n",
        "\n",
        "lossv, accv = [], []\n",
        "for epoch in range(1, epochs + 1):\n",
        "    train(epoch)\n",
        "    validate(lossv, accv)\n",
        "    "
      ],
      "execution_count": 0,
      "outputs": [
        {
          "output_type": "stream",
          "text": [
            "Train Epoch: 1 [0/60000 (0%)]\tLoss: 2.297954\n",
            "Train Epoch: 1 [6400/60000 (11%)]\tLoss: 0.506541\n",
            "Train Epoch: 1 [12800/60000 (21%)]\tLoss: 0.233830\n",
            "Train Epoch: 1 [19200/60000 (32%)]\tLoss: 0.087720\n",
            "Train Epoch: 1 [25600/60000 (43%)]\tLoss: 0.440294\n",
            "Train Epoch: 1 [32000/60000 (53%)]\tLoss: 0.409432\n",
            "Train Epoch: 1 [38400/60000 (64%)]\tLoss: 0.338258\n",
            "Train Epoch: 1 [44800/60000 (75%)]\tLoss: 0.257217\n",
            "Train Epoch: 1 [51200/60000 (85%)]\tLoss: 0.113326\n",
            "Train Epoch: 1 [57600/60000 (96%)]\tLoss: 0.260220\n",
            "\n",
            "Validation set: Average loss: 0.2698, Accuracy: 9198/10000 (92%)\n",
            "\n",
            "Train Epoch: 2 [0/60000 (0%)]\tLoss: 0.180472\n",
            "Train Epoch: 2 [6400/60000 (11%)]\tLoss: 0.298486\n",
            "Train Epoch: 2 [12800/60000 (21%)]\tLoss: 0.170667\n",
            "Train Epoch: 2 [19200/60000 (32%)]\tLoss: 0.151286\n",
            "Train Epoch: 2 [25600/60000 (43%)]\tLoss: 0.166519\n",
            "Train Epoch: 2 [32000/60000 (53%)]\tLoss: 0.340997\n",
            "Train Epoch: 2 [38400/60000 (64%)]\tLoss: 0.278506\n",
            "Train Epoch: 2 [44800/60000 (75%)]\tLoss: 0.033884\n",
            "Train Epoch: 2 [51200/60000 (85%)]\tLoss: 0.249355\n",
            "Train Epoch: 2 [57600/60000 (96%)]\tLoss: 0.173189\n",
            "\n",
            "Validation set: Average loss: 0.2181, Accuracy: 9368/10000 (94%)\n",
            "\n",
            "Train Epoch: 3 [0/60000 (0%)]\tLoss: 0.283870\n",
            "Train Epoch: 3 [6400/60000 (11%)]\tLoss: 0.111702\n",
            "Train Epoch: 3 [12800/60000 (21%)]\tLoss: 0.165015\n",
            "Train Epoch: 3 [19200/60000 (32%)]\tLoss: 0.215609\n",
            "Train Epoch: 3 [25600/60000 (43%)]\tLoss: 0.189570\n",
            "Train Epoch: 3 [32000/60000 (53%)]\tLoss: 0.323516\n",
            "Train Epoch: 3 [38400/60000 (64%)]\tLoss: 0.218769\n",
            "Train Epoch: 3 [44800/60000 (75%)]\tLoss: 0.065259\n",
            "Train Epoch: 3 [51200/60000 (85%)]\tLoss: 0.050822\n",
            "Train Epoch: 3 [57600/60000 (96%)]\tLoss: 0.113943\n",
            "\n",
            "Validation set: Average loss: 0.1836, Accuracy: 9452/10000 (95%)\n",
            "\n",
            "Train Epoch: 4 [0/60000 (0%)]\tLoss: 0.198739\n",
            "Train Epoch: 4 [6400/60000 (11%)]\tLoss: 0.183553\n",
            "Train Epoch: 4 [12800/60000 (21%)]\tLoss: 0.208143\n",
            "Train Epoch: 4 [19200/60000 (32%)]\tLoss: 0.350522\n",
            "Train Epoch: 4 [25600/60000 (43%)]\tLoss: 0.203666\n",
            "Train Epoch: 4 [32000/60000 (53%)]\tLoss: 0.038198\n",
            "Train Epoch: 4 [38400/60000 (64%)]\tLoss: 0.278450\n",
            "Train Epoch: 4 [44800/60000 (75%)]\tLoss: 0.288592\n",
            "Train Epoch: 4 [51200/60000 (85%)]\tLoss: 0.108085\n",
            "Train Epoch: 4 [57600/60000 (96%)]\tLoss: 0.128966\n",
            "\n",
            "Validation set: Average loss: 0.1503, Accuracy: 9581/10000 (96%)\n",
            "\n",
            "Train Epoch: 5 [0/60000 (0%)]\tLoss: 0.146997\n",
            "Train Epoch: 5 [6400/60000 (11%)]\tLoss: 0.066106\n",
            "Train Epoch: 5 [12800/60000 (21%)]\tLoss: 0.141636\n",
            "Train Epoch: 5 [19200/60000 (32%)]\tLoss: 0.206173\n",
            "Train Epoch: 5 [25600/60000 (43%)]\tLoss: 0.086429\n",
            "Train Epoch: 5 [32000/60000 (53%)]\tLoss: 0.033287\n",
            "Train Epoch: 5 [38400/60000 (64%)]\tLoss: 0.055643\n",
            "Train Epoch: 5 [44800/60000 (75%)]\tLoss: 0.215878\n",
            "Train Epoch: 5 [51200/60000 (85%)]\tLoss: 0.086249\n",
            "Train Epoch: 5 [57600/60000 (96%)]\tLoss: 0.024109\n",
            "\n",
            "Validation set: Average loss: 0.1337, Accuracy: 9610/10000 (96%)\n",
            "\n",
            "CPU times: user 1min 9s, sys: 2.18 s, total: 1min 11s\n",
            "Wall time: 1min 11s\n"
          ],
          "name": "stdout"
        }
      ]
    },
    {
      "cell_type": "code",
      "metadata": {
        "id": "905pLTHih9jb",
        "colab_type": "code",
        "outputId": "7b88d216-bc7e-4477-b18e-89784a367d66",
        "colab": {
          "base_uri": "https://localhost:8080/",
          "height": 437
        }
      },
      "source": [
        "plt.figure(figsize=(5,3))\n",
        "plt.plot(np.arange(1,epochs+1), lossv)\n",
        "plt.title('validation loss')\n",
        "\n",
        "plt.figure(figsize=(5,3))\n",
        "plt.plot(np.arange(1,epochs+1), accv)\n",
        "plt.title('validation accuracy');"
      ],
      "execution_count": 0,
      "outputs": [
        {
          "output_type": "display_data",
          "data": {
            "image/png": "[encoded data removed]",
            "text/plain": [
              "<Figure size 360x216 with 1 Axes>"
            ]
          },
          "metadata": {
            "tags": []
          }
        },
        {
          "output_type": "display_data",
          "data": {
            "image/png": "[encoded data removed]",
            "text/plain": [
              "<Figure size 360x216 with 1 Axes>"
            ]
          },
          "metadata": {
            "tags": []
          }
        }
      ]
    },
    {
      "cell_type": "markdown",
      "metadata": {
        "id": "WgXRPpYgZXvZ",
        "colab_type": "text"
      },
      "source": [
        "# ResNet\n",
        "\n",
        "\n",
        "The ResNet architecture is a slight modification to the original MLP architecture, but has been shown to be extremely effective for training deep networks. A ResNet introduces an additional *skip* connection that preserves a representation of an input. \n",
        "\n",
        "Specifically the network ResNet layer is as follows:\n",
        "\n",
        "$y = f(x) + x$\n",
        "\n",
        "Where $x$ is the hidden representation and $f(\\cdot)$ is the activatvation function. There are several reasons why including such a direct connection to the output is interesting. One idea might be that $x$ already may have information that is valuable that we want to keep in the forward pass. Another idea is that during the backward pass, such additive connections ensure that gradients flow back. This latter point is especially beneficial for deeper networks and may hence explain their popularity in deeper networks. "
      ]
    },
    {
      "cell_type": "code",
      "metadata": {
        "id": "AYa5RwSPQfgv",
        "colab_type": "code",
        "outputId": "10a9080a-938a-444b-c5f8-032f78860f76",
        "colab": {
          "base_uri": "https://localhost:8080/",
          "height": 238
        }
      },
      "source": [
        "class Net(nn.Module):\n",
        "    def __init__(self):\n",
        "        super(Net, self).__init__()\n",
        "        self.fc1 = nn.Linear(28*28, 1000)\n",
        "        self.bn1 = nn.BatchNorm1d(1000)\n",
        "        self.fc2 = nn.Linear(1000, 1000)\n",
        "        self.bn2 = nn.BatchNorm1d(1000)\n",
        "        self.fc3 = nn.Linear(1000, 1000)\n",
        "        self.bn3 = nn.BatchNorm1d(1000)\n",
        "        self.fc4 = nn.Linear(1000, 1000)\n",
        "        self.bn4 = nn.BatchNorm1d(1000)\n",
        "        self.fc5 = nn.Linear(1000, 1000)\n",
        "        self.bn5 = nn.BatchNorm1d(1000)\n",
        "        self.fc6 = nn.Linear(1000, 10)\n",
        "\n",
        "    def forward(self, x):\n",
        "        x = x.view(-1, 28*28)\n",
        "        z = self.bn1(torch.tanh(self.fc1(x)))\n",
        "        z = self.bn2(torch.tanh(self.fc2(z)) + z)\n",
        "        z = self.bn3(torch.tanh(self.fc3(z)) + z)\n",
        "        z = self.bn4(torch.tanh(self.fc4(z)) + z)\n",
        "        z = self.bn5(torch.tanh(self.fc5(z)) + z)\n",
        "        \n",
        "        return F.log_softmax(self.fc6(z), dim=1)\n",
        "\n",
        "model = Net().to(device)\n",
        "optimizer = torch.optim.SGD(model.parameters(), lr=0.01, momentum=0.5)\n",
        "criterion = nn.CrossEntropyLoss()\n",
        "\n",
        "print(model)"
      ],
      "execution_count": 0,
      "outputs": [
        {
          "output_type": "stream",
          "text": [
            "Net(\n",
            "  (fc1): Linear(in_features=784, out_features=1000, bias=True)\n",
            "  (bn1): BatchNorm1d(1000, eps=1e-05, momentum=0.1, affine=True, track_running_stats=True)\n",
            "  (fc2): Linear(in_features=1000, out_features=1000, bias=True)\n",
            "  (bn2): BatchNorm1d(1000, eps=1e-05, momentum=0.1, affine=True, track_running_stats=True)\n",
            "  (fc3): Linear(in_features=1000, out_features=1000, bias=True)\n",
            "  (bn3): BatchNorm1d(1000, eps=1e-05, momentum=0.1, affine=True, track_running_stats=True)\n",
            "  (fc4): Linear(in_features=1000, out_features=1000, bias=True)\n",
            "  (bn4): BatchNorm1d(1000, eps=1e-05, momentum=0.1, affine=True, track_running_stats=True)\n",
            "  (fc5): Linear(in_features=1000, out_features=1000, bias=True)\n",
            "  (bn5): BatchNorm1d(1000, eps=1e-05, momentum=0.1, affine=True, track_running_stats=True)\n",
            "  (fc6): Linear(in_features=1000, out_features=10, bias=True)\n",
            ")\n"
          ],
          "name": "stdout"
        }
      ]
    },
    {
      "cell_type": "code",
      "metadata": {
        "id": "PFLb8fBQZ30m",
        "colab_type": "code",
        "outputId": "a78d62fe-822f-4cd0-8545-521022412a30",
        "colab": {
          "base_uri": "https://localhost:8080/",
          "height": 1156
        }
      },
      "source": [
        "%%time\n",
        "epochs = 5\n",
        "\n",
        "lossv, accv = [], []\n",
        "for epoch in range(1, epochs + 1):\n",
        "    train(epoch)\n",
        "    validate(lossv, accv)\n",
        "    "
      ],
      "execution_count": 0,
      "outputs": [
        {
          "output_type": "stream",
          "text": [
            "Train Epoch: 1 [0/60000 (0%)]\tLoss: 2.288976\n",
            "Train Epoch: 1 [6400/60000 (11%)]\tLoss: 0.230527\n",
            "Train Epoch: 1 [12800/60000 (21%)]\tLoss: 0.737520\n",
            "Train Epoch: 1 [19200/60000 (32%)]\tLoss: 0.240840\n",
            "Train Epoch: 1 [25600/60000 (43%)]\tLoss: 0.179574\n",
            "Train Epoch: 1 [32000/60000 (53%)]\tLoss: 0.508189\n",
            "Train Epoch: 1 [38400/60000 (64%)]\tLoss: 0.390032\n",
            "Train Epoch: 1 [44800/60000 (75%)]\tLoss: 0.544935\n",
            "Train Epoch: 1 [51200/60000 (85%)]\tLoss: 0.069176\n",
            "Train Epoch: 1 [57600/60000 (96%)]\tLoss: 0.052319\n",
            "\n",
            "Validation set: Average loss: 0.2596, Accuracy: 9249/10000 (92%)\n",
            "\n",
            "Train Epoch: 2 [0/60000 (0%)]\tLoss: 0.400806\n",
            "Train Epoch: 2 [6400/60000 (11%)]\tLoss: 0.242284\n",
            "Train Epoch: 2 [12800/60000 (21%)]\tLoss: 0.336081\n",
            "Train Epoch: 2 [19200/60000 (32%)]\tLoss: 0.255398\n",
            "Train Epoch: 2 [25600/60000 (43%)]\tLoss: 0.289328\n",
            "Train Epoch: 2 [32000/60000 (53%)]\tLoss: 0.184485\n",
            "Train Epoch: 2 [38400/60000 (64%)]\tLoss: 0.227586\n",
            "Train Epoch: 2 [44800/60000 (75%)]\tLoss: 0.049468\n",
            "Train Epoch: 2 [51200/60000 (85%)]\tLoss: 0.177205\n",
            "Train Epoch: 2 [57600/60000 (96%)]\tLoss: 0.428814\n",
            "\n",
            "Validation set: Average loss: 0.1797, Accuracy: 9463/10000 (95%)\n",
            "\n",
            "Train Epoch: 3 [0/60000 (0%)]\tLoss: 0.202570\n",
            "Train Epoch: 3 [6400/60000 (11%)]\tLoss: 0.160454\n",
            "Train Epoch: 3 [12800/60000 (21%)]\tLoss: 0.164610\n",
            "Train Epoch: 3 [19200/60000 (32%)]\tLoss: 0.052898\n",
            "Train Epoch: 3 [25600/60000 (43%)]\tLoss: 0.047909\n",
            "Train Epoch: 3 [32000/60000 (53%)]\tLoss: 0.453768\n",
            "Train Epoch: 3 [38400/60000 (64%)]\tLoss: 0.139938\n",
            "Train Epoch: 3 [44800/60000 (75%)]\tLoss: 0.125003\n",
            "Train Epoch: 3 [51200/60000 (85%)]\tLoss: 0.242284\n",
            "Train Epoch: 3 [57600/60000 (96%)]\tLoss: 0.115536\n",
            "\n",
            "Validation set: Average loss: 0.1302, Accuracy: 9620/10000 (96%)\n",
            "\n",
            "Train Epoch: 4 [0/60000 (0%)]\tLoss: 0.061570\n",
            "Train Epoch: 4 [6400/60000 (11%)]\tLoss: 0.302102\n",
            "Train Epoch: 4 [12800/60000 (21%)]\tLoss: 0.240275\n",
            "Train Epoch: 4 [19200/60000 (32%)]\tLoss: 0.110032\n",
            "Train Epoch: 4 [25600/60000 (43%)]\tLoss: 0.118963\n",
            "Train Epoch: 4 [32000/60000 (53%)]\tLoss: 0.225038\n",
            "Train Epoch: 4 [38400/60000 (64%)]\tLoss: 0.396815\n",
            "Train Epoch: 4 [44800/60000 (75%)]\tLoss: 0.126245\n",
            "Train Epoch: 4 [51200/60000 (85%)]\tLoss: 0.232487\n",
            "Train Epoch: 4 [57600/60000 (96%)]\tLoss: 0.024503\n",
            "\n",
            "Validation set: Average loss: 0.1143, Accuracy: 9651/10000 (97%)\n",
            "\n",
            "Train Epoch: 5 [0/60000 (0%)]\tLoss: 0.104509\n",
            "Train Epoch: 5 [6400/60000 (11%)]\tLoss: 0.107299\n",
            "Train Epoch: 5 [12800/60000 (21%)]\tLoss: 0.051708\n",
            "Train Epoch: 5 [19200/60000 (32%)]\tLoss: 0.272057\n",
            "Train Epoch: 5 [25600/60000 (43%)]\tLoss: 0.026810\n",
            "Train Epoch: 5 [32000/60000 (53%)]\tLoss: 0.027569\n",
            "Train Epoch: 5 [38400/60000 (64%)]\tLoss: 0.055038\n",
            "Train Epoch: 5 [44800/60000 (75%)]\tLoss: 0.102002\n",
            "Train Epoch: 5 [51200/60000 (85%)]\tLoss: 0.058800\n",
            "Train Epoch: 5 [57600/60000 (96%)]\tLoss: 0.169874\n",
            "\n",
            "Validation set: Average loss: 0.0991, Accuracy: 9705/10000 (97%)\n",
            "\n",
            "CPU times: user 1min 43s, sys: 2.26 s, total: 1min 45s\n",
            "Wall time: 1min 45s\n"
          ],
          "name": "stdout"
        }
      ]
    },
    {
      "cell_type": "code",
      "metadata": {
        "id": "W2P-9Jc8Z90-",
        "colab_type": "code",
        "outputId": "458483d3-f1e5-4ebf-e321-947525029076",
        "colab": {
          "base_uri": "https://localhost:8080/",
          "height": 437
        }
      },
      "source": [
        "plt.figure(figsize=(5,3))\n",
        "plt.plot(np.arange(1,epochs+1), lossv)\n",
        "plt.title('validation loss')\n",
        "\n",
        "plt.figure(figsize=(5,3))\n",
        "plt.plot(np.arange(1,epochs+1), accv)\n",
        "plt.title('validation accuracy');"
      ],
      "execution_count": 0,
      "outputs": [
        {
          "output_type": "display_data",
          "data": {
            "image/png": "[encoded data removed]",
            "text/plain": [
              "<Figure size 360x216 with 1 Axes>"
            ]
          },
          "metadata": {
            "tags": []
          }
        },
        {
          "output_type": "display_data",
          "data": {
            "image/png": "[encoded data removed]",
            "text/plain": [
              "<Figure size 360x216 with 1 Axes>"
            ]
          },
          "metadata": {
            "tags": []
          }
        }
      ]
    },
    {
      "cell_type": "markdown",
      "metadata": {
        "id": "CkGc3rrwdeP5",
        "colab_type": "text"
      },
      "source": [
        "# Predicting the Price of Housing\n",
        "\n",
        "\n",
        "Here we will apply what we have learned on a regression problem. In regression problems we try to predict a continous variable as opposed to classes or different categories. We saw an expample of regression in the previous chapter where we trying to predict the progression of diabetes as measured by a continuous variable. \n",
        "\n",
        "In this chapter we will look at predicting the price of homes based on several socio-economic variables. This dataset was originally prepared by researchers from Carnegie Mellon University and is hosted on several data sharing platforms. We will be using the dataset hosted by Scikit-Learn. From the Scikit-Learn website, the input variables that are used for predicting housing prices are:\n",
        "\n",
        "\t\n",
        "- `CRIM`: per capita crime rate by town\n",
        "- `ZN`: proportion of residential land zoned for lots over 25,000 sq.ft.\n",
        "- `INDUS`: proportion of non-retail business acres per town\n",
        "- `CHAS`: Charles River dummy variable (= 1 if tract bounds river; 0 otherwise)\n",
        "- `NOX`: nitric oxides concentration (parts per 10 million)\n",
        "- `RM`: average number of rooms per dwelling\n",
        "- `AGE`: proportion of owner-occupied units built prior to 1940\n",
        "- `DIS`: weighted distances to five Boston employment centres\n",
        "- `RAD`: index of accessibility to radial highways\n",
        "- `TAX`: full-value property-tax rate per $10,000\n",
        "- `PTRATIO`: pupil-teacher ratio by town\n",
        "- `B 1000(Bk - 0.63)^2`: where Bk is the proportion of blacks by town\n",
        "- `LSTAT`: % lower status of the population\n",
        "\n",
        "These features are then used to predict the target:\n",
        "\n",
        "- `MEDV`: Median value of owner-occupied homes in $1000’s\n",
        "\n",
        "\n",
        "### Aside: the issue of disparate impact and ML fairness\n",
        "\n",
        "As machine learning has continued to grow ever more present in daily lives, many have raised concerns over the ethical implications of developing such models. While the development of fair and ethical ML is beyond the scope of this book (and indeed still developing), we still would like to bring awareness to readers the very real nature of this issue. In this example we can see potentially an ML model making deeper societal impacts. As the valuation of homes is used in investment and financial contexts, such models can be biased against historically disadvantaged groups. It is important that our models not be dependent on sensitive variables that can have unwiedly influence. "
      ]
    },
    {
      "cell_type": "code",
      "metadata": {
        "id": "62CYjtWKaXQw",
        "colab_type": "code",
        "colab": {}
      },
      "source": [
        "from sklearn.datasets import load_boston\n",
        "from sklearn.model_selection import train_test_split\n",
        "from torch.utils.data import Dataset, DataLoader\n",
        "\n",
        "import torch.nn as nn\n",
        "import torch.nn.functional as F"
      ],
      "execution_count": 0,
      "outputs": []
    },
    {
      "cell_type": "markdown",
      "metadata": {
        "id": "8bv5G7pQK3rH",
        "colab_type": "text"
      },
      "source": [
        "We use the `scikit-learn.datasets` module to import the housing data set. Since this dataset is small, we convert the loaded NumPy arrays to PyTorch tensors. "
      ]
    },
    {
      "cell_type": "code",
      "metadata": {
        "id": "M7rXcr-Gdjjb",
        "colab_type": "code",
        "colab": {}
      },
      "source": [
        "boston = load_boston()\n",
        "\n",
        "\n",
        "X_train, X_test, y_train, y_test = train_test_split(np.array(boston.data), \n",
        "                                                    np.array(boston.target))\n"
      ],
      "execution_count": 0,
      "outputs": []
    },
    {
      "cell_type": "markdown",
      "metadata": {
        "id": "QhCiv-FPeQqF",
        "colab_type": "text"
      },
      "source": [
        "As is typical, we scale the inputs to the network. The `StandardScaler` class from Scikit-learn provides us convinient functions for this. "
      ]
    },
    {
      "cell_type": "code",
      "metadata": {
        "id": "_bQ_NNGmekag",
        "colab_type": "code",
        "colab": {}
      },
      "source": [
        "from sklearn.preprocessing import StandardScaler\n",
        "scaler = StandardScaler()\n",
        "\n",
        "X_train = scaler.fit_transform(X_train)\n",
        "X_test = scaler.transform(X_test)"
      ],
      "execution_count": 0,
      "outputs": []
    },
    {
      "cell_type": "code",
      "metadata": {
        "id": "1izGvpXIcC0K",
        "colab_type": "code",
        "colab": {}
      },
      "source": [
        ""
      ],
      "execution_count": 0,
      "outputs": []
    },
    {
      "cell_type": "markdown",
      "metadata": {
        "id": "WVOChtv8Lc9B",
        "colab_type": "text"
      },
      "source": [
        "\n",
        "\n",
        "Next we will setup the dataset "
      ]
    },
    {
      "cell_type": "code",
      "metadata": {
        "id": "vn2zqbNZdliQ",
        "colab_type": "code",
        "colab": {}
      },
      "source": [
        "class BostonDataset(Dataset):\n",
        "    def __init__(self, X, y):\n",
        "        self.X = torch.from_numpy(X).float()\n",
        "        self.y = torch.from_numpy(y).float()\n",
        "\n",
        "\n",
        "    def __len__(self):\n",
        "        return len(self.y)\n",
        "\n",
        "    def __getitem__(self, idx):\n",
        "        return self.X[idx], self.y[idx]\n",
        "    \n",
        "dataset_train = BostonDataset(X_train, y_train)\n",
        "dataset_val = BostonDataset(X_train, y_train)\n",
        "\n",
        "dataloader_train = DataLoader(dataset_train, batch_size=4, shuffle=True)\n",
        "dataloader_val = DataLoader(dataset_val, batch_size=4, shuffle=False)    "
      ],
      "execution_count": 0,
      "outputs": []
    },
    {
      "cell_type": "markdown",
      "metadata": {
        "id": "TmkhqXUsef9p",
        "colab_type": "text"
      },
      "source": [
        "For the network we will setup a simple design:"
      ]
    },
    {
      "cell_type": "code",
      "metadata": {
        "id": "lK4q4wjrZ0uy",
        "colab_type": "code",
        "colab": {}
      },
      "source": [
        "class Net(nn.Module):\n",
        "    def __init__(self, hidden_size = 50):\n",
        "        super(Net, self).__init__()\n",
        "        self.fc1 = nn.Linear(13, hidden_size)\n",
        "        self.fc2 = nn.Linear(hidden_size, hidden_size)\n",
        "        self.fc3 = nn.Linear(hidden_size, hidden_size)\n",
        "        self.fc4 = nn.Linear(hidden_size, 1)\n",
        "\n",
        "    def forward(self, x):\n",
        "        z = torch.relu(self.fc1(x))\n",
        "        z = torch.relu(self.fc2(z)) + z\n",
        "        z = torch.relu(self.fc3(z)) + z\n",
        "        return self.fc4(z).squeeze()\n",
        "    \n",
        "    \n",
        "device = torch.device(\"cuda\") if torch.cuda.is_available() else torch.device(\"cpu\")    \n",
        "\n",
        "\n",
        "\n",
        "model = Net(hidden_size = 50).to(device)\n",
        "optimizer = torch.optim.Adam(model.parameters(), lr=1e-3)\n",
        "criterion = nn.MSELoss()\n",
        "\n",
        "print(model)"
      ],
      "execution_count": 0,
      "outputs": []
    },
    {
      "cell_type": "markdown",
      "metadata": {
        "id": "p4aZ2bBbeyDn",
        "colab_type": "text"
      },
      "source": [
        "We will define the train and test helper functions"
      ]
    },
    {
      "cell_type": "code",
      "metadata": {
        "id": "dWcOoEXDfkQZ",
        "colab_type": "code",
        "colab": {}
      },
      "source": [
        "def train(epoch, dataloader, model, criterion, optimizer, device):\n",
        "    model.train()\n",
        "    total_losses = []\n",
        "    for i_batch, (X_batch, y_batch) in enumerate(dataloader):\n",
        "        X_batch = X_batch.to(device)\n",
        "        y_batch = y_batch.to(device)\n",
        "\n",
        "        output = model(X_batch)\n",
        "\n",
        "\n",
        "        loss = criterion(output, y_batch)\n",
        "        total_losses.append(loss.item())\n",
        "        \n",
        "\n",
        "        optimizer.zero_grad()\n",
        "        loss.backward()\n",
        "        optimizer.step()\n",
        "        \n",
        "   \n",
        "    return np.mean(total_losses)\n",
        "        \n",
        "        \n",
        "def validation(epoch, dataloader, model, criterion, device):\n",
        "    model.eval()\n",
        "    total_losses = []\n",
        "    for i_batch, (X_batch, y_batch) in enumerate(dataloader):\n",
        "        X_batch = X_batch.to(device)\n",
        "        y_batch = y_batch.to(device)\n",
        "\n",
        "        output = model(X_batch)\n",
        "\n",
        "        loss = criterion(output, y_batch)\n",
        "\n",
        "\n",
        "        total_losses.append(loss.item())\n",
        "    \n",
        "    return np.mean(total_losses)"
      ],
      "execution_count": 0,
      "outputs": []
    },
    {
      "cell_type": "markdown",
      "metadata": {
        "id": "dsr4MNP1eww4",
        "colab_type": "text"
      },
      "source": [
        "Iteratre through the learning"
      ]
    },
    {
      "cell_type": "code",
      "metadata": {
        "id": "I4H8acTBgGWN",
        "colab_type": "code",
        "outputId": "15137f72-f923-433b-d401-2ac9acd83a65",
        "colab": {
          "base_uri": "https://localhost:8080/",
          "height": 187
        }
      },
      "source": [
        "num_epochs = 100\n",
        "train_losses = []\n",
        "test_losses = []\n",
        "for epoch in range(num_epochs):\n",
        "    train_losses.append(train(epoch, dataloader_train, model, criterion, \n",
        "                              optimizer, device))\n",
        "    \n",
        "    \n",
        "\n",
        "    \n",
        "    test_losses.append(validation(epoch, dataloader_val, model, criterion, \n",
        "                                      device))\n",
        "    \n",
        "    if epoch%10 == 0:\n",
        "        print(\"Train loss:\", str(train_losses[-1]), \n",
        "              \" Test Loss:\", str(test_losses[-1]))\n"
      ],
      "execution_count": 0,
      "outputs": [
        {
          "output_type": "stream",
          "text": [
            "Train loss: 275.3039780265407  Test Loss: 50.00608474455382\n",
            "Train loss: 12.747697494531932  Test Loss: 12.303003052033876\n",
            "Train loss: 9.570733691516676  Test Loss: 8.40562086481797\n",
            "Train loss: 7.746088411776643  Test Loss: 6.823711379578239\n",
            "Train loss: 6.025783428196844  Test Loss: 5.960394691166125\n",
            "Train loss: 5.344616805369917  Test Loss: 4.494842964881345\n",
            "Train loss: 4.985672436732995  Test Loss: 3.8823556925121108\n",
            "Train loss: 4.139282952954894  Test Loss: 4.465896533037487\n",
            "Train loss: 3.72100325164042  Test Loss: 3.35783042986142\n",
            "Train loss: 3.4109698043057795  Test Loss: 4.812321106383675\n"
          ],
          "name": "stdout"
        }
      ]
    },
    {
      "cell_type": "markdown",
      "metadata": {
        "id": "qBG6Atove3qA",
        "colab_type": "text"
      },
      "source": [
        "Finally we plot the learning curves"
      ]
    },
    {
      "cell_type": "code",
      "metadata": {
        "id": "vJbmCKdXgLkM",
        "colab_type": "code",
        "outputId": "1b8baaf8-2a45-4b77-8c99-5ced4cb8d84d",
        "colab": {
          "base_uri": "https://localhost:8080/",
          "height": 269
        }
      },
      "source": [
        "plt.plot(train_losses, label = 'train')\n",
        "plt.plot(test_losses, label='test')\n",
        "plt.legend();"
      ],
      "execution_count": 0,
      "outputs": [
        {
          "output_type": "display_data",
          "data": {
            "image/png": "[encoded data removed]",
            "text/plain": [
              "<Figure size 432x288 with 1 Axes>"
            ]
          },
          "metadata": {
            "tags": []
          }
        }
      ]
    },
    {
      "cell_type": "code",
      "metadata": {
        "id": "4_jqCaSGxpyW",
        "colab_type": "code",
        "colab": {}
      },
      "source": [
        ""
      ],
      "execution_count": 0,
      "outputs": []
    }
  ]
}