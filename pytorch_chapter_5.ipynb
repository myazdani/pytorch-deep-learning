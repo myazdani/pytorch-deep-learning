{
  "nbformat": 4,
  "nbformat_minor": 0,
  "metadata": {
    "colab": {
      "name": "pytorch-chapter-5.ipynb",
      "provenance": [],
      "collapsed_sections": [],
      "include_colab_link": true
    },
    "kernelspec": {
      "name": "python3",
      "display_name": "Python 3"
    },
    "accelerator": "GPU"
  },
  "cells": [
    {
      "cell_type": "markdown",
      "metadata": {
        "id": "view-in-github",
        "colab_type": "text"
      },
      "source": [
        "<a href=\"https://colab.research.google.com/github/myazdani/pytorch-deep-learning/blob/master/pytorch_chapter_5.ipynb\" target=\"_parent\"><img src=\"https://colab.research.google.com/assets/colab-badge.svg\" alt=\"Open In Colab\"/></a>"
      ]
    },
    {
      "cell_type": "markdown",
      "metadata": {
        "id": "fDOac008vAhH",
        "colab_type": "text"
      },
      "source": [
        "#Chapter 5"
      ]
    },
    {
      "cell_type": "code",
      "metadata": {
        "id": "xzfHQcryBJNm",
        "colab_type": "code",
        "colab": {}
      },
      "source": [
        "import numpy as np\n",
        "import seaborn as sns;\n",
        "import matplotlib.pyplot as plt\n",
        "%matplotlib inline"
      ],
      "execution_count": 0,
      "outputs": []
    },
    {
      "cell_type": "code",
      "metadata": {
        "id": "QK6JaCLJC5La",
        "colab_type": "code",
        "colab": {}
      },
      "source": [
        "import torch\n",
        "import torch.nn.functional as F\n",
        "from torchvision import datasets\n",
        "from torchvision import transforms\n",
        "from torch.utils.data import DataLoader, Dataset"
      ],
      "execution_count": 0,
      "outputs": []
    },
    {
      "cell_type": "code",
      "metadata": {
        "id": "7_PHR6k95xfC",
        "colab_type": "code",
        "colab": {}
      },
      "source": [
        "from sklearn.model_selection import train_test_split\n",
        "from sklearn.utils import shuffle"
      ],
      "execution_count": 0,
      "outputs": []
    },
    {
      "cell_type": "code",
      "metadata": {
        "id": "FxqvCxoBxsAf",
        "colab_type": "code",
        "colab": {}
      },
      "source": [
        "from IPython.core.debugger import set_trace"
      ],
      "execution_count": 0,
      "outputs": []
    },
    {
      "cell_type": "code",
      "metadata": {
        "id": "kX7l0XsZedSe",
        "colab_type": "code",
        "colab": {}
      },
      "source": [
        "if torch.cuda.is_available():\n",
        "    torch.backends.cudnn.deterministic = True"
      ],
      "execution_count": 0,
      "outputs": []
    },
    {
      "cell_type": "markdown",
      "metadata": {
        "id": "DvYrcN8FLKJd",
        "colab_type": "text"
      },
      "source": [
        "# Using AutoEncoders for data compression\n",
        "\n",
        "So far we have covered network that are trained on a pair of inputs $x$ and outputs $y$. Typically the outputs $y$ are something taht we want to predict from $x$. For example, in image classification we want to predict (or label) what the object is for a given input image $x$. The network that we learn will know how to map the input image pixels to a category. In this chapter we are going to train networks that do something much more foundational than just learning a a mapping between an input and output. The networks that we build in this section will learn how the data itself was created!\n",
        "\n",
        "If that sounds wild, it is. What do we even mean by \"how the data was created?\" At first this may seem like a completely nonsensical question. We almost always know how the data was created! For example, in the case of images, it is not a mystery how and where the image came from. Consider the image of a cat. We know this image came from a photographer taking a picture of the cat with a camera and perhaps transferring the image to a computer or printing it out. SO when we look at the picture of the cagt on the computer, we know where the image came from . \n",
        "\n",
        "But the question we are asking here is much deeper. What is it about the particularr arrangement of the pixels in the iamge that conveys a cat? How is it that the particular arrangement of pixels conveys the image of a cat as opposed to something else? There must be something very special about this particular arrangement of pixels. \n",
        "\n",
        "Lets consider a simpler set of images: the MNIST dataset. These are 28-by-28 gray scale images that show handwritten images betwen 0 to 9. In each image there are 28\\*28 = 784 pixels total. Since the images are grayscale, each pixel can take values between 0 to 255 or 2^8 distinct values. Given that each pixel can take 2^8 values and that there are 784 pixels total, there can be a grand total of 2^(8\\*784) or 2^6272  possible types of images. The total number of atoms in the universe is estimated around 2^246, far fewer than the total number of images that can be expressed with MNIST!  So even though the single image can be one of possibly many, the particular images we encounter are a tiny (very tiny!) subset of all possiblities. If we knew what subset of the data was relevant for us, that make the task of understanding the data much easier. \n",
        "\n",
        "\n",
        "\n",
        "As a concrete example, lets say we have a collection of data that is only 2-dimensiona. Unlike MNIST that is 784 dimensional, our toy dataset can be easily visualized in a garph. Here what the data looks like below:\n",
        "\n"
      ]
    },
    {
      "cell_type": "code",
      "metadata": {
        "id": "71daYTGBDO9y",
        "colab_type": "code",
        "outputId": "ef5151c8-aee5-453a-a290-c063f874e364",
        "colab": {
          "base_uri": "https://localhost:8080/",
          "height": 285
        }
      },
      "source": [
        "## we will generate the data set using NumPy\n",
        "x = np.random.rand(1000,2)\n",
        "plt.plot(x[:,0], x[:,1], '.')\n",
        "plt.xlabel(\"$x_1$\");\n",
        "plt.ylabel(\"$x_2$\");"
      ],
      "execution_count": 0,
      "outputs": [
        {
          "output_type": "display_data",
          "data": {
            "image/png": "[encoded data removed]",
            "text/plain": [
              "<Figure size 432x288 with 1 Axes>"
            ]
          },
          "metadata": {
            "tags": []
          }
        }
      ]
    },
    {
      "cell_type": "markdown",
      "metadata": {
        "id": "D_5mxzxQDyz-",
        "colab_type": "text"
      },
      "source": [
        "This dataset lacks any concrete structure and appears to be random dots on a 2D plane that lives on your screen (or paper if you have this printed). To describe this dataset  (ie, to represent it), we have no choice but to have a plane. We need two sets of coordinates: and x-axis coordinate and a y-axis. Let's now consider a different dataset (blue dots):"
      ]
    },
    {
      "cell_type": "code",
      "metadata": {
        "id": "RDtYVmWTAV6v",
        "colab_type": "code",
        "colab": {}
      },
      "source": [
        "## here we generate another dataset that is not just from a random uniform \n",
        "# class Generator(torch.nn.Module):\n",
        "\n",
        "#     def __init__(self, num_features, num_hidden_1):\n",
        "#         super(Generator, self).__init__()\n",
        "        \n",
        "#         self.linear_1 = torch.nn.Linear(num_features, num_hidden_1)\n",
        "#         self.linear_1_1 = torch.nn.Linear(num_hidden_1, num_hidden_1)\n",
        "#         self.linear_1_2 = torch.nn.Linear(num_hidden_1, num_hidden_1)\n",
        "        \n",
        "#         self.linear_2 = torch.nn.Linear(num_hidden_1, num_features)\n",
        "        \n",
        "\n",
        "#     def forward(self, x):\n",
        "        \n",
        "#         z = F.relu(self.linear_1(x))\n",
        "#         z = torch.tanh(self.linear_1_1(z))\n",
        "#         encoded = self.linear_1_2(z)\n",
        "#         encoded = torch.tanh(encoded)\n",
        "        \n",
        "#         outputs = self.linear_2(encoded)\n",
        "        \n",
        "#         return outputs\n",
        "# torch.manual_seed(42)\n",
        "# generator = Generator(num_features=1, num_hidden_1 = 30)\n",
        "    \n",
        "    \n"
      ],
      "execution_count": 0,
      "outputs": []
    },
    {
      "cell_type": "code",
      "metadata": {
        "id": "VZmhqjpsdi4I",
        "colab_type": "code",
        "outputId": "5f438e8e-cf82-4479-8d30-7c610c126e44",
        "colab": {
          "base_uri": "https://localhost:8080/",
          "height": 285
        }
      },
      "source": [
        "class Generator(torch.nn.Module):\n",
        "    \n",
        "    def forward(self, x):            \n",
        "        return x**2     \n",
        "\n",
        "    \n",
        "torch.manual_seed(42)\n",
        "generator = Generator()\n",
        "\n",
        "x1 = 1 - 2*torch.rand(1000,1)\n",
        "x2 = generator(x1)\n",
        "\n",
        "x2_observed = x2 + .1*torch.randn_like(x1)    \n",
        "\n",
        "x1_lin = torch.linspace(-1, 1, 1000).view(-1,1)\n",
        "plt.plot(x1.numpy(), x2_observed.detach().numpy(), '.', label = \"sampled data\")\n",
        "plt.plot(x1_lin.numpy(), generator(x1_lin).detach().numpy(), \n",
        "         label = \"actual\", linewidth = 3);\n",
        "plt.xlabel(\"$x_1$\");\n",
        "plt.ylabel(\"$x_2$\");\n",
        "plt.legend();"
      ],
      "execution_count": 0,
      "outputs": [
        {
          "output_type": "display_data",
          "data": {
            "image/png": "[encoded data removed]",
            "text/plain": [
              "<Figure size 432x288 with 1 Axes>"
            ]
          },
          "metadata": {
            "tags": []
          }
        }
      ]
    },
    {
      "cell_type": "markdown",
      "metadata": {
        "id": "tkREe3bQEdv6",
        "colab_type": "text"
      },
      "source": [
        "Though we are still visualizing this dataset on the 2D plane, it has far more structure than the previous dataset. Namely, the data is contrained to be only a specific part of the plane: a warped sort of line. This small space that is occuping the plane we will call the \"latent space\" or the \"hidden space\" and denote it as $z$. Unfortunately while the 2D data is given to us and is readily accessible the hidden space, as the name implies, is not given. For 2D data this is not much of an issue as we can from the guide of visualize take some guesses as to what the hidden space is. But in general (for exmample for MNIST that is 784D), visualization cannot help. If we knew about this hidden space, then we can develop algorithms just for the simpler space. Is it possible to design a network that wluld help us discover this latent space? \n",
        "\n",
        "This is wherer Auto Encoding Networks or AutoEncoders (AE) come into play. AEs have a particularr structure and loss function that aim at uncovering the latent space. The structure consists of two parrts: an encoder an a decoder. \n",
        "\n",
        "The encoder is a fan-in netwokr that consists of one or more layers. Each successive layer projets the dimension of the data to be lower. The output of the encoder is a bottleneck representation that is a much lower dimension than the input. In other words, the output of the encoder is a *compression* of the input. \n",
        "\n",
        "This lower dimensional (or bottleneck, or compressed) representation is hopefully a faithful representation of the original high dimensional input and we hypothesize that it corresponds  to the latent space of the input. But how do we know the bottleneck representation is indeed teh latent space if the latent space is hidden from us? \n",
        "\n",
        "\n",
        "This is where the decoder network comes in. The decoder network takes the compressed representation and through a series of one or moer layers successively increases the dimension of the data. The dimension is expanded until finallly the output dimension of the decoder is the same as the input dimension of the encoder.  Functionally, what the encoder and decoder networks compute is first compute the latent/encoded representation $z = f_{enc}(x)$, then followed by the decoding $\\hat{x} = f_{dec}(z)$ wher $x$ and $\\hat{x}$ both have dimension $D$ but $z \\in \\mathbb{R}^{d}$ with $d \\ll D$.\n",
        "\n",
        "If we have designed (that is, learned) good encoders and decoders, then $\\hat{x}$ will be very close to the original $x$. Afterall, if the compression $z$ is worth anything, we should be able to recover the original data. How do we design encoders and decoders that have such desirable properties? We define a loss between $x$ and $\\hat{x}$ and using SGD (that is, backprop) find the encoder and decoder network that minimize the loss. \n",
        "\n",
        "Let's define training and test datasets and their respective iterators for developing an AutoEncoder"
      ]
    },
    {
      "cell_type": "code",
      "metadata": {
        "id": "28ycAzfCV8du",
        "colab_type": "code",
        "colab": {}
      },
      "source": [
        "\n",
        "## Define the dataset class as usual\n",
        "class NoisyQuadraticDataset(Dataset):\n",
        "    def __init__(self, x):\n",
        "        self.X = x\n",
        "\n",
        "    def __len__(self):\n",
        "        return len(self.X)\n",
        "\n",
        "    def __getitem__(self, idx):\n",
        "        # get data sample\n",
        "        return self.X[idx,:]\n",
        "    \n",
        "# we will use 75% of the data for train and 25% for validation\n",
        "# since the data sampled was generated IID, we can just take the first 75% for\n",
        "# the training set and what remains as the validation set\n",
        "dataset_train = NoisyQuadraticDataset(torch.cat((x1[:750], x2_observed[:750]), 1))\n",
        "dataset_val = NoisyQuadraticDataset(torch.cat((x1[750:], x2_observed[750:]), 1))\n",
        "\n",
        "# we will create data loading iteratorrs with a batch size of 4\n",
        "dataloader_train = DataLoader(dataset_train, batch_size=4, shuffle=True)\n",
        "dataloader_val = DataLoader(dataset_val, batch_size=4, shuffle=False)    "
      ],
      "execution_count": 0,
      "outputs": []
    },
    {
      "cell_type": "markdown",
      "metadata": {
        "id": "nXfHzxpmelog",
        "colab_type": "text"
      },
      "source": [
        "We will first demonstrate how a purely linear Auto Encoder would perform. If we tie the decoder weights to be the same as the encoder weights, then this is essentially performing PCA. "
      ]
    },
    {
      "cell_type": "code",
      "metadata": {
        "id": "4ngXTG-gS1mo",
        "colab_type": "code",
        "colab": {}
      },
      "source": [
        "class LinearAutoEncoder(torch.nn.Module):\n",
        "\n",
        "    def __init__(self, num_inputs):\n",
        "        super(LinearAutoEncoder, self).__init__()\n",
        "        \n",
        "        self.linear_1 = torch.nn.Linear(num_inputs, 1)        \n",
        "        self.linear_2 = torch.nn.Linear(1, num_inputs)\n",
        "   \n",
        "    def encoder(self, x):\n",
        "        z = self.linear_1(x)\n",
        "        return z\n",
        "    \n",
        "    def decoder(self, z):\n",
        "        x_hat = self.linear_2(z)\n",
        "        return x_hat\n",
        "        \n",
        "\n",
        "    def forward(self, x):\n",
        "        \n",
        "        z = self.encoder(x)\n",
        "        \n",
        "        x_hat = self.decoder(z)\n",
        "        \n",
        "        return x_hat"
      ],
      "execution_count": 0,
      "outputs": []
    },
    {
      "cell_type": "markdown",
      "metadata": {
        "id": "TKsIbKxhjR-L",
        "colab_type": "text"
      },
      "source": [
        "We define our train and validation methods that we will be using throughout. "
      ]
    },
    {
      "cell_type": "code",
      "metadata": {
        "id": "Lq2ikgUqYhpc",
        "colab_type": "code",
        "colab": {}
      },
      "source": [
        "def train(epoch, dataloader, model, criterion, optimizer, device, log_print = 10):\n",
        "    model.train()\n",
        "    for i_batch, sample_batched in enumerate(dataloader):\n",
        "        inputs = sample_batched.to(device)\n",
        "        \n",
        "        #set_trace()\n",
        "        inputs_hat = model(inputs)\n",
        "\n",
        "        loss = criterion(inputs_hat, inputs)\n",
        "\n",
        "        optimizer.zero_grad()\n",
        "        loss.backward(retain_graph=True)\n",
        "        optimizer.step()\n",
        "        \n",
        "        if (i_batch%log_print == 0) & (i_batch > 0):\n",
        "            print('Train batch {0}/{1} Loss: {2}' \\\n",
        "                  .format(i_batch, epoch, loss.item()))\n",
        "        \n",
        "        \n",
        "def validation(epoch, dataloader, model, criterion, device):\n",
        "    model.eval()\n",
        "    total_losses = []\n",
        "    for i_batch, sample_batched in enumerate(dataloader):\n",
        "        inputs = sample_batched.to(device)\n",
        "\n",
        "        inputs_hat = model(inputs)\n",
        "\n",
        "        loss = criterion(inputs_hat, inputs)\n",
        "\n",
        "        total_losses.append(loss)\n",
        "    mean_loss = torch.stack(total_losses).mean()\n",
        "    print('Validation mean Loss: {}'.format(mean_loss.item()))\n",
        "        "
      ],
      "execution_count": 0,
      "outputs": []
    },
    {
      "cell_type": "markdown",
      "metadata": {
        "id": "i_4h4lL2jjd2",
        "colab_type": "text"
      },
      "source": [
        "Finally we are ready to instantiate a model, an optimizer, adn define a loss function. Since our datapoints are continous floating points, it makes sense for us to use MSE.  "
      ]
    },
    {
      "cell_type": "code",
      "metadata": {
        "id": "Ifodvv5HVQwk",
        "colab_type": "code",
        "colab": {}
      },
      "source": [
        "ae_model = LinearAutoEncoder(2)\n",
        "optimizer = torch.optim.Adam(ae_model.parameters(), lr=1e-2)\n",
        "criterion = torch.nn.MSELoss()\n",
        "\n"
      ],
      "execution_count": 0,
      "outputs": []
    },
    {
      "cell_type": "markdown",
      "metadata": {
        "id": "8KdJVwLjg664",
        "colab_type": "text"
      },
      "source": [
        "We will train for 20 epochs. "
      ]
    },
    {
      "cell_type": "code",
      "metadata": {
        "id": "cbUpPUUBVgiH",
        "colab_type": "code",
        "outputId": "4f3436c3-da20-4675-d0af-68050fb37969",
        "colab": {
          "base_uri": "https://localhost:8080/",
          "height": 357
        }
      },
      "source": [
        "num_epochs = 20\n",
        "for epoch in range(num_epochs):\n",
        "    train(epoch, dataloader_train, ae_model, criterion, optimizer, \n",
        "          device = \"cpu\", log_print = np.inf)\n",
        "\n",
        "    with torch.no_grad():\n",
        "        validation(epoch, dataloader_val, ae_model, criterion, device = \"cpu\")\n"
      ],
      "execution_count": 0,
      "outputs": [
        {
          "output_type": "stream",
          "text": [
            "Validation mean Loss: 0.050953421741724014\n",
            "Validation mean Loss: 0.05230097100138664\n",
            "Validation mean Loss: 0.05087033286690712\n",
            "Validation mean Loss: 0.052211929112672806\n",
            "Validation mean Loss: 0.051714617758989334\n",
            "Validation mean Loss: 0.05089273676276207\n",
            "Validation mean Loss: 0.05095979571342468\n",
            "Validation mean Loss: 0.05030452087521553\n",
            "Validation mean Loss: 0.050288982689380646\n",
            "Validation mean Loss: 0.05033589527010918\n",
            "Validation mean Loss: 0.05334896221756935\n",
            "Validation mean Loss: 0.052133407443761826\n",
            "Validation mean Loss: 0.050624310970306396\n",
            "Validation mean Loss: 0.05157723277807236\n",
            "Validation mean Loss: 0.05021808296442032\n",
            "Validation mean Loss: 0.0523744598031044\n",
            "Validation mean Loss: 0.05079919844865799\n",
            "Validation mean Loss: 0.05091944336891174\n",
            "Validation mean Loss: 0.051004063338041306\n",
            "Validation mean Loss: 0.050556231290102005\n"
          ],
          "name": "stdout"
        }
      ]
    },
    {
      "cell_type": "markdown",
      "metadata": {
        "id": "xc1olqrSjiV1",
        "colab_type": "text"
      },
      "source": [
        "After 20 epochs we have converged to an MSE of about 0.51. Let's visualize how this linear Auto Encoder reconstructs the data on the held out set. "
      ]
    },
    {
      "cell_type": "code",
      "metadata": {
        "id": "e2X_4BfFdZGb",
        "colab_type": "code",
        "outputId": "8306531e-2a43-4d51-9690-7a7906e9efb9",
        "colab": {
          "base_uri": "https://localhost:8080/",
          "height": 269
        }
      },
      "source": [
        "x_lin = torch.linspace(-1, 1, 1000).view(-1,1)\n",
        "plt.plot(x1.numpy()[:500], x2_observed.detach().numpy()[:500], '.', \n",
        "         label = \"sampled data\")\n",
        "plt.plot(x_lin.numpy(), generator(x_lin).detach().numpy(), \n",
        "         label = \"actual\", linewidth = 3);\n",
        "\n",
        "preds = ae_model.decoder(x_lin).squeeze().detach().numpy()\n",
        "\n",
        "plt.plot(x_lin.numpy(), preds[:,1], '.', \n",
        "         label = \"decoder\", );\n",
        "\n",
        "\n",
        "plt.legend();"
      ],
      "execution_count": 0,
      "outputs": [
        {
          "output_type": "display_data",
          "data": {
            "image/png": "[encoded data removed]",
            "text/plain": [
              "<Figure size 432x288 with 1 Axes>"
            ]
          },
          "metadata": {
            "tags": []
          }
        }
      ]
    },
    {
      "cell_type": "markdown",
      "metadata": {
        "id": "nWF_BsDgj5fk",
        "colab_type": "text"
      },
      "source": [
        "As expected, the Linear Auto Encoder is not able capturer the underlying non-linear manifold that this datasets lives in. \n",
        "\n",
        "Let's see how a adding layers of non-linearities will help untangling the non-linear manifold. "
      ]
    },
    {
      "cell_type": "code",
      "metadata": {
        "id": "evUusRLR2jvX",
        "colab_type": "code",
        "colab": {}
      },
      "source": [
        "class AutoEncoder(torch.nn.Module):\n",
        "\n",
        "    def __init__(self, num_inputs, activation_func = lambda x: F.elu(x)):\n",
        "        super(AutoEncoder, self).__init__()\n",
        "        \n",
        "        self.activation_func = activation_func\n",
        "        self.linear_enc_1 = torch.nn.Linear(num_inputs, num_inputs)              \n",
        "        self.linear_enc_2 = torch.nn.Linear(num_inputs, 1)        \n",
        "        \n",
        "        self.linear_dec_1 = torch.nn.Linear(1, num_inputs)        \n",
        "        self.linear_dec_2 = torch.nn.Linear(num_inputs, num_inputs)\n",
        "   \n",
        "    def encoder(self, x):\n",
        "        z = self.activation_func(self.linear_enc_1(x))\n",
        "        z = self.linear_enc_2(z)\n",
        "        return z\n",
        "    \n",
        "    def decoder(self, z):\n",
        "        z = self.activation_func(self.linear_dec_1(z))\n",
        "        x_hat = self.linear_dec_2(z)\n",
        "        return x_hat\n",
        "        \n",
        "\n",
        "    def forward(self, x):\n",
        "        \n",
        "        z = self.encoder(x)\n",
        "        \n",
        "        x_hat = self.decoder(z)\n",
        "        \n",
        "        return x_hat"
      ],
      "execution_count": 0,
      "outputs": []
    },
    {
      "cell_type": "markdown",
      "metadata": {
        "id": "hYRfq1c1mmM6",
        "colab_type": "text"
      },
      "source": [
        "We now instantiate and train our non-linear Auto Encoder:"
      ]
    },
    {
      "cell_type": "code",
      "metadata": {
        "id": "ShaVRP0w5pbN",
        "colab_type": "code",
        "outputId": "b275c2f1-2b87-4f41-a9e7-fde4b40337a4",
        "colab": {
          "base_uri": "https://localhost:8080/",
          "height": 411
        }
      },
      "source": [
        "ae_model = AutoEncoder(2, lambda x: F.tanh(x))\n",
        "optimizer = torch.optim.Adam(ae_model.parameters(), lr=1e-2)\n",
        "criterion = torch.nn.MSELoss()\n",
        "num_epochs = 20\n",
        "for epoch in range(num_epochs):\n",
        "    train(epoch, dataloader_train, ae_model, criterion, optimizer, log_print = np.inf,\n",
        "          device = \"cpu\")\n",
        "\n",
        "    with torch.no_grad():\n",
        "        validation(epoch, dataloader_val, ae_model, criterion, device = \"cpu\")\n"
      ],
      "execution_count": 0,
      "outputs": [
        {
          "output_type": "stream",
          "text": [
            "/usr/local/lib/python3.6/dist-packages/torch/nn/functional.py:1374: UserWarning: nn.functional.tanh is deprecated. Use torch.tanh instead.\n",
            "  warnings.warn(\"nn.functional.tanh is deprecated. Use torch.tanh instead.\")\n"
          ],
          "name": "stderr"
        },
        {
          "output_type": "stream",
          "text": [
            "Validation mean Loss: 0.054115742444992065\n",
            "Validation mean Loss: 0.0382973775267601\n",
            "Validation mean Loss: 0.016228865832090378\n",
            "Validation mean Loss: 0.010448736138641834\n",
            "Validation mean Loss: 0.0063299513421952724\n",
            "Validation mean Loss: 0.006841366179287434\n",
            "Validation mean Loss: 0.005340849049389362\n",
            "Validation mean Loss: 0.005344202741980553\n",
            "Validation mean Loss: 0.007787058595567942\n",
            "Validation mean Loss: 0.005022738594561815\n",
            "Validation mean Loss: 0.005124365910887718\n",
            "Validation mean Loss: 0.004829417448490858\n",
            "Validation mean Loss: 0.005091219674795866\n",
            "Validation mean Loss: 0.005707805044949055\n",
            "Validation mean Loss: 0.007009535562247038\n",
            "Validation mean Loss: 0.004949962254613638\n",
            "Validation mean Loss: 0.005317389499396086\n",
            "Validation mean Loss: 0.005997296888381243\n",
            "Validation mean Loss: 0.004971769172698259\n",
            "Validation mean Loss: 0.004897987004369497\n"
          ],
          "name": "stdout"
        }
      ]
    },
    {
      "cell_type": "markdown",
      "metadata": {
        "id": "OlCcmh2loj4A",
        "colab_type": "text"
      },
      "source": [
        "When training the nonlinear Auto Encoder for 20 epochs, we have an MSE that is about 0.005. This is an order magnitude smaller than the loss of the linear Auto Encoder. Visualizing the reconstruction of the points with the non-linear Auto Encoder makes it clear that we have a much better model of capturing the non-linear low dimensional manifold. "
      ]
    },
    {
      "cell_type": "code",
      "metadata": {
        "id": "78VCnO3a5q_w",
        "colab_type": "code",
        "outputId": "a8d16037-1ef1-403a-d052-aaad888444c8",
        "colab": {
          "base_uri": "https://localhost:8080/",
          "height": 323
        }
      },
      "source": [
        "x_lin = torch.linspace(-15, 15, 1000).view(-1,1)\n",
        "plt.plot(x1.numpy()[750:], x2_observed.detach().numpy()[750:], '.', alpha = .5,\n",
        "         label = \"sampled data\")\n",
        "plt.plot(x1_lin.numpy(), generator(x1_lin).detach().numpy(), \n",
        "         label = \"actual\", linewidth = 3);\n",
        "\n",
        "\n",
        "preds = ae_model(torch.cat((x1[750:], x2_observed[750:]), 1))\n",
        "plt.plot(preds[:,0].detach().numpy(), preds[:,1].detach().numpy(), '.', \n",
        "         label = \"AE \", );\n",
        "\n",
        "plt.legend();"
      ],
      "execution_count": 0,
      "outputs": [
        {
          "output_type": "stream",
          "text": [
            "/usr/local/lib/python3.6/dist-packages/torch/nn/functional.py:1374: UserWarning: nn.functional.tanh is deprecated. Use torch.tanh instead.\n",
            "  warnings.warn(\"nn.functional.tanh is deprecated. Use torch.tanh instead.\")\n"
          ],
          "name": "stderr"
        },
        {
          "output_type": "display_data",
          "data": {
            "image/png": "[encoded data removed]",
            "text/plain": [
              "<Figure size 432x288 with 1 Axes>"
            ]
          },
          "metadata": {
            "tags": []
          }
        }
      ]
    },
    {
      "cell_type": "markdown",
      "metadata": {
        "id": "TPx5qXS2pCwO",
        "colab_type": "text"
      },
      "source": [
        ""
      ]
    },
    {
      "cell_type": "markdown",
      "metadata": {
        "id": "NT9CPC-17XQ7",
        "colab_type": "text"
      },
      "source": [
        "# Implementing Outlier Detection using AEs\n",
        "\n",
        "The AE provides us a framework for underrstanding the underlying structure of a dataset. IF we have found the undelying latent space (the particular simple subspace of the data), then we can develop many applications. One such application is outlier detection. In outlier detection we want to find examples of the data that are unsual and unlike the others. \n",
        "\n",
        "To demonstrate the idea of outlier detection, we will artificially create some outliers. In practice we do not know which points are outliers, but since we have created them ourselves, we will be able to judge how well our outlier detection algorithm works. \n",
        "\n",
        "We will take 50 points (~5% of the data) and randomly shuffle the x2 values. These 50 points then will be our outliers. We will put these 50 corrupted points back into the original dataset and create train and test splits.\n"
      ]
    },
    {
      "cell_type": "code",
      "metadata": {
        "id": "o_mxJ9_UeTUW",
        "colab_type": "code",
        "colab": {}
      },
      "source": [
        "X = torch.cat((x1, x2), 1).detach().numpy()\n",
        "\n",
        "X_corrupt = X[:50]\n",
        "X_corrupt[:,1] = shuffle(X_corrupt[:,1])\n",
        "\n",
        "X_uncorrupt = X[50:]\n",
        "\n",
        "X = np.vstack((X_corrupt, X_uncorrupt))\n",
        "labels = 50*[1]  + (X.shape[0] - 50)*[0]\n",
        "X_train, X_test, outlier_train, outlier_test = train_test_split(X, labels,\n",
        "                                                                shuffle=True, \n",
        "                                                                random_state=42)"
      ],
      "execution_count": 0,
      "outputs": []
    },
    {
      "cell_type": "markdown",
      "metadata": {
        "id": "m-Lx6KmmrQpd",
        "colab_type": "text"
      },
      "source": [
        "Plotting the data we can clearly see which points are the outliers. Recall that in practice we do not have the labels for which points are outliers or not. If we did, then we would use supervised learn to directly classify points as either inliers or outliers. "
      ]
    },
    {
      "cell_type": "code",
      "metadata": {
        "id": "4lpeGY0YeBcP",
        "colab_type": "code",
        "outputId": "dd8a4117-d98e-4fbc-b8a3-53960d1c2767",
        "colab": {
          "base_uri": "https://localhost:8080/",
          "height": 269
        }
      },
      "source": [
        "plt.plot(X_train[:,0], X_train[:,1], '.', label = \"train\")\n",
        "plt.plot(X_test[:,0], X_test[:,1], '.', label = \"test\")\n",
        "plt.legend();"
      ],
      "execution_count": 0,
      "outputs": [
        {
          "output_type": "display_data",
          "data": {
            "image/png": "[encoded data removed]",
            "text/plain": [
              "<Figure size 432x288 with 1 Axes>"
            ]
          },
          "metadata": {
            "tags": []
          }
        }
      ]
    },
    {
      "cell_type": "markdown",
      "metadata": {
        "id": "8pZX-fOhL_a4",
        "colab_type": "text"
      },
      "source": [
        "Above we can see a distribution of data points. We can see while the data is in 2D, it occupies a very particular region in the 2D plane. We also see sets of points that are nothing like the distribution of points. These parrticular points we have identified as outliers. We can more formally think of an outlier as points that are *outside* the underlying hidden space. \n",
        "\n",
        "So how can we leverage Aes and the latent space to identify outliers? This is an active area of research and there can be many solutions. We will discuss the approach at looking at the reconstructurion erro as an indicator of an outlier. Using the AE framework we know we have idetnified the latent space of a data if we can have low reconstruction error. In other words, after training the encoder and decoder networks in the AE, we know that the output of the AE is recovered input with low reconstruction error on average. \n",
        "\n",
        "\n",
        "But what happens if we have the AE receive a point *outside* the latent space? Then in this case the error will be large! Thuss our method of identifying outliers will be if the reconstruction error of an example is *large* then this exmple is suspect of being an outlier. \n",
        "\n",
        "Let’s setup our data loaders for training and validation as usual:"
      ]
    },
    {
      "cell_type": "code",
      "metadata": {
        "id": "CQqW_ORcfaTs",
        "colab_type": "code",
        "colab": {}
      },
      "source": [
        "dataset_train = NoisyQuadraticDataset(torch.from_numpy(X_train))\n",
        "dataset_val = NoisyQuadraticDataset(torch.from_numpy(X_test))\n",
        "\n",
        "dataloader_train = DataLoader(dataset_train, batch_size=4, shuffle=True)\n",
        "dataloader_val = DataLoader(dataset_val, batch_size=4, shuffle=False)\n"
      ],
      "execution_count": 0,
      "outputs": []
    },
    {
      "cell_type": "code",
      "metadata": {
        "id": "Jb66Um1gxVLs",
        "colab_type": "code",
        "colab": {}
      },
      "source": [
        "class AutoEncoder(torch.nn.Module):\n",
        "\n",
        "    def __init__(self, num_inputs, activation_func = lambda x: F.elu(x)):\n",
        "        super(AutoEncoder, self).__init__()\n",
        "        \n",
        "        self.activation_func = activation_func\n",
        "        self.linear_enc_1 = torch.nn.Linear(num_inputs, num_inputs)              \n",
        "        self.linear_enc_2 = torch.nn.Linear(num_inputs, 1)        \n",
        "        \n",
        "        self.linear_dec_1 = torch.nn.Linear(1, num_inputs)        \n",
        "        self.linear_dec_2 = torch.nn.Linear(num_inputs, num_inputs)\n",
        "   \n",
        "    def encoder(self, x):\n",
        "        z = self.activation_func(self.linear_enc_1(x))\n",
        "        z = self.linear_enc_2(z)\n",
        "        return z\n",
        "    \n",
        "    def decoder(self, z):\n",
        "        z = self.activation_func(self.linear_dec_1(z))\n",
        "        x_hat = self.linear_dec_2(z)\n",
        "        return x_hat\n",
        "        \n",
        "\n",
        "    def forward(self, x):\n",
        "        \n",
        "        z = self.encoder(x)\n",
        "        \n",
        "        x_hat = self.decoder(z)\n",
        "        \n",
        "        return x_hat"
      ],
      "execution_count": 0,
      "outputs": []
    },
    {
      "cell_type": "markdown",
      "metadata": {
        "id": "q9SuxQGEXp2W",
        "colab_type": "text"
      },
      "source": [
        "Instantiate the AE model and train as usual. "
      ]
    },
    {
      "cell_type": "code",
      "metadata": {
        "id": "fp5tDwPIf_hE",
        "colab_type": "code",
        "outputId": "07f2bc3d-f5f4-4862-f8b9-5ec544b9fcac",
        "colab": {
          "base_uri": "https://localhost:8080/",
          "height": 921
        }
      },
      "source": [
        "\n",
        "ae_model = AutoEncoder(2, lambda x: F.tanh(x))\n",
        "\n",
        "optimizer = torch.optim.Adam(ae_model.parameters(), lr=1e-2)\n",
        "criterion = torch.nn.MSELoss()\n",
        "\n",
        "num_epochs = 50\n",
        "for epoch in range(num_epochs):\n",
        "    train(epoch, dataloader_train, ae_model, criterion, optimizer, \"cpu\", \n",
        "          log_print=np.inf)\n",
        "\n",
        "    with torch.no_grad():\n",
        "        validation(epoch, dataloader_val, ae_model, criterion, \"cpu\")"
      ],
      "execution_count": 0,
      "outputs": [
        {
          "output_type": "stream",
          "text": [
            "/usr/local/lib/python3.6/dist-packages/torch/nn/functional.py:1374: UserWarning: nn.functional.tanh is deprecated. Use torch.tanh instead.\n",
            "  warnings.warn(\"nn.functional.tanh is deprecated. Use torch.tanh instead.\")\n"
          ],
          "name": "stderr"
        },
        {
          "output_type": "stream",
          "text": [
            "Validation mean Loss: 0.027910804376006126\n",
            "Validation mean Loss: 0.008634479716420174\n",
            "Validation mean Loss: 0.006566456984728575\n",
            "Validation mean Loss: 0.006836168933659792\n",
            "Validation mean Loss: 0.006447928491979837\n",
            "Validation mean Loss: 0.00574957299977541\n",
            "Validation mean Loss: 0.006002705544233322\n",
            "Validation mean Loss: 0.005809234920889139\n",
            "Validation mean Loss: 0.005433038342744112\n",
            "Validation mean Loss: 0.005374887026846409\n",
            "Validation mean Loss: 0.005536112003028393\n",
            "Validation mean Loss: 0.005562568549066782\n",
            "Validation mean Loss: 0.005611250642687082\n",
            "Validation mean Loss: 0.0052709197625517845\n",
            "Validation mean Loss: 0.006628640461713076\n",
            "Validation mean Loss: 0.0053482032380998135\n",
            "Validation mean Loss: 0.005095983389765024\n",
            "Validation mean Loss: 0.00493639474734664\n",
            "Validation mean Loss: 0.005350896622985601\n",
            "Validation mean Loss: 0.007635196670889854\n",
            "Validation mean Loss: 0.005721825174987316\n",
            "Validation mean Loss: 0.005556140094995499\n",
            "Validation mean Loss: 0.004819917492568493\n",
            "Validation mean Loss: 0.005919224116951227\n",
            "Validation mean Loss: 0.0059075565077364445\n",
            "Validation mean Loss: 0.005980687215924263\n",
            "Validation mean Loss: 0.004853483755141497\n",
            "Validation mean Loss: 0.0048859310336411\n",
            "Validation mean Loss: 0.005300973542034626\n",
            "Validation mean Loss: 0.004740758333355188\n",
            "Validation mean Loss: 0.0048145996406674385\n",
            "Validation mean Loss: 0.005188843701034784\n",
            "Validation mean Loss: 0.005804532673209906\n",
            "Validation mean Loss: 0.005272042006254196\n",
            "Validation mean Loss: 0.005338973365724087\n",
            "Validation mean Loss: 0.005317597649991512\n",
            "Validation mean Loss: 0.004939775448292494\n",
            "Validation mean Loss: 0.0073762498795986176\n",
            "Validation mean Loss: 0.005617066286504269\n",
            "Validation mean Loss: 0.005190684925764799\n",
            "Validation mean Loss: 0.004713172093033791\n",
            "Validation mean Loss: 0.0048361411318182945\n",
            "Validation mean Loss: 0.004807238467037678\n",
            "Validation mean Loss: 0.005712143145501614\n",
            "Validation mean Loss: 0.0051836008206009865\n",
            "Validation mean Loss: 0.005377075169235468\n",
            "Validation mean Loss: 0.0049560959450900555\n",
            "Validation mean Loss: 0.004730702843517065\n",
            "Validation mean Loss: 0.005997783970087767\n",
            "Validation mean Loss: 0.005082886666059494\n"
          ],
          "name": "stdout"
        }
      ]
    },
    {
      "cell_type": "code",
      "metadata": {
        "id": "nv0U7rgnL1UM",
        "colab_type": "code",
        "outputId": "8ae6a774-20de-4ea0-b21f-89c4e6a929a4",
        "colab": {
          "base_uri": "https://localhost:8080/",
          "height": 323
        }
      },
      "source": [
        "X_test_hat = ae_model(torch.from_numpy(X_test)).detach().cpu().numpy()\n",
        "plt.plot(X_test[:,0], X_test[:,1], '.')\n",
        "plt.plot(X_test_hat[:,0], X_test_hat[:,1], '.', label = \"model\")\n",
        "plt.legend();"
      ],
      "execution_count": 0,
      "outputs": [
        {
          "output_type": "stream",
          "text": [
            "/usr/local/lib/python3.6/dist-packages/torch/nn/functional.py:1374: UserWarning: nn.functional.tanh is deprecated. Use torch.tanh instead.\n",
            "  warnings.warn(\"nn.functional.tanh is deprecated. Use torch.tanh instead.\")\n"
          ],
          "name": "stderr"
        },
        {
          "output_type": "display_data",
          "data": {
            "image/png": "[encoded data removed]",
            "text/plain": [
              "<Figure size 432x288 with 1 Axes>"
            ]
          },
          "metadata": {
            "tags": []
          }
        }
      ]
    },
    {
      "cell_type": "markdown",
      "metadata": {
        "id": "iJ5qTXAMZCe6",
        "colab_type": "text"
      },
      "source": [
        "Having trained the model we can see that the model has learned useful representations. \n",
        "\n",
        "We now look at the distribution fo reconstruction errors for each individual sample.\n"
      ]
    },
    {
      "cell_type": "code",
      "metadata": {
        "id": "l6brzGHYL1Qb",
        "colab_type": "code",
        "outputId": "707444a4-0c57-42c0-ce16-212abb399c0f",
        "colab": {
          "base_uri": "https://localhost:8080/",
          "height": 286
        }
      },
      "source": [
        "errors = np.sum((X_test - X_test_hat)**2,1)\n",
        "sns.distplot(np.log10(errors))"
      ],
      "execution_count": 0,
      "outputs": [
        {
          "output_type": "execute_result",
          "data": {
            "text/plain": [
              "<matplotlib.axes._subplots.AxesSubplot at 0x7fa7e7007e48>"
            ]
          },
          "metadata": {
            "tags": []
          },
          "execution_count": 24
        },
        {
          "output_type": "display_data",
          "data": {
            "image/png": "[encoded data removed]",
            "text/plain": [
              "<Figure size 432x288 with 1 Axes>"
            ]
          },
          "metadata": {
            "tags": []
          }
        }
      ]
    },
    {
      "cell_type": "markdown",
      "metadata": {
        "id": "cxt-shfuZGzb",
        "colab_type": "text"
      },
      "source": [
        "We see based on the histogram of reconstruction errors, there are a few samples that have much higher reconstruction errors than others. We may want to consider the points that have very large errors to be outliers.\n",
        "\n",
        "We will define a threshold that any point that has a reconstruction error higher than this threshold is suspected of being an outlier. Let’s take a look at what these points correspond to. "
      ]
    },
    {
      "cell_type": "code",
      "metadata": {
        "id": "KZPtVBabxVDk",
        "colab_type": "code",
        "outputId": "e8611983-2e15-4462-b4d3-88963e87ced1",
        "colab": {
          "base_uri": "https://localhost:8080/",
          "height": 269
        }
      },
      "source": [
        "thresh = 10**(-2)\n",
        "plt.plot(X_test[np.where(errors < thresh)[0],0], \n",
        "         X_test[np.where(errors < thresh)[0],1], '.')\n",
        "\n",
        "\n",
        "plt.plot(X_test[np.where(errors >= thresh)[0],0], \n",
        "         X_test[np.where(errors >= thresh)[0],1], 'o',\n",
        "         label = \"detected outliers\")\n",
        "plt.legend();"
      ],
      "execution_count": 0,
      "outputs": [
        {
          "output_type": "display_data",
          "data": {
            "image/png": "[encoded data removed]",
            "text/plain": [
              "<Figure size 432x288 with 1 Axes>"
            ]
          },
          "metadata": {
            "tags": []
          }
        }
      ]
    },
    {
      "cell_type": "markdown",
      "metadata": {
        "id": "VjKWgQF-ZJ3V",
        "colab_type": "text"
      },
      "source": [
        "We see that our threshold has managed to detect some of the outliers. One of the detected outliers is a False Positive but it is interesting to note that this False Positive is from subspace of the data that we have fewer samples from (ie, we are in the tails in the distribution). In general, since we have less points in these regions the network has not been trained as well as the other parts. This gives us another interoperation of large reconstruction errors: these are regions in the space that the network has less confidence in making estimates. \n"
      ]
    },
    {
      "cell_type": "markdown",
      "metadata": {
        "id": "OXJnLgCzmu0s",
        "colab_type": "text"
      },
      "source": [
        "# Using AEs for Pre-training\n",
        "\n",
        "As discussed, if we understand the underlying structure of a datset, then we have greatly reduced the complexity of the data. Having reduced the complexity, then developing algorithm should become much easier. Heer is where we can potentially leverrage AEs to aid us sdevelop supervised learning algorithms. \n",
        "\n",
        "Recall that developing supervised learning algorithms require a pair of inputs $x$ and outputs/labels $y$. Often obtaining outputs $y$ can be very expensive. Consider for example again the MNIST digits dataset. Each 28-by-28 pixel image was looked at by a human to be assigned a label between 0 and 9. Given that there are over 60K images, labelling each one can take a long time and require a great deal of effort. \n",
        "\n",
        "The expensive cost of obtaining labled datasets motivates us to develop learning algorithms that do not require large labelled datasets. What is neat about AEs is that they do not require any labels. All we need is a large collection of unlablled data and this is often much easier and cheaper to obtain.  By training the AE, we have a mapping that takes the original data $x$ and maps to the latent space $z$. From there we can train supervised learning algorithms to predict $y$ from $z$ instead of $x$. \n",
        "\n",
        "Why would it be favorable to predcit $y$ frrom $z$ instead of $x$ ? As we discussed earlier, the latent space $z$ is much simpler than the input space $x$. Therefore, by training supervised algorithms in $z$ we hope that the simplicity of the space will require far fewer labeled samples than having labeled samples for $x$. \n",
        "\n",
        "\n",
        "So if we are faced in a situation where we have a lot of unlabeled data $x$ and very few labeled data $y$, then it is favorable tl train an AE to map the data frrom $x$ to $z$ and then applying supervised learning in the latent space. More formally, training an AE provides us with an encoder $z = f_{enc}(x)$. What we can do train supervised learning then is develop $y = g(z)$. We can also fine-tune the encoder so that we have in the end $y = g\\big(f_{enc}(x)\\big)$.\n",
        "\n",
        "We will demonstrate pre-training a network using the MNIST digits dataset. The `torchvision` module includes APIs to access and load the data."
      ]
    },
    {
      "cell_type": "code",
      "metadata": {
        "id": "lrAVG19hiOiY",
        "colab_type": "code",
        "colab": {}
      },
      "source": [
        "from torchvision import datasets\n",
        "from torchvision import transforms"
      ],
      "execution_count": 0,
      "outputs": []
    },
    {
      "cell_type": "code",
      "metadata": {
        "id": "tNuI84RVei4g",
        "colab_type": "code",
        "outputId": "58ffed9c-815f-42eb-f6a1-9a6108670221",
        "colab": {
          "base_uri": "https://localhost:8080/",
          "height": 275
        }
      },
      "source": [
        "\n",
        "\n",
        "# Note transforms.ToTensor() scales input images\n",
        "# to 0-1 range\n",
        "train_dataset = datasets.MNIST(root='data', \n",
        "                               train=True, \n",
        "                               transform=transforms.ToTensor(),\n",
        "                               download=True)\n",
        "\n",
        "test_dataset = datasets.MNIST(root='data', \n",
        "                              train=False, \n",
        "                              transform=transforms.ToTensor())\n",
        "\n",
        "batch_size = 32\n",
        "train_loader = DataLoader(dataset=train_dataset, \n",
        "                          batch_size=batch_size, \n",
        "                          shuffle=False) # setting shuffle to false so we just go on same batch\n",
        "\n",
        "test_loader = DataLoader(dataset=test_dataset, \n",
        "                         batch_size=batch_size, \n",
        "                         shuffle=False)"
      ],
      "execution_count": 0,
      "outputs": [
        {
          "output_type": "stream",
          "text": [
            "  0%|          | 0/9912422 [00:00<?, ?it/s]"
          ],
          "name": "stderr"
        },
        {
          "output_type": "stream",
          "text": [
            "Downloading http://yann.lecun.com/exdb/mnist/train-images-idx3-ubyte.gz to data/MNIST/raw/train-images-idx3-ubyte.gz\n"
          ],
          "name": "stdout"
        },
        {
          "output_type": "stream",
          "text": [
            "9920512it [00:00, 13190295.07it/s]                            \n"
          ],
          "name": "stderr"
        },
        {
          "output_type": "stream",
          "text": [
            "Extracting data/MNIST/raw/train-images-idx3-ubyte.gz\n"
          ],
          "name": "stdout"
        },
        {
          "output_type": "stream",
          "text": [
            "32768it [00:00, 296827.72it/s]                           \n",
            "0it [00:00, ?it/s]"
          ],
          "name": "stderr"
        },
        {
          "output_type": "stream",
          "text": [
            "Downloading http://yann.lecun.com/exdb/mnist/train-labels-idx1-ubyte.gz to data/MNIST/raw/train-labels-idx1-ubyte.gz\n",
            "Extracting data/MNIST/raw/train-labels-idx1-ubyte.gz\n",
            "Downloading http://yann.lecun.com/exdb/mnist/t10k-images-idx3-ubyte.gz to data/MNIST/raw/t10k-images-idx3-ubyte.gz\n"
          ],
          "name": "stdout"
        },
        {
          "output_type": "stream",
          "text": [
            "1654784it [00:00, 4827712.55it/s]                           \n",
            "8192it [00:00, 124019.54it/s]\n"
          ],
          "name": "stderr"
        },
        {
          "output_type": "stream",
          "text": [
            "Extracting data/MNIST/raw/t10k-images-idx3-ubyte.gz\n",
            "Downloading http://yann.lecun.com/exdb/mnist/t10k-labels-idx1-ubyte.gz to data/MNIST/raw/t10k-labels-idx1-ubyte.gz\n",
            "Extracting data/MNIST/raw/t10k-labels-idx1-ubyte.gz\n",
            "Processing...\n",
            "Done!\n"
          ],
          "name": "stdout"
        }
      ]
    },
    {
      "cell_type": "markdown",
      "metadata": {
        "id": "fwGxprapZ2jx",
        "colab_type": "text"
      },
      "source": [
        "We will train a simple 1-hidden layer Auto Encoder with fully connected layers. The "
      ]
    },
    {
      "cell_type": "code",
      "metadata": {
        "id": "2yziuUWWm5wz",
        "colab_type": "code",
        "colab": {}
      },
      "source": [
        "class MLPAutoencoder(torch.nn.Module):\n",
        "\n",
        "    def __init__(self, num_inputs, num_hidden):\n",
        "        super(MLPAutoencoder, self).__init__()\n",
        "        self.num_inputs = num_inputs\n",
        "        self.num_hidden = num_hidden\n",
        "        \n",
        "        self.linear_1 = torch.nn.Linear(num_inputs, num_hidden)\n",
        "        \n",
        "        self.linear_2 = torch.nn.Linear(num_hidden, num_inputs)\n",
        "        \n",
        "        \n",
        "    def encoder(self, x):\n",
        "        z = self.linear_1(x)\n",
        "        z = F.leaky_relu(z)\n",
        "        \n",
        "        return z\n",
        "                \n",
        "    \n",
        "    def decoder(self, z):\n",
        "        x_hat = self.linear_2(z)\n",
        "        \n",
        "        return torch.sigmoid(x_hat)\n",
        "        \n",
        "\n",
        "    def forward(self, x):\n",
        "        \n",
        "        z = self.encoder(x)\n",
        "        x_hat = self.decoder(z)\n",
        "        \n",
        "        return x_hat"
      ],
      "execution_count": 0,
      "outputs": []
    },
    {
      "cell_type": "code",
      "metadata": {
        "id": "2TPE3xU-1uIN",
        "colab_type": "code",
        "colab": {}
      },
      "source": [
        "def unsupervised_train(epoch, dataloader, model, criterion, optimizer, device, \n",
        "                       log_print = 10):\n",
        "    model.train()\n",
        "    for i_batch, sample_batched in enumerate(dataloader):\n",
        "        if i_batch > 1:\n",
        "            break\n",
        "        inputs = sample_batched[0].view(batch_size,-1).to(device)\n",
        "        \n",
        "        #set_trace()\n",
        "        inputs_hat = model(inputs)\n",
        "\n",
        "        loss = criterion(inputs_hat, inputs)\n",
        "\n",
        "        optimizer.zero_grad()\n",
        "        #loss.backward(retain_graph=True)\n",
        "        loss.backward()\n",
        "        optimizer.step()\n",
        "        \n",
        "        if (i_batch%log_print == 0) & (i_batch > 0):\n",
        "            print('Train batch {0}/{1} Loss: {2}' \\\n",
        "                  .format(i_batch, epoch, loss.item()))\n",
        "    #return loss.item()\n",
        "    return model\n",
        "        \n",
        "        \n",
        "def unsupervised_validation(epoch, dataloader, model, criterion, device):\n",
        "    model.eval()\n",
        "    total_losses = []\n",
        "    for i_batch, sample_batched in enumerate(dataloader):\n",
        "        inputs = sample_batched[0].view(batch_size,-1).to(device).to(device)\n",
        "\n",
        "        inputs_hat = model(inputs)\n",
        "\n",
        "        loss = criterion(inputs_hat, inputs)\n",
        "\n",
        "        total_losses.append(loss)\n",
        "    mean_loss = torch.stack(total_losses).mean()\n",
        "    print('Validation mean Loss: {}'.format(mean_loss.item()))\n",
        "    return mean_loss.item()\n",
        "        "
      ],
      "execution_count": 0,
      "outputs": []
    },
    {
      "cell_type": "markdown",
      "metadata": {
        "id": "OSO4wgBrMSbK",
        "colab_type": "text"
      },
      "source": [
        "**instantiations**"
      ]
    },
    {
      "cell_type": "code",
      "metadata": {
        "id": "DW9cJ4RDm9zq",
        "colab_type": "code",
        "colab": {}
      },
      "source": [
        "torch.manual_seed(111)\n",
        "\n",
        "\n",
        "\n",
        "# Device\n",
        "device = torch.device(\"cuda:0\" if torch.cuda.is_available() else \"cpu\")\n",
        "unsupervised_model = MLPAutoencoder(num_inputs=784, num_hidden=32).to(device)\n",
        "\n",
        "criterion = torch.nn.BCELoss()\n",
        "\n",
        "optimizer = torch.optim.Adam(unsupervised_model.parameters(), lr=1e-3)\n"
      ],
      "execution_count": 0,
      "outputs": []
    },
    {
      "cell_type": "code",
      "metadata": {
        "id": "0cv0m7l9b24R",
        "colab_type": "code",
        "outputId": "4d9699b8-ab41-4fdf-cff2-56c5a1139541",
        "colab": {
          "base_uri": "https://localhost:8080/",
          "height": 102
        }
      },
      "source": [
        "unsupervised_model.linear_1.weight[:4,:4]"
      ],
      "execution_count": 0,
      "outputs": [
        {
          "output_type": "execute_result",
          "data": {
            "text/plain": [
              "tensor([[ 0.0154,  0.0296, -0.0156, -0.0173],\n",
              "        [-0.0211, -0.0353,  0.0122,  0.0083],\n",
              "        [-0.0225, -0.0310, -0.0196, -0.0120],\n",
              "        [ 0.0235,  0.0284, -0.0338, -0.0213]], device='cuda:0',\n",
              "       grad_fn=<SliceBackward>)"
            ]
          },
          "metadata": {
            "tags": []
          },
          "execution_count": 53
        }
      ]
    },
    {
      "cell_type": "code",
      "metadata": {
        "id": "upgAk9Hrm_yp",
        "colab_type": "code",
        "colab": {}
      },
      "source": [
        "num_epochs = 5\n",
        "train_losses = []\n",
        "test_losses = []\n",
        "for epoch in range(num_epochs):\n",
        "    train_losses.append(unsupervised_train(epoch=1, dataloader=train_loader, \n",
        "                                           model=unsupervised_model,\n",
        "                                           criterion=criterion, \n",
        "                                           optimizer=optimizer,\n",
        "                                           device=device,\n",
        "                                           log_print=np.inf))"
      ],
      "execution_count": 0,
      "outputs": []
    },
    {
      "cell_type": "code",
      "metadata": {
        "id": "TVgJmAsINBFc",
        "colab_type": "code",
        "outputId": "b75908d4-cb98-4ea7-eb2c-7e7b74f25a35",
        "colab": {
          "base_uri": "https://localhost:8080/",
          "height": 102
        }
      },
      "source": [
        "train_losses[-1].linear_1.weight[:4,:4]"
      ],
      "execution_count": 0,
      "outputs": [
        {
          "output_type": "execute_result",
          "data": {
            "text/plain": [
              "tensor([[ 0.0154,  0.0296, -0.0156, -0.0173],\n",
              "        [-0.0211, -0.0353,  0.0122,  0.0083],\n",
              "        [-0.0225, -0.0310, -0.0196, -0.0120],\n",
              "        [ 0.0235,  0.0284, -0.0338, -0.0213]], device='cuda:0',\n",
              "       grad_fn=<SliceBackward>)"
            ]
          },
          "metadata": {
            "tags": []
          },
          "execution_count": 55
        }
      ]
    },
    {
      "cell_type": "code",
      "metadata": {
        "id": "YvlaTJBYNuaG",
        "colab_type": "code",
        "outputId": "4492b2e0-1b8e-4688-85dd-b7e11639a461",
        "colab": {
          "base_uri": "https://localhost:8080/",
          "height": 102
        }
      },
      "source": [
        "unsupervised_model.linear_1.weight[:4,:4]"
      ],
      "execution_count": 0,
      "outputs": [
        {
          "output_type": "execute_result",
          "data": {
            "text/plain": [
              "tensor([[ 0.0154,  0.0296, -0.0156, -0.0173],\n",
              "        [-0.0211, -0.0353,  0.0122,  0.0083],\n",
              "        [-0.0225, -0.0310, -0.0196, -0.0120],\n",
              "        [ 0.0235,  0.0284, -0.0338, -0.0213]], device='cuda:0',\n",
              "       grad_fn=<SliceBackward>)"
            ]
          },
          "metadata": {
            "tags": []
          },
          "execution_count": 31
        }
      ]
    },
    {
      "cell_type": "code",
      "metadata": {
        "id": "ZFf87V_rb0ZA",
        "colab_type": "code",
        "outputId": "9af58b29-ea46-4ce4-abc5-990e2db8192f",
        "colab": {
          "base_uri": "https://localhost:8080/",
          "height": 102
        }
      },
      "source": [
        "unsupervised_model.linear_1.weight[:4,:4].clone()"
      ],
      "execution_count": 0,
      "outputs": [
        {
          "output_type": "execute_result",
          "data": {
            "text/plain": [
              "tensor([[ 0.0154,  0.0296, -0.0156, -0.0173],\n",
              "        [-0.0211, -0.0353,  0.0122,  0.0083],\n",
              "        [-0.0225, -0.0310, -0.0196, -0.0120],\n",
              "        [ 0.0235,  0.0284, -0.0338, -0.0213]], device='cuda:0',\n",
              "       grad_fn=<CloneBackward>)"
            ]
          },
          "metadata": {
            "tags": []
          },
          "execution_count": 34
        }
      ]
    },
    {
      "cell_type": "code",
      "metadata": {
        "id": "GdBEqSVDnFeu",
        "colab_type": "code",
        "outputId": "312a0c38-1aba-4301-da17-5d39c265829b",
        "colab": {
          "base_uri": "https://localhost:8080/",
          "height": 207
        }
      },
      "source": [
        "# ##########################\n",
        "# ### VISUALIZATION\n",
        "# ##########################\n",
        "\n",
        "n_images = 15\n",
        "image_width = 28\n",
        "\n",
        "fig, axes = plt.subplots(nrows=2, ncols=n_images, \n",
        "                         sharex=True, sharey=True, figsize=(20, 2.5))\n",
        "orig_images = features[:n_images]\n",
        "decoded_images = decoded[:n_images]\n",
        "\n",
        "for i in range(n_images):\n",
        "    for ax, img in zip(axes, [orig_images, decoded_images]):\n",
        "        curr_img = img[i].detach().to(torch.device('cpu'))\n",
        "        ax[i].imshow(curr_img.view((image_width, image_width)), cmap='binary')"
      ],
      "execution_count": 0,
      "outputs": [
        {
          "output_type": "display_data",
          "data": {
            "image/png": "[encoded data removed]",
            "text/plain": [
              "<Figure size 1440x180 with 30 Axes>"
            ]
          },
          "metadata": {
            "tags": []
          }
        }
      ]
    },
    {
      "cell_type": "code",
      "metadata": {
        "id": "0Q_z26LUnVpV",
        "colab_type": "code",
        "colab": {}
      },
      "source": [
        "##########################\n",
        "### MODEL\n",
        "##########################\n",
        "\n",
        "class MLPPreTrained(torch.nn.Module):\n",
        "\n",
        "    def __init__(self, num_hidden = 128):\n",
        "        super(MLPPreTrained, self).__init__()\n",
        "        \n",
        "        ### ENCODER\n",
        "        self.linear_1 = torch.nn.Linear(784, 32)\n",
        "\n",
        "        \n",
        "        self.linear_2 = torch.nn.Linear(32, num_hidden)\n",
        "        \n",
        "        self.linear_3 = torch.nn.Linear(num_hidden, 10)\n",
        "        \n",
        "        self.softmax = torch.nn.Softmax(dim=1)\n",
        "        \n",
        "\n",
        "    def forward(self, x):\n",
        "        \n",
        "        z = F.leaky_relu(self.linear_1(x))\n",
        "        \n",
        "        z = F.leaky_relu(self.linear_2(z))\n",
        "        \n",
        "        z = self.linear_3(z)\n",
        "        return self.softmax(z)"
      ],
      "execution_count": 0,
      "outputs": []
    },
    {
      "cell_type": "code",
      "metadata": {
        "id": "poa3e_sN2Z0B",
        "colab_type": "code",
        "colab": {}
      },
      "source": [
        "import copy"
      ],
      "execution_count": 0,
      "outputs": []
    },
    {
      "cell_type": "code",
      "metadata": {
        "id": "cTYAXOk5arpY",
        "colab_type": "code",
        "colab": {}
      },
      "source": [
        "torch.manual_seed(111)\n",
        "supervised_model = MLPPreTrained(128).to(\"cuda\")"
      ],
      "execution_count": 0,
      "outputs": []
    },
    {
      "cell_type": "code",
      "metadata": {
        "id": "de2-GAOiaswS",
        "colab_type": "code",
        "outputId": "575ca770-33b8-4af0-af63-7a73508375a8",
        "colab": {
          "base_uri": "https://localhost:8080/",
          "height": 102
        }
      },
      "source": [
        "\n",
        "supervised_model.linear_1.weight[:4,:4]"
      ],
      "execution_count": 0,
      "outputs": [
        {
          "output_type": "execute_result",
          "data": {
            "text/plain": [
              "tensor([[ 0.0154,  0.0296, -0.0156, -0.0173],\n",
              "        [-0.0211, -0.0353,  0.0122,  0.0083],\n",
              "        [-0.0225, -0.0310, -0.0196, -0.0120],\n",
              "        [ 0.0235,  0.0284, -0.0338, -0.0213]], device='cuda:0',\n",
              "       grad_fn=<SliceBackward>)"
            ]
          },
          "metadata": {
            "tags": []
          },
          "execution_count": 109
        }
      ]
    },
    {
      "cell_type": "code",
      "metadata": {
        "id": "JSEWv28WqVfw",
        "colab_type": "code",
        "colab": {}
      },
      "source": [
        "\n",
        "supervised_model.linear_1.weight = copy.deepcopy(unsupervised_model.linear_1.weight)\n",
        "supervised_model.linear_1.bias = copy.deepcopy(unsupervised_model.linear_1.bias)\n",
        "optimizer = torch.optim.SGD(supervised_model.parameters(), lr=1e-1, momentum = .9)"
      ],
      "execution_count": 0,
      "outputs": []
    },
    {
      "cell_type": "code",
      "metadata": {
        "id": "OFD1UEJtay73",
        "colab_type": "code",
        "outputId": "dd78cda6-e930-43f0-85db-ee5060477721",
        "colab": {
          "base_uri": "https://localhost:8080/",
          "height": 102
        }
      },
      "source": [
        "unsupervised_model.linear_1.weight[:4,:4]"
      ],
      "execution_count": 0,
      "outputs": [
        {
          "output_type": "execute_result",
          "data": {
            "text/plain": [
              "tensor([[ 0.0154,  0.0296, -0.0156, -0.0173],\n",
              "        [-0.0211, -0.0353,  0.0122,  0.0083],\n",
              "        [-0.0225, -0.0310, -0.0196, -0.0120],\n",
              "        [ 0.0235,  0.0284, -0.0338, -0.0213]], device='cuda:0',\n",
              "       grad_fn=<SliceBackward>)"
            ]
          },
          "metadata": {
            "tags": []
          },
          "execution_count": 108
        }
      ]
    },
    {
      "cell_type": "code",
      "metadata": {
        "id": "RxrUzS6RrGEo",
        "colab_type": "code",
        "colab": {}
      },
      "source": [
        "criterion = torch.nn.CrossEntropyLoss()"
      ],
      "execution_count": 0,
      "outputs": []
    },
    {
      "cell_type": "code",
      "metadata": {
        "id": "ZufjO_lEqeGY",
        "colab_type": "code",
        "colab": {}
      },
      "source": [
        "device = \"cuda\"\n",
        "num_epochs = 2000\n",
        "train_losses = []\n",
        "test_losses = []\n",
        "for epoch in range(num_epochs):\n",
        "    for batch_idx, (features, targets) in enumerate(train_loader):\n",
        "        \n",
        "        if batch_idx > 0:\n",
        "            break\n",
        "        \n",
        "        \n",
        "        features = features.view(-1, 28*28).to(device)\n",
        "            \n",
        "        ### FORWARD AND BACK PROP\n",
        "        supervised_model.train()\n",
        "        preds = supervised_model(features)\n",
        "        loss = criterion(preds, targets.to(device))\n",
        "        optimizer.zero_grad()\n",
        "        \n",
        "        loss.backward()\n",
        "        \n",
        "        ### UPDATE MODEL PARAMETERS\n",
        "        optimizer.step()\n",
        "        train_losses.append(np.mean(targets.detach().cpu().numpy() == \n",
        "                            torch.argmax(preds,1).detach().cpu().numpy()))\n",
        "        \n",
        "    supervised_model.eval()\n",
        "    features = features.view(-1, 28*28).to(device)\n",
        "            \n",
        "    preds = supervised_model(features)\n",
        "\n",
        "    test_losses.append(np.mean(targets.detach().cpu().numpy() == \n",
        "                               torch.argmax(preds,1).detach().cpu().numpy()))\n",
        "    \n",
        "        "
      ],
      "execution_count": 0,
      "outputs": []
    },
    {
      "cell_type": "code",
      "metadata": {
        "id": "McXxbP5TYh-s",
        "colab_type": "code",
        "outputId": "77e56dfc-c9d5-4c9f-e086-a3eb7a724ef3",
        "colab": {
          "base_uri": "https://localhost:8080/",
          "height": 269
        }
      },
      "source": [
        "plt.plot(train_losses, label = \"train\")\n",
        "plt.plot(test_losses, label = \"test\")\n",
        "plt.legend();"
      ],
      "execution_count": 0,
      "outputs": [
        {
          "output_type": "display_data",
          "data": {
            "image/png": "[encoded data removed]",
            "text/plain": [
              "<Figure size 432x288 with 1 Axes>"
            ]
          },
          "metadata": {
            "tags": []
          }
        }
      ]
    },
    {
      "cell_type": "code",
      "metadata": {
        "id": "wHUEgHtihcE1",
        "colab_type": "code",
        "outputId": "d2d1dd23-c45f-4da1-83e6-3d0a6549eb30",
        "colab": {
          "base_uri": "https://localhost:8080/",
          "height": 269
        }
      },
      "source": [
        "plt.plot(train_losses, label = \"train\")\n",
        "plt.plot(test_losses, label = \"test\")\n",
        "plt.legend();"
      ],
      "execution_count": 0,
      "outputs": [
        {
          "output_type": "display_data",
          "data": {
            "image/png": "[encoded data removed]",
            "text/plain": [
              "<Figure size 432x288 with 1 Axes>"
            ]
          },
          "metadata": {
            "tags": []
          }
        }
      ]
    },
    {
      "cell_type": "code",
      "metadata": {
        "id": "KApvdW4XvQS1",
        "colab_type": "code",
        "outputId": "b545a8fc-1f6c-4d68-eef1-8b65cdbd2bb6",
        "colab": {
          "base_uri": "https://localhost:8080/",
          "height": 269
        }
      },
      "source": [
        "plt.plot(train_losses, label = \"train\")\n",
        "plt.plot(test_losses, label = \"test\")\n",
        "plt.legend();"
      ],
      "execution_count": 0,
      "outputs": [
        {
          "output_type": "display_data",
          "data": {
            "image/png": "[encoded data removed]",
            "text/plain": [
              "<Figure size 432x288 with 1 Axes>"
            ]
          },
          "metadata": {
            "tags": []
          }
        }
      ]
    },
    {
      "cell_type": "code",
      "metadata": {
        "id": "x5sQuQpRts2s",
        "colab_type": "code",
        "outputId": "fb77b015-b805-4b7a-b3c3-4e49d98b5209",
        "colab": {
          "base_uri": "https://localhost:8080/",
          "height": 34
        }
      },
      "source": [
        "batch_idx"
      ],
      "execution_count": 0,
      "outputs": [
        {
          "output_type": "execute_result",
          "data": {
            "text/plain": [
              "0"
            ]
          },
          "metadata": {
            "tags": []
          },
          "execution_count": 360
        }
      ]
    },
    {
      "cell_type": "code",
      "metadata": {
        "id": "VjJ_5uk1t75L",
        "colab_type": "code",
        "colab": {}
      },
      "source": [
        "##########################\n",
        "### MODEL\n",
        "##########################\n",
        "\n",
        "class MLP(torch.nn.Module):\n",
        "\n",
        "    def __init__(self, num_hidden = 128):\n",
        "        super(MLP, self).__init__()\n",
        "        \n",
        "        ### ENCODER\n",
        "        self.linear_1 = torch.nn.Linear(784, 1024)\n",
        "\n",
        "        \n",
        "        self.linear_2 = torch.nn.Linear(1024, 10)\n",
        "       \n",
        "        \n",
        "        self.softmax = torch.nn.Softmax(dim=1)\n",
        "        \n",
        "\n",
        "    def forward(self, x):\n",
        "        \n",
        "        z = F.leaky_relu(self.linear_1(x))\n",
        "        \n",
        "        \n",
        "        z = self.linear_2(z)\n",
        "        return self.softmax(z)"
      ],
      "execution_count": 0,
      "outputs": []
    },
    {
      "cell_type": "code",
      "metadata": {
        "id": "xxgStlpS3F8I",
        "colab_type": "code",
        "colab": {}
      },
      "source": [
        "torch.manual_seed(random_seed)\n",
        "baseline_model = MLPPreTrained(256).to(device)\n",
        "optimizer = torch.optim.Adam(baseline_model.parameters(), lr=learning_rate)"
      ],
      "execution_count": 0,
      "outputs": []
    },
    {
      "cell_type": "code",
      "metadata": {
        "id": "WPfs3X_B3MmK",
        "colab_type": "code",
        "colab": {}
      },
      "source": [
        "criterion = torch.nn.CrossEntropyLoss()"
      ],
      "execution_count": 0,
      "outputs": []
    },
    {
      "cell_type": "code",
      "metadata": {
        "id": "zf9Cvshw3P7H",
        "colab_type": "code",
        "colab": {}
      },
      "source": [
        "num_epochs = 200\n",
        "train_losses = []\n",
        "test_losses = []\n",
        "for epoch in range(num_epochs):\n",
        "    for batch_idx, (features, targets) in enumerate(train_loader):\n",
        "        \n",
        "        if batch_idx > 0:\n",
        "            break\n",
        "        \n",
        "        \n",
        "        features = features.view(-1, 28*28).to(device)\n",
        "            \n",
        "        ### FORWARD AND BACK PROP\n",
        "        baseline_model.train()\n",
        "        preds = baseline_model(features)\n",
        "        loss = criterion(preds, targets)\n",
        "        optimizer.zero_grad()\n",
        "        \n",
        "        loss.backward()\n",
        "        \n",
        "        ### UPDATE MODEL PARAMETERS\n",
        "        optimizer.step()\n",
        "        train_losses.append(np.mean(targets.detach().numpy() == \n",
        "                            torch.argmax(preds,1).detach().numpy()))\n",
        "        \n",
        "    baseline_model.eval()\n",
        "    features = features.view(-1, 28*28).to(device)\n",
        "            \n",
        "    preds = baseline_model(features)\n",
        "\n",
        "    test_losses.append(np.mean(targets.detach().numpy() == \n",
        "                               torch.argmax(preds,1).detach().numpy()))\n",
        "    \n",
        "        "
      ],
      "execution_count": 0,
      "outputs": []
    },
    {
      "cell_type": "code",
      "metadata": {
        "id": "2k_XZ_La3ZQr",
        "colab_type": "code",
        "outputId": "209e0c8f-3bbf-4c46-996b-56007bc661a9",
        "colab": {
          "base_uri": "https://localhost:8080/",
          "height": 269
        }
      },
      "source": [
        "plt.plot(train_losses, label = \"train\")\n",
        "plt.plot(test_losses, label = \"test\")\n",
        "plt.legend();"
      ],
      "execution_count": 0,
      "outputs": [
        {
          "output_type": "display_data",
          "data": {
            "image/png": "[encoded data removed]",
            "text/plain": [
              "<Figure size 432x288 with 1 Axes>"
            ]
          },
          "metadata": {
            "tags": []
          }
        }
      ]
    },
    {
      "cell_type": "markdown",
      "metadata": {
        "id": "is3S3duNTUHZ",
        "colab_type": "text"
      },
      "source": [
        "# Implementing Denoising AE\n",
        "\n",
        "Training AEs provides us with a framework for uncovering the hidden/latent space of a dataset. The advantage of uncovering this latent space is that it is far simpler than the original space. As suggested in the outlier detection section, if the data points deviate from the latent space, then they will hav a very different properties than the rest of the data. This observation leads us to an application of AEs for de-noising noisy data. The denoising AE is a training framework for recoving clearn data from noise-corrupted data. \n",
        "\n",
        "\n",
        "Here is how it works. In the usual AE, the input to the AE is $x$ and the output is $\\hat{x}$. We train the AE so that the loss between $x$ and $\\hat{x}$ is small. That is, we want to make sure that the AE is able to recoover the input data. In the denoisinng AE,during training the input $x$ is purposefully corrupted with noise so that the input is $x_{\\text{corrupted}}$. The output of the AE $\\hat{x}$ then is to recover the original uncorrupted $x$. \n",
        "\n",
        "The neat part is is since we actually have the original uncorrupted $x$ we are able to compute the loss $l(x, \\hat{x})$, that is we want the output to recover no thet corrupted input but the original uncorrupted $x$. \n",
        "\n",
        "\n",
        "\n",
        "For example, lets say we wanted to solve the problem where some pixles an image corrupted (eg. mssing) etc. "
      ]
    },
    {
      "cell_type": "markdown",
      "metadata": {
        "id": "AJ8bkArO3SCS",
        "colab_type": "text"
      },
      "source": [
        "# Using Siamese Networks for Pre-Training\n",
        "\n",
        "\n",
        "In some applications we are not interested in predicting an output $y$ for a given input $x$ but rather want to know how one input $x_{i}$ compares to another $x_j$. For example, lets imagine we want to build a security camera system that allows entry to a building only for people on a \"Green List.\" The way this would worrk is we have a list of pictures of individuals in our system that we place on the Green List that we would allow in to the building. Then when an idividual approaches the entry of the building, the security camera takes a picture and compares this picture with the list of pictures in the Green List. If there is a match to our Green List, then we allow entry. \n",
        "\n",
        "How can we go about building such a system? A first naive approach would be to compute the distance between the query image and the set of Green Listed images. If we have $N$ images in our Green List, then we compute $N$ distances. If the smallet distance is below some threshold $T$ then we accept the query image as being part of the Green List and otherwise reject. \n",
        "\n",
        "In practice we have to be very careful how we design the distance function. Unfortunately a simple Euclidean distance between the pixels is terrible. A much better approach would be to extract features from the image and we compute distance over the image features instead of the pixels. How would we go about extracting features? Well, we know that th efeatures we get froma pre-trained network re very useful. So we could use that and have a baseline system. \n",
        "\n",
        "One drawback of our approach is that we are not doing any learning or fine-tuning the system. This is where the Siamese Network can be a useful framework. In this framework we train a network over pairs of samples and each pair is assigned a label. For example, a query image and another image are assigned a label if they are showing the same person. Because the Network is over pairs of inputs, it has a pecuiliar architecture. \n",
        "\n",
        "We have a single embedding network $f_{emb}$ that acts twice on the a pair of inputs $x_{i}$ and $x_{j}$ to produce $z_i = f_{emb}(x_i)$ and $z_j = f_{emb}(x_j)$. Note that even though we have two inputs and two outputs, there is only *one* network. Sometimes this is referred to as having a two networks for each input but with \"tied\" or \"shared\" weights. Then the distance between $z_i$ and $z_j$ will determine if the two samples are similar or not. \n",
        "\n",
        "\n"
      ]
    },
    {
      "cell_type": "code",
      "metadata": {
        "id": "N-7L23hn3Qq_",
        "colab_type": "code",
        "colab": {}
      },
      "source": [
        "from torch.utils.data import Dataset\n",
        "from PIL import Image"
      ],
      "execution_count": 0,
      "outputs": []
    },
    {
      "cell_type": "code",
      "metadata": {
        "id": "caQ9E6qG6Iv0",
        "colab_type": "code",
        "colab": {}
      },
      "source": [
        "import torch.nn as nn\n",
        "import torch.nn.functional as F"
      ],
      "execution_count": 0,
      "outputs": []
    },
    {
      "cell_type": "code",
      "metadata": {
        "id": "92EhH1Om3bAS",
        "colab_type": "code",
        "colab": {}
      },
      "source": [
        "\n",
        "# provided courtesy of: https://github.com/adambielski/siamese-triplet\n",
        "class SiameseMNIST(Dataset):\n",
        "    \"\"\"\n",
        "    Train: For each sample creates randomly a positive or a negative pair\n",
        "    Test: Creates fixed pairs for testing\n",
        "    \"\"\"\n",
        "\n",
        "    def __init__(self, mnist_dataset):\n",
        "        self.mnist_dataset = mnist_dataset\n",
        "\n",
        "        self.train = self.mnist_dataset.train\n",
        "        self.transform = self.mnist_dataset.transform\n",
        "\n",
        "        if self.train:\n",
        "            self.train_labels = self.mnist_dataset.train_labels\n",
        "            self.train_data = self.mnist_dataset.train_data\n",
        "            self.labels_set = set(self.train_labels.numpy())\n",
        "            self.label_to_indices = {label: np.where(self.train_labels.numpy() == label)[0]\n",
        "                                     for label in self.labels_set}\n",
        "        else:\n",
        "            # generate fixed pairs for testing\n",
        "            self.test_labels = self.mnist_dataset.test_labels\n",
        "            self.test_data = self.mnist_dataset.test_data\n",
        "            self.labels_set = set(self.test_labels.numpy())\n",
        "            self.label_to_indices = {label: np.where(self.test_labels.numpy() == label)[0]\n",
        "                                     for label in self.labels_set}\n",
        "\n",
        "            random_state = np.random.RandomState(29)\n",
        "\n",
        "            positive_pairs = [[i,\n",
        "                               random_state.choice(self.label_to_indices[self.test_labels[i].item()]),\n",
        "                               1]\n",
        "                              for i in range(0, len(self.test_data), 2)]\n",
        "\n",
        "            negative_pairs = [[i,\n",
        "                               random_state.choice(self.label_to_indices[\n",
        "                                                       np.random.choice(\n",
        "                                                           list(self.labels_set - set([self.test_labels[i].item()]))\n",
        "                                                       )\n",
        "                                                   ]),\n",
        "                               0]\n",
        "                              for i in range(1, len(self.test_data), 2)]\n",
        "            self.test_pairs = positive_pairs + negative_pairs\n",
        "\n",
        "    def __getitem__(self, index):\n",
        "        if self.train:\n",
        "            target = np.random.randint(0, 2)\n",
        "            img1, label1 = self.train_data[index], self.train_labels[index].item()\n",
        "            if target == 1:\n",
        "                siamese_index = index\n",
        "                while siamese_index == index:\n",
        "                    siamese_index = np.random.choice(self.label_to_indices[label1])\n",
        "            else:\n",
        "                siamese_label = np.random.choice(list(self.labels_set - set([label1])))\n",
        "                siamese_index = np.random.choice(self.label_to_indices[siamese_label])\n",
        "            img2 = self.train_data[siamese_index]\n",
        "        else:\n",
        "            img1 = self.test_data[self.test_pairs[index][0]]\n",
        "            img2 = self.test_data[self.test_pairs[index][1]]\n",
        "            target = self.test_pairs[index][2]\n",
        "\n",
        "        img1 = Image.fromarray(img1.numpy(), mode='L')\n",
        "        img2 = Image.fromarray(img2.numpy(), mode='L')\n",
        "        if self.transform is not None:\n",
        "            img1 = self.transform(img1)\n",
        "            img2 = self.transform(img2)\n",
        "        return (img1, img2), target\n",
        "\n",
        "    def __len__(self):\n",
        "        return len(self.mnist_dataset)"
      ],
      "execution_count": 0,
      "outputs": []
    },
    {
      "cell_type": "code",
      "metadata": {
        "id": "lWWqTpEn3mEH",
        "colab_type": "code",
        "outputId": "631e0530-0550-4eb2-b35c-14b3e1d691fd",
        "colab": {
          "base_uri": "https://localhost:8080/",
          "height": 275
        }
      },
      "source": [
        "from torchvision.datasets import MNIST\n",
        "from torchvision import transforms\n",
        "\n",
        "mean, std = 0.1307, 0.3081\n",
        "\n",
        "train_dataset = MNIST('../data/MNIST', train=True, download=True,\n",
        "                             transform=transforms.Compose([\n",
        "                                 transforms.ToTensor(),\n",
        "                                 transforms.Normalize((mean,), (std,))\n",
        "                             ]))\n",
        "test_dataset = MNIST('../data/MNIST', train=False, download=True,\n",
        "                            transform=transforms.Compose([\n",
        "                                transforms.ToTensor(),\n",
        "                                transforms.Normalize((mean,), (std,))\n",
        "                            ]))\n",
        "n_classes = 10"
      ],
      "execution_count": 0,
      "outputs": [
        {
          "output_type": "stream",
          "text": [
            "\r0it [00:00, ?it/s]"
          ],
          "name": "stderr"
        },
        {
          "output_type": "stream",
          "text": [
            "Downloading http://yann.lecun.com/exdb/mnist/train-images-idx3-ubyte.gz to ../data/MNIST/MNIST/raw/train-images-idx3-ubyte.gz\n"
          ],
          "name": "stdout"
        },
        {
          "output_type": "stream",
          "text": [
            "9920512it [00:01, 6759732.76it/s]                             \n"
          ],
          "name": "stderr"
        },
        {
          "output_type": "stream",
          "text": [
            "Extracting ../data/MNIST/MNIST/raw/train-images-idx3-ubyte.gz\n"
          ],
          "name": "stdout"
        },
        {
          "output_type": "stream",
          "text": [
            "32768it [00:00, 309296.41it/s]                           \n",
            "0it [00:00, ?it/s]"
          ],
          "name": "stderr"
        },
        {
          "output_type": "stream",
          "text": [
            "Downloading http://yann.lecun.com/exdb/mnist/train-labels-idx1-ubyte.gz to ../data/MNIST/MNIST/raw/train-labels-idx1-ubyte.gz\n",
            "Extracting ../data/MNIST/MNIST/raw/train-labels-idx1-ubyte.gz\n",
            "Downloading http://yann.lecun.com/exdb/mnist/t10k-images-idx3-ubyte.gz to ../data/MNIST/MNIST/raw/t10k-images-idx3-ubyte.gz\n"
          ],
          "name": "stdout"
        },
        {
          "output_type": "stream",
          "text": [
            "1654784it [00:00, 4977643.74it/s]                           \n",
            "8192it [00:00, 123440.77it/s]\n"
          ],
          "name": "stderr"
        },
        {
          "output_type": "stream",
          "text": [
            "Extracting ../data/MNIST/MNIST/raw/t10k-images-idx3-ubyte.gz\n",
            "Downloading http://yann.lecun.com/exdb/mnist/t10k-labels-idx1-ubyte.gz to ../data/MNIST/MNIST/raw/t10k-labels-idx1-ubyte.gz\n",
            "Extracting ../data/MNIST/MNIST/raw/t10k-labels-idx1-ubyte.gz\n",
            "Processing...\n",
            "Done!\n"
          ],
          "name": "stdout"
        }
      ]
    },
    {
      "cell_type": "code",
      "metadata": {
        "id": "Yq_KnNzK4Off",
        "colab_type": "code",
        "colab": {}
      },
      "source": [
        "cuda = torch.cuda.is_available()\n",
        "kwargs = {'num_workers': 1, 'pin_memory': True} if cuda else {}"
      ],
      "execution_count": 0,
      "outputs": []
    },
    {
      "cell_type": "code",
      "metadata": {
        "id": "nop6K7Q43sYW",
        "colab_type": "code",
        "outputId": "93f8ae3a-9a2d-49f2-e2a5-b3b391e4d9ea",
        "colab": {
          "base_uri": "https://localhost:8080/",
          "height": 173
        }
      },
      "source": [
        "siamese_train_dataset = SiameseMNIST(train_dataset) # Returns pairs of images and target same/different\n",
        "siamese_test_dataset = SiameseMNIST(test_dataset)\n",
        "batch_size = 128\n",
        "kwargs = {'num_workers': 1, 'pin_memory': True} if cuda else {}\n",
        "siamese_train_loader = torch.utils.data.DataLoader(siamese_train_dataset, batch_size=batch_size, shuffle=True, **kwargs)\n",
        "siamese_test_loader = torch.utils.data.DataLoader(siamese_test_dataset, batch_size=batch_size, shuffle=False, **kwargs)"
      ],
      "execution_count": 0,
      "outputs": [
        {
          "output_type": "stream",
          "text": [
            "/usr/local/lib/python3.6/dist-packages/torchvision/datasets/mnist.py:43: UserWarning: train_labels has been renamed targets\n",
            "  warnings.warn(\"train_labels has been renamed targets\")\n",
            "/usr/local/lib/python3.6/dist-packages/torchvision/datasets/mnist.py:53: UserWarning: train_data has been renamed data\n",
            "  warnings.warn(\"train_data has been renamed data\")\n",
            "/usr/local/lib/python3.6/dist-packages/torchvision/datasets/mnist.py:48: UserWarning: test_labels has been renamed targets\n",
            "  warnings.warn(\"test_labels has been renamed targets\")\n",
            "/usr/local/lib/python3.6/dist-packages/torchvision/datasets/mnist.py:58: UserWarning: test_data has been renamed data\n",
            "  warnings.warn(\"test_data has been renamed data\")\n"
          ],
          "name": "stderr"
        }
      ]
    },
    {
      "cell_type": "code",
      "metadata": {
        "id": "VXPTFpYB5wZ4",
        "colab_type": "code",
        "colab": {}
      },
      "source": [
        "class EmbeddingNet(nn.Module):\n",
        "    def __init__(self):\n",
        "        super(EmbeddingNet, self).__init__()\n",
        "        self.convnet = nn.Sequential(nn.Conv2d(1, 32, 5), nn.PReLU(),\n",
        "                                     nn.MaxPool2d(2, stride=2),\n",
        "                                     nn.Conv2d(32, 64, 5), nn.PReLU(),\n",
        "                                     nn.MaxPool2d(2, stride=2))\n",
        "\n",
        "        self.fc = nn.Sequential(nn.Linear(64 * 4 * 4, 256),\n",
        "                                nn.PReLU(),\n",
        "                                nn.Linear(256, 256),\n",
        "                                nn.PReLU(),\n",
        "                                nn.Linear(256, 2)\n",
        "                                )\n",
        "\n",
        "    def forward(self, x):\n",
        "        output = self.convnet(x)\n",
        "        output = output.view(output.size()[0], -1)\n",
        "        output = self.fc(output)\n",
        "        return output\n",
        "\n",
        "    def get_embedding(self, x):\n",
        "        return self.forward(x)"
      ],
      "execution_count": 0,
      "outputs": []
    },
    {
      "cell_type": "code",
      "metadata": {
        "id": "j55Yg--S4maI",
        "colab_type": "code",
        "colab": {}
      },
      "source": [
        "class SiameseNet(nn.Module):\n",
        "    def __init__(self, embedding_net):\n",
        "        super(SiameseNet, self).__init__()\n",
        "        self.embedding_net = embedding_net\n",
        "\n",
        "    def forward(self, x1, x2):\n",
        "        output1 = self.embedding_net(x1)\n",
        "        output2 = self.embedding_net(x2)\n",
        "        return output1, output2\n",
        "\n",
        "    def get_embedding(self, x):\n",
        "        return self.embedding_net(x)\n"
      ],
      "execution_count": 0,
      "outputs": []
    },
    {
      "cell_type": "code",
      "metadata": {
        "id": "ZhH0etmk6KAd",
        "colab_type": "code",
        "colab": {}
      },
      "source": [
        "embedding_model = EmbeddingNet()\n",
        "siamese_model = SiameseNet(embedding_net = embedding_model)"
      ],
      "execution_count": 0,
      "outputs": []
    },
    {
      "cell_type": "code",
      "metadata": {
        "id": "2KkFvgVM6V-8",
        "colab_type": "code",
        "colab": {}
      },
      "source": [
        "siamese_model = SiameseNet(embedding_net = EmbeddingNet())\n",
        "if cuda:\n",
        "    siamese_model.cuda()"
      ],
      "execution_count": 0,
      "outputs": []
    },
    {
      "cell_type": "code",
      "metadata": {
        "id": "DWkD3tpW8Xlb",
        "colab_type": "code",
        "colab": {}
      },
      "source": [
        "class ContrastiveLoss(nn.Module):\n",
        "    \"\"\"\n",
        "    Contrastive loss\n",
        "    Takes embeddings of two samples and a target label == 1 if samples are from the same class and label == 0 otherwise\n",
        "    \"\"\"\n",
        "\n",
        "    def __init__(self, margin):\n",
        "        super(ContrastiveLoss, self).__init__()\n",
        "        self.margin = margin\n",
        "        self.eps = 1e-9\n",
        "\n",
        "    def forward(self, output1, output2, target, size_average=True):\n",
        "        distances = (output2 - output1).pow(2).sum(1)  # squared distances\n",
        "        losses = 0.5 * (target.float() * distances +\n",
        "                        (1 + -1 * target).float() * F.relu(self.margin - (distances + self.eps).sqrt()).pow(2))\n",
        "        return losses.mean() if size_average else losses.sum()\n",
        "    \n",
        "    \n",
        "def train_epoch(train_loader, model, loss_fn, optimizer, cuda, log_interval, metrics):\n",
        "    for metric in metrics:\n",
        "        metric.reset()\n",
        "\n",
        "    model.train()\n",
        "    losses = []\n",
        "    total_loss = 0\n",
        "\n",
        "    for batch_idx, (data, target) in enumerate(train_loader):\n",
        "        target = target if len(target) > 0 else None\n",
        "        if not type(data) in (tuple, list):\n",
        "            data = (data,)\n",
        "        if cuda:\n",
        "            data = tuple(d.cuda() for d in data)\n",
        "            if target is not None:\n",
        "                target = target.cuda()\n",
        "\n",
        "\n",
        "        optimizer.zero_grad()\n",
        "        outputs = model(*data)\n",
        "\n",
        "        if type(outputs) not in (tuple, list):\n",
        "            outputs = (outputs,)\n",
        "\n",
        "        loss_inputs = outputs\n",
        "        if target is not None:\n",
        "            target = (target,)\n",
        "            loss_inputs += target\n",
        "\n",
        "        loss_outputs = loss_fn(*loss_inputs)\n",
        "        loss = loss_outputs[0] if type(loss_outputs) in (tuple, list) else loss_outputs\n",
        "        losses.append(loss.item())\n",
        "        total_loss += loss.item()\n",
        "        loss.backward()\n",
        "        optimizer.step()\n",
        "\n",
        "        for metric in metrics:\n",
        "            metric(outputs, target, loss_outputs)\n",
        "\n",
        "        if batch_idx % log_interval == 0:\n",
        "            message = 'Train: [{}/{} ({:.0f}%)]\\tLoss: {:.6f}'.format(\n",
        "                batch_idx * len(data[0]), len(train_loader.dataset),\n",
        "                100. * batch_idx / len(train_loader), np.mean(losses))\n",
        "            for metric in metrics:\n",
        "                message += '\\t{}: {}'.format(metric.name(), metric.value())\n",
        "\n",
        "            print(message)\n",
        "            losses = []\n",
        "\n",
        "    total_loss /= (batch_idx + 1)\n",
        "    return total_loss, metrics\n",
        "    \n",
        "    \n",
        "def test_epoch(val_loader, model, loss_fn, cuda, metrics):\n",
        "    with torch.no_grad():\n",
        "        for metric in metrics:\n",
        "            metric.reset()\n",
        "        model.eval()\n",
        "        val_loss = 0\n",
        "        for batch_idx, (data, target) in enumerate(val_loader):\n",
        "            target = target if len(target) > 0 else None\n",
        "            if not type(data) in (tuple, list):\n",
        "                data = (data,)\n",
        "            if cuda:\n",
        "                data = tuple(d.cuda() for d in data)\n",
        "                if target is not None:\n",
        "                    target = target.cuda()\n",
        "\n",
        "            outputs = model(*data)\n",
        "\n",
        "            if type(outputs) not in (tuple, list):\n",
        "                outputs = (outputs,)\n",
        "            loss_inputs = outputs\n",
        "            if target is not None:\n",
        "                target = (target,)\n",
        "                loss_inputs += target\n",
        "\n",
        "            loss_outputs = loss_fn(*loss_inputs)\n",
        "            loss = loss_outputs[0] if type(loss_outputs) in (tuple, list) else loss_outputs\n",
        "            val_loss += loss.item()\n",
        "\n",
        "            for metric in metrics:\n",
        "                metric(outputs, target, loss_outputs)\n",
        "\n",
        "    return val_loss, metrics    "
      ],
      "execution_count": 0,
      "outputs": []
    },
    {
      "cell_type": "code",
      "metadata": {
        "id": "htQ9yCpR8Yhd",
        "colab_type": "code",
        "colab": {}
      },
      "source": [
        "loss_fn = ContrastiveLoss(1.1)\n",
        "optimizer = torch.optim.Adam(siamese_model.parameters(), lr=1e-3)"
      ],
      "execution_count": 0,
      "outputs": []
    },
    {
      "cell_type": "code",
      "metadata": {
        "id": "s3oVNZQl-Zhs",
        "colab_type": "code",
        "outputId": "b47a93b9-5e94-44cb-b043-ec26465cc739",
        "colab": {
          "base_uri": "https://localhost:8080/",
          "height": 1000
        }
      },
      "source": [
        "n_epochs = 30\n",
        "metrics = []\n",
        "log_interval = 100\n",
        "for epoch in range(n_epochs):\n",
        "\n",
        "    # Train stage\n",
        "    train_loss, metrics = train_epoch(siamese_train_loader, siamese_model, loss_fn, optimizer, cuda, log_interval, metrics)\n",
        "\n",
        "    message = 'Epoch: {}/{}. Train set: Average loss: {:.4f}'.format(epoch + 1, n_epochs, train_loss)\n",
        "    for metric in metrics:\n",
        "        message += '\\t{}: {}'.format(metric.name(), metric.value())\n",
        "\n",
        "    val_loss, metrics = test_epoch(siamese_test_loader, siamese_model, loss_fn, cuda, metrics)\n",
        "    val_loss /= len(siamese_test_loader)\n",
        "\n",
        "    message += '\\nEpoch: {}/{}. Validation set: Average loss: {:.4f}'.format(epoch + 1, n_epochs,\n",
        "                                                                             val_loss)\n",
        "    for metric in metrics:\n",
        "        message += '\\t{}: {}'.format(metric.name(), metric.value())"
      ],
      "execution_count": 0,
      "outputs": [
        {
          "output_type": "stream",
          "text": [
            "Train: [0/60000 (0%)]\tLoss: 0.019091\n",
            "Train: [12800/60000 (21%)]\tLoss: 0.022808\n",
            "Train: [25600/60000 (43%)]\tLoss: 0.019412\n",
            "Train: [38400/60000 (64%)]\tLoss: 0.016562\n",
            "Train: [51200/60000 (85%)]\tLoss: 0.014033\n",
            "Train: [0/60000 (0%)]\tLoss: 0.010193\n",
            "Train: [12800/60000 (21%)]\tLoss: 0.013609\n",
            "Train: [25600/60000 (43%)]\tLoss: 0.010862\n",
            "Train: [38400/60000 (64%)]\tLoss: 0.010752\n",
            "Train: [51200/60000 (85%)]\tLoss: 0.010837\n",
            "Train: [0/60000 (0%)]\tLoss: 0.016271\n",
            "Train: [12800/60000 (21%)]\tLoss: 0.009746\n",
            "Train: [25600/60000 (43%)]\tLoss: 0.008306\n",
            "Train: [38400/60000 (64%)]\tLoss: 0.007555\n",
            "Train: [51200/60000 (85%)]\tLoss: 0.008958\n",
            "Train: [0/60000 (0%)]\tLoss: 0.015597\n",
            "Train: [12800/60000 (21%)]\tLoss: 0.006119\n",
            "Train: [25600/60000 (43%)]\tLoss: 0.005288\n",
            "Train: [38400/60000 (64%)]\tLoss: 0.005099\n",
            "Train: [51200/60000 (85%)]\tLoss: 0.004936\n",
            "Train: [0/60000 (0%)]\tLoss: 0.004123\n",
            "Train: [12800/60000 (21%)]\tLoss: 0.004543\n",
            "Train: [25600/60000 (43%)]\tLoss: 0.004763\n",
            "Train: [38400/60000 (64%)]\tLoss: 0.004334\n",
            "Train: [51200/60000 (85%)]\tLoss: 0.005582\n",
            "Train: [0/60000 (0%)]\tLoss: 0.002789\n",
            "Train: [12800/60000 (21%)]\tLoss: 0.004736\n",
            "Train: [25600/60000 (43%)]\tLoss: 0.004344\n",
            "Train: [38400/60000 (64%)]\tLoss: 0.003375\n",
            "Train: [51200/60000 (85%)]\tLoss: 0.004068\n",
            "Train: [0/60000 (0%)]\tLoss: 0.002918\n",
            "Train: [12800/60000 (21%)]\tLoss: 0.002758\n",
            "Train: [25600/60000 (43%)]\tLoss: 0.002815\n",
            "Train: [38400/60000 (64%)]\tLoss: 0.003276\n",
            "Train: [51200/60000 (85%)]\tLoss: 0.003518\n",
            "Train: [0/60000 (0%)]\tLoss: 0.003135\n",
            "Train: [12800/60000 (21%)]\tLoss: 0.002517\n",
            "Train: [25600/60000 (43%)]\tLoss: 0.002596\n",
            "Train: [38400/60000 (64%)]\tLoss: 0.002906\n",
            "Train: [51200/60000 (85%)]\tLoss: 0.002371\n",
            "Train: [0/60000 (0%)]\tLoss: 0.001211\n",
            "Train: [12800/60000 (21%)]\tLoss: 0.001608\n",
            "Train: [25600/60000 (43%)]\tLoss: 0.002817\n",
            "Train: [38400/60000 (64%)]\tLoss: 0.001692\n",
            "Train: [51200/60000 (85%)]\tLoss: 0.001174\n",
            "Train: [0/60000 (0%)]\tLoss: 0.000461\n",
            "Train: [12800/60000 (21%)]\tLoss: 0.001296\n",
            "Train: [25600/60000 (43%)]\tLoss: 0.000961\n",
            "Train: [38400/60000 (64%)]\tLoss: 0.004622\n",
            "Train: [51200/60000 (85%)]\tLoss: 0.002382\n",
            "Train: [0/60000 (0%)]\tLoss: 0.001390\n",
            "Train: [12800/60000 (21%)]\tLoss: 0.002387\n",
            "Train: [25600/60000 (43%)]\tLoss: 0.002531\n",
            "Train: [38400/60000 (64%)]\tLoss: 0.001682\n",
            "Train: [51200/60000 (85%)]\tLoss: 0.001244\n",
            "Train: [0/60000 (0%)]\tLoss: 0.002062\n",
            "Train: [12800/60000 (21%)]\tLoss: 0.001812\n",
            "Train: [25600/60000 (43%)]\tLoss: 0.001082\n",
            "Train: [38400/60000 (64%)]\tLoss: 0.001250\n",
            "Train: [51200/60000 (85%)]\tLoss: 0.002069\n",
            "Train: [0/60000 (0%)]\tLoss: 0.000973\n",
            "Train: [12800/60000 (21%)]\tLoss: 0.001064\n",
            "Train: [25600/60000 (43%)]\tLoss: 0.001951\n",
            "Train: [38400/60000 (64%)]\tLoss: 0.001114\n",
            "Train: [51200/60000 (85%)]\tLoss: 0.001399\n",
            "Train: [0/60000 (0%)]\tLoss: 0.001651\n",
            "Train: [12800/60000 (21%)]\tLoss: 0.003277\n",
            "Train: [25600/60000 (43%)]\tLoss: 0.003439\n",
            "Train: [38400/60000 (64%)]\tLoss: 0.001713\n",
            "Train: [51200/60000 (85%)]\tLoss: 0.002288\n",
            "Train: [0/60000 (0%)]\tLoss: 0.000917\n",
            "Train: [12800/60000 (21%)]\tLoss: 0.000987\n",
            "Train: [25600/60000 (43%)]\tLoss: 0.001161\n",
            "Train: [38400/60000 (64%)]\tLoss: 0.001073\n",
            "Train: [51200/60000 (85%)]\tLoss: 0.000577\n",
            "Train: [0/60000 (0%)]\tLoss: 0.007655\n",
            "Train: [12800/60000 (21%)]\tLoss: 0.001372\n",
            "Train: [25600/60000 (43%)]\tLoss: 0.000682\n",
            "Train: [38400/60000 (64%)]\tLoss: 0.000751\n",
            "Train: [51200/60000 (85%)]\tLoss: 0.000838\n",
            "Train: [0/60000 (0%)]\tLoss: 0.000694\n",
            "Train: [12800/60000 (21%)]\tLoss: 0.000467\n",
            "Train: [25600/60000 (43%)]\tLoss: 0.000317\n",
            "Train: [38400/60000 (64%)]\tLoss: 0.000394\n",
            "Train: [51200/60000 (85%)]\tLoss: 0.000291\n",
            "Train: [0/60000 (0%)]\tLoss: 0.000118\n",
            "Train: [12800/60000 (21%)]\tLoss: 0.000474\n",
            "Train: [25600/60000 (43%)]\tLoss: 0.001895\n",
            "Train: [38400/60000 (64%)]\tLoss: 0.001574\n",
            "Train: [51200/60000 (85%)]\tLoss: 0.001403\n",
            "Train: [0/60000 (0%)]\tLoss: 0.001425\n",
            "Train: [12800/60000 (21%)]\tLoss: 0.000628\n",
            "Train: [25600/60000 (43%)]\tLoss: 0.001418\n",
            "Train: [38400/60000 (64%)]\tLoss: 0.001183\n",
            "Train: [51200/60000 (85%)]\tLoss: 0.000662\n",
            "Train: [0/60000 (0%)]\tLoss: 0.000166\n",
            "Train: [12800/60000 (21%)]\tLoss: 0.000619\n",
            "Train: [25600/60000 (43%)]\tLoss: 0.000670\n",
            "Train: [38400/60000 (64%)]\tLoss: 0.000185\n",
            "Train: [51200/60000 (85%)]\tLoss: 0.000407\n",
            "Train: [0/60000 (0%)]\tLoss: 0.000042\n",
            "Train: [12800/60000 (21%)]\tLoss: 0.000157\n",
            "Train: [25600/60000 (43%)]\tLoss: 0.000158\n",
            "Train: [38400/60000 (64%)]\tLoss: 0.001046\n",
            "Train: [51200/60000 (85%)]\tLoss: 0.000756\n",
            "Train: [0/60000 (0%)]\tLoss: 0.000140\n",
            "Train: [12800/60000 (21%)]\tLoss: 0.000879\n",
            "Train: [25600/60000 (43%)]\tLoss: 0.004691\n",
            "Train: [38400/60000 (64%)]\tLoss: 0.002723\n",
            "Train: [51200/60000 (85%)]\tLoss: 0.002136\n",
            "Train: [0/60000 (0%)]\tLoss: 0.000670\n",
            "Train: [12800/60000 (21%)]\tLoss: 0.002201\n",
            "Train: [25600/60000 (43%)]\tLoss: 0.001981\n",
            "Train: [38400/60000 (64%)]\tLoss: 0.000763\n",
            "Train: [51200/60000 (85%)]\tLoss: 0.000393\n",
            "Train: [0/60000 (0%)]\tLoss: 0.000154\n",
            "Train: [12800/60000 (21%)]\tLoss: 0.000552\n",
            "Train: [25600/60000 (43%)]\tLoss: 0.000978\n",
            "Train: [38400/60000 (64%)]\tLoss: 0.000392\n",
            "Train: [51200/60000 (85%)]\tLoss: 0.000745\n",
            "Train: [0/60000 (0%)]\tLoss: 0.001133\n",
            "Train: [12800/60000 (21%)]\tLoss: 0.000388\n",
            "Train: [25600/60000 (43%)]\tLoss: 0.000397\n",
            "Train: [38400/60000 (64%)]\tLoss: 0.000948\n",
            "Train: [51200/60000 (85%)]\tLoss: 0.001096\n",
            "Train: [0/60000 (0%)]\tLoss: 0.000146\n",
            "Train: [12800/60000 (21%)]\tLoss: 0.000861\n",
            "Train: [25600/60000 (43%)]\tLoss: 0.000424\n",
            "Train: [38400/60000 (64%)]\tLoss: 0.000697\n",
            "Train: [51200/60000 (85%)]\tLoss: 0.000289\n",
            "Train: [0/60000 (0%)]\tLoss: 0.000713\n",
            "Train: [12800/60000 (21%)]\tLoss: 0.000320\n",
            "Train: [25600/60000 (43%)]\tLoss: 0.000377\n",
            "Train: [38400/60000 (64%)]\tLoss: 0.000173\n",
            "Train: [51200/60000 (85%)]\tLoss: 0.000252\n",
            "Train: [0/60000 (0%)]\tLoss: 0.000083\n",
            "Train: [12800/60000 (21%)]\tLoss: 0.000356\n",
            "Train: [25600/60000 (43%)]\tLoss: 0.000159\n",
            "Train: [38400/60000 (64%)]\tLoss: 0.000213\n",
            "Train: [51200/60000 (85%)]\tLoss: 0.000226\n",
            "Train: [0/60000 (0%)]\tLoss: 0.004944\n",
            "Train: [12800/60000 (21%)]\tLoss: 0.000239\n",
            "Train: [25600/60000 (43%)]\tLoss: 0.001493\n",
            "Train: [38400/60000 (64%)]\tLoss: 0.000645\n",
            "Train: [51200/60000 (85%)]\tLoss: 0.002739\n",
            "Train: [0/60000 (0%)]\tLoss: 0.007659\n",
            "Train: [12800/60000 (21%)]\tLoss: 0.002379\n",
            "Train: [25600/60000 (43%)]\tLoss: 0.000993\n",
            "Train: [38400/60000 (64%)]\tLoss: 0.001426\n",
            "Train: [51200/60000 (85%)]\tLoss: 0.000751\n"
          ],
          "name": "stdout"
        }
      ]
    },
    {
      "cell_type": "code",
      "metadata": {
        "id": "CGTkPU43_Kzh",
        "colab_type": "code",
        "colab": {}
      },
      "source": [
        "%matplotlib inline\n",
        "import matplotlib\n",
        "import matplotlib.pyplot as plt\n",
        "\n",
        "mnist_classes = ['0', '1', '2', '3', '4', '5', '6', '7', '8', '9']\n",
        "colors = ['#1f77b4', '#ff7f0e', '#2ca02c', '#d62728',\n",
        "              '#9467bd', '#8c564b', '#e377c2', '#7f7f7f',\n",
        "              '#bcbd22', '#17becf']\n",
        "\n",
        "def plot_embeddings(embeddings, targets, xlim=None, ylim=None):\n",
        "    plt.figure(figsize=(10,10))\n",
        "    for i in range(10):\n",
        "        inds = np.where(targets==i)[0]\n",
        "        plt.scatter(embeddings[inds,0], embeddings[inds,1], alpha=0.5, color=colors[i])\n",
        "    if xlim:\n",
        "        plt.xlim(xlim[0], xlim[1])\n",
        "    if ylim:\n",
        "        plt.ylim(ylim[0], ylim[1])\n",
        "    plt.legend(mnist_classes)\n",
        "\n",
        "def extract_embeddings(dataloader, model):\n",
        "    with torch.no_grad():\n",
        "        model.eval()\n",
        "        embeddings = np.zeros((len(dataloader.dataset), 2))\n",
        "        labels = np.zeros(len(dataloader.dataset))\n",
        "        k = 0\n",
        "        for images, target in dataloader:\n",
        "            if cuda:\n",
        "                images = images.cuda()\n",
        "            embeddings[k:k+len(images)] = model.get_embedding(images).data.cpu().numpy()\n",
        "            labels[k:k+len(images)] = target.numpy()\n",
        "            k += len(images)\n",
        "    return embeddings, labels"
      ],
      "execution_count": 0,
      "outputs": []
    },
    {
      "cell_type": "code",
      "metadata": {
        "id": "ZpKVrPTbEmiu",
        "colab_type": "code",
        "colab": {}
      },
      "source": [
        "batch_size = 256\n",
        "kwargs = {'num_workers': 1, 'pin_memory': True} if cuda else {}\n",
        "train_loader = torch.utils.data.DataLoader(train_dataset, batch_size=batch_size, shuffle=True, **kwargs)\n",
        "test_loader = torch.utils.data.DataLoader(test_dataset, batch_size=batch_size, shuffle=False, **kwargs)"
      ],
      "execution_count": 0,
      "outputs": []
    },
    {
      "cell_type": "code",
      "metadata": {
        "id": "nuELDxnXD92Y",
        "colab_type": "code",
        "outputId": "1b7da521-f667-4181-dd88-b7c903317ca5",
        "colab": {
          "base_uri": "https://localhost:8080/",
          "height": 595
        }
      },
      "source": [
        "\n",
        "train_embeddings_cl, train_labels_cl = extract_embeddings(train_loader, siamese_model)\n",
        "plot_embeddings(train_embeddings_cl, train_labels_cl)"
      ],
      "execution_count": 0,
      "outputs": [
        {
          "output_type": "display_data",
          "data": {
            "image/png": "[encoded data removed]",
            "text/plain": [
              "<Figure size 720x720 with 1 Axes>"
            ]
          },
          "metadata": {
            "tags": []
          }
        }
      ]
    },
    {
      "cell_type": "code",
      "metadata": {
        "id": "twazpPWTENR4",
        "colab_type": "code",
        "outputId": "38d9958e-d1e3-4fa2-badd-78aed8643cd5",
        "colab": {
          "base_uri": "https://localhost:8080/",
          "height": 595
        }
      },
      "source": [
        "val_embeddings_cl, val_labels_cl = extract_embeddings(test_loader, siamese_model)\n",
        "plot_embeddings(val_embeddings_cl, val_labels_cl)"
      ],
      "execution_count": 0,
      "outputs": [
        {
          "output_type": "display_data",
          "data": {
            "image/png": "[encoded data removed]",
            "text/plain": [
              "<Figure size 720x720 with 1 Axes>"
            ]
          },
          "metadata": {
            "tags": []
          }
        }
      ]
    },
    {
      "cell_type": "code",
      "metadata": {
        "id": "uMooAS1wFJgs",
        "colab_type": "code",
        "colab": {}
      },
      "source": [
        ""
      ],
      "execution_count": 0,
      "outputs": []
    }
  ]
}