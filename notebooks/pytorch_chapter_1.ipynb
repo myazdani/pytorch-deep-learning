{
 "cells": [
  {
   "cell_type": "markdown",
   "metadata": {
    "colab_type": "text",
    "id": "view-in-github"
   },
   "source": [
    "<a href=\"https://colab.research.google.com/github/myazdani/pytorch-deep-learning/blob/master/pytorch_chapter_1.ipynb\" target=\"_parent\"><img src=\"https://colab.research.google.com/assets/colab-badge.svg\" alt=\"Open In Colab\"/></a>"
   ]
  },
  {
   "cell_type": "markdown",
   "metadata": {
    "colab_type": "text",
    "id": "m5AXZazcrN_k"
   },
   "source": [
    "\n",
    "# What is PyTorch?\n",
    "\n",
    "PyTorch is a Python library for building computational graphs. Even though you might see it used in a lot of deep learning or machine learning applications, it is much more general. But what is a computational graph? \n",
    "\n",
    "A computational graph is a graph-based framework for describing algebraic expressions such as y = 2x or y = mx + b along with their derivatives. Such computational graphs are usually shown like below:\n",
    "\n",
    "![A simple computational graph](imgs/basic-graph.png)\n",
    "\n",
    "Above we see a graph that is a collection of nodes and directed edges. In a computational graph the edges represent functions applied on data: in our simple example the multiplication of two values. The nodes store data values, in this case the constant “2”, and the variables “x” and “y”. When we use the computation graph to compute y = 2x, this is referred to as the forward computation or the forward pass. \n",
    "\n",
    "\n",
    "\n",
    "\n",
    "Often in scientific computing and machine learning, we are not just interested in the forward computation, but also want to know how this function is changing. In other words,  we want to compute the derivative of this function. Because of the importance of derivatives, the nodes in the computational graph are also endowed with the derivatives of the incoming edges that express a computation. This framework allows us to compute derivatives efficiently with what is referred to as backward computation or the backward pass. We will cover these ideas much further later in the chapter. \n",
    "\n",
    "\n",
    "At first the computational graph framework may seem like an excessive way of computing algebraic expression. However, the ability for forward computation (just algebraic expressions) along with backward computation (their respective derivatives) provides an incredible efficient and unified framework for numerous scientific applications including machine learning. The computational graph really shines at taking derivatives because complicated algebraic expression reduce to a series of backward computations, freeing us humans from the need to analytically derive derivatives. \n",
    "\n",
    "PyTorch provides a computational graph framework that allows us to perform forward and backward computation at ease. PyTorch comes equipped with several useful data structures and modules that makes defining graphs easy. In particular, in this book we will be covering at great length:\n",
    "\n",
    "- torch.Tensors: the primary data structure in PyTorch, Tensors are multi-dimensional arrays equipped with numerous linear algebraic methods. If you are a NumPy user, learning PyTorch Tensor comes at ease since the syntax is similar. In addition to sharing many similarities with NumPy arrays, PyTorch Tensors can also be offloaded on GPU with CUDA support to take advantage of accelerated matrix multiplications. \n",
    "- torch.autograd: The autograd module keeps track of the forward computations in the computation graph to then allow us to perform automatic differentiation in the backward pass. \n",
    "- torch.optim: A collection of gradient-based optimization solvers, such as Stochastic Gradient Descent and Adam. \n",
    "- torch.nn: While the operations in torch.Tensors will allow us to define any computational graph, certain computations in deep learning are so common that torch.nn will provide a high level API for them. Typically for deep learning applications, torch.nn is used to create sophisticated high level neural network architectures.\n",
    "\n",
    "If you do not understand what a lot of the terms above means at this point, do not fret. We just want to give a high level overview of what PyTorch is about and will be spending the rest of the book to get into the details here. \n",
    "\n",
    "The latest news and information on PyTorch can be found on https://pytorch.org/ and the package itself is on GitHub: https://github.com/pytorch/pytorch. PyTorch also has a thriving online community with online forums https://discuss.pytorch.org/ and on popular social media platforms such as Facebook and Twitter. \n"
   ]
  },
  {
   "cell_type": "markdown",
   "metadata": {
    "colab_type": "text",
    "id": "ywj9__u9rg8S"
   },
   "source": [
    "# Downloading and installing PyTorch\n",
    "\n",
    "PyTorch can be downloaded and installed in your system with several popular methods. Like most popular Python libraries, PyTorch can be downloaded with either the pip or conda package managers. To install PyTorch from the source, follow the latest instructions from GitHub: https://github.com/pytorch/pytorch#from-source\n",
    "\n",
    "Setting up the right computing environment can be tricky and take some work. To ensure uniformity (and as recommended by the PyTorch distributors),  we suggest using the conda package manager and installing the Anaconda environment (https://www.anaconda.com/distribution/ ). In addition to providing the excellent package manager conda, the Anaconda environment also provides many essential scientific computing libraries that we will use such as NumPy, SciPy, and MatplotLib, and Intel’s highly efficient Math Kernel Library (MKL) that includes BLAS and other fast optimized Linear Algebra routines. If you are installing PyTorch make sure these libraries are installed (and if you have an NVIDIA GPU you will need to install CUDA support with the libraries CUDA and cuDNN). See the latest details on package version numbers here: https://github.com/pytorch/pytorch#from-source\n",
    "\n",
    "The PyTorch.org website nicely summarizes the different ways of installing PyTorch, with which version of OS, package manager, Python and CUDA version. For example, in the figure below from PyTorch.org shows how to install PyTorch 1.0 on Linux using the Conda package manager:\n",
    "\n",
    "![The various options for installing PyTorch and its supporting libraries.](imgs/pytorch-install-options.png)\n",
    "\n",
    "\n",
    "\n",
    "\n",
    "`conda install pytorch torchvision cudatoolkit=9.0 -c pytorch`\n",
    "\n",
    "In addition to installing PyTorch, the above command also installs the torchvision (specialized PyTorch library for image processing and computer vision applications) and the CUDA Toolkit libraries. \n",
    "\n",
    "Once you have downloaded and successfully installed PyTorch, you should be able import to from the python prompt:\n",
    "\n",
    "`>> import torch`\n",
    "\n",
    "If you have gotten to this step without any errors, congratulations! You now have PyTorch on your machine and ready to use one of the most powerful machine learning frameworks of today!\n",
    "\n",
    "## Additional PyTorch libraries\n",
    "\n",
    "In addition to PyTorch, libraries like torchvision augment the components of PyTorch with additional functions for tensor manipulations of specialized data structures such as images, text, and audio. torchvision, for example, provides interfaces for commonly used datasets such as MNIST and CIFAR and common ways of transforming images (such cropping and rotating). See https://pytorch.org/docs/stable/torchvision/ for more details on the official documentation.\n",
    "\n",
    "Similarly, the torchaudio package is the audio analog of torchvision. torchaudio also has common datasets and audio transformations included in the package. See https://pytorch.org/audio/\n",
    "for more details on the official documentation. Similarly, the torchtext library provides similar functionalities for dealing with text data types and the official documentation can be found here: https://torchtext.readthedocs.io/en/latest/index.html\n"
   ]
  },
  {
   "cell_type": "markdown",
   "metadata": {
    "colab_type": "text",
    "id": "huttOokAXoEo"
   },
   "source": [
    "# Working with Tensors in PyTorch\n",
    "\n",
    "\n",
    "While a tensor is a special type of mathematical object with its own tensor calculus, for practical machine learning applications we can think of a tensor simply as a numeric multidimensional array. PyTorch tensors share many similarities with NumPy arrays and follow similar functionality. In fact, you can think of PyTorch tensors as NumPy arrays but with extra computational super powers. The biggest advantages of using PyTorch over NumPy arrays are the ability to track gradients for backward computation (ie, the backward pass or backpropagation for computing automatic differentiation to be covered later) and the ability to offload computations on the GPU. In fact, the success of modern deep learning has relied on the ease of computing gradients and doing it quickly thanks to GPU acceleration. \n",
    "\n",
    "\n",
    "\n",
    "Understanding tensors is at the core of using PyTorch and building deep learning applications and we will cover it here at some length. Here are examples of three tensors:\n",
    "\n",
    "[0.1], [2.1, -1.1, 0, 4], 2d \n",
    "\n",
    "The first example that has just one number is usually called a “0 dimensional tensor”, the middle example is just a list of numbers that we call a “1 dimensional” tensor and the last example is a list of lists or a “2 dimensional” tensor. We can keep adding these lists together to get even higher dimensional tensors and it is very common in deep learning applications to see tensor dimensions go to 3, 4, or even much, much more.\n",
    "\n",
    "In other words, tesnors in PyTorch are a special type of data structure for organizing a collection of numbers. Mathematically though, they are much deeper than just a “collection of numbers.” We will later describe some mathematical, but intuitive, interpretations that will help immensely in appreciating the importance of tensors. \n",
    "\n",
    "\n",
    "## Creating tensors in PyTorch\n",
    "\n",
    "Let's create some tensors in PyTorch and manipulate them to get a feel. We will import the `torch` library and create a simple tensor of three elements and store it in the variable `x`\n",
    "\n",
    "\n",
    "\n"
   ]
  },
  {
   "cell_type": "code",
   "execution_count": 0,
   "metadata": {
    "colab": {},
    "colab_type": "code",
    "id": "fSDd10rpgWTW"
   },
   "outputs": [],
   "source": [
    "import torch\n"
   ]
  },
  {
   "cell_type": "code",
   "execution_count": 2,
   "metadata": {
    "colab": {
     "base_uri": "https://localhost:8080/",
     "height": 34
    },
    "colab_type": "code",
    "id": "DNaCbyomgbir",
    "outputId": "77a4e32b-71da-4356-8c43-56511cdadb2d"
   },
   "outputs": [
    {
     "name": "stdout",
     "output_type": "stream",
     "text": [
      "tensor([-1.3000,  9.1000,  3.3000])\n"
     ]
    }
   ],
   "source": [
    "x = torch.tensor([-1.3, 9.1, 3.3])\n",
    "print(x)"
   ]
  },
  {
   "cell_type": "markdown",
   "metadata": {
    "colab_type": "text",
    "id": "oCxA52iLPAYY"
   },
   "source": [
    "All we had to do to create a PyTorch tensor was create a regular Python list, followed by using the `torch.tensor` function. As expected, we could have just easily done something like:"
   ]
  },
  {
   "cell_type": "code",
   "execution_count": 3,
   "metadata": {
    "colab": {
     "base_uri": "https://localhost:8080/",
     "height": 34
    },
    "colab_type": "code",
    "id": "my5Kyx9APC5D",
    "outputId": "15101aae-859e-45e0-e28e-ebf055c422aa"
   },
   "outputs": [
    {
     "name": "stdout",
     "output_type": "stream",
     "text": [
      "tensor([-1.3000,  9.1000,  3.3000])\n"
     ]
    }
   ],
   "source": [
    "x_list = [-1.3, 9.1, 3.3]\n",
    "x_tensor = torch.tensor(x_list)\n",
    "print(x_tensor)"
   ]
  },
  {
   "cell_type": "markdown",
   "metadata": {
    "colab_type": "text",
    "id": "yyKQkHQpPfya"
   },
   "source": [
    "The above cell makes our steps very clear: we first make a python list and store it in the variable `x_list`. We then use the function `torch.tensor` to store the Python list as a PyTorch tensor in the variable `x_tensor`.\n",
    "\n",
    "Like all variables in Python, `x`, `x_list`, and `x_tensor` are all objects. Specifically we can see that `x` is the `tensor.Tensor` object in PyTorch as expected:"
   ]
  },
  {
   "cell_type": "code",
   "execution_count": 4,
   "metadata": {
    "colab": {
     "base_uri": "https://localhost:8080/",
     "height": 34
    },
    "colab_type": "code",
    "id": "XAbH7QTsQEp1",
    "outputId": "e277a825-ae51-4afd-c72c-7c4a8b5d4cf4"
   },
   "outputs": [
    {
     "data": {
      "text/plain": [
       "torch.Tensor"
      ]
     },
     "execution_count": 4,
     "metadata": {
      "tags": []
     },
     "output_type": "execute_result"
    }
   ],
   "source": [
    "type(x)"
   ]
  },
  {
   "cell_type": "markdown",
   "metadata": {
    "colab_type": "text",
    "id": "jCR123GaQD_r"
   },
   "source": [
    "And we can similarly inspect the object types for the variables `x_list` and `x_tensor` we have created so far. \n",
    "\n",
    "Often when we are dealing with tensors, we are referring to them as variable names such as `x`. In our toy example we know the dimension is 1 and that there are 3 total elements because we dedfined the tensor and we printed it. \n",
    "\n",
    "While we could try to print the variable like we have done here to know what its dimension and number of elements is, that would take far too long for us to individually count. Moreover, in modern machine learning applications, the total number of elements in the tensor can be anywhere from hundreds to many millions! Surely there is a better way of knowing the number of elements than just counting!\n",
    "\n",
    "Of course, just like NumPy Arrays, PyTorch torch tensors are equipped with numerous methods that allow us to perform many common operations. \n",
    "\n",
    "To know the dimension of the array, we can simply use the `.dim()` method"
   ]
  },
  {
   "cell_type": "code",
   "execution_count": 5,
   "metadata": {
    "colab": {
     "base_uri": "https://localhost:8080/",
     "height": 34
    },
    "colab_type": "code",
    "id": "hhfYZYbPQf8D",
    "outputId": "6ba23cae-7e68-4aaf-c267-ee7081bf1e9e"
   },
   "outputs": [
    {
     "data": {
      "text/plain": [
       "1"
      ]
     },
     "execution_count": 5,
     "metadata": {
      "tags": []
     },
     "output_type": "execute_result"
    }
   ],
   "source": [
    "x.dim()"
   ]
  },
  {
   "cell_type": "markdown",
   "metadata": {
    "colab_type": "text",
    "id": "uLIQXMqobvC2"
   },
   "source": [
    "In our example with the tensor `x` we see that dimension of the tensor is 1 as we would expect. To know the number of elements in our tensor, we can use the `.size()` method:"
   ]
  },
  {
   "cell_type": "code",
   "execution_count": 6,
   "metadata": {
    "colab": {
     "base_uri": "https://localhost:8080/",
     "height": 34
    },
    "colab_type": "code",
    "id": "akDnUTbaQj3N",
    "outputId": "ef617937-dd94-4652-e145-11ebc8630718"
   },
   "outputs": [
    {
     "data": {
      "text/plain": [
       "torch.Size([3])"
      ]
     },
     "execution_count": 6,
     "metadata": {
      "tags": []
     },
     "output_type": "execute_result"
    }
   ],
   "source": [
    "x.size()"
   ]
  },
  {
   "cell_type": "markdown",
   "metadata": {
    "colab_type": "text",
    "id": "LnGpvE7gcKv1"
   },
   "source": [
    "Again, since we have a list of 3 items we see that the size of the tensor is what we expect. Note that the `size` method returns a PyTorch object `torch.Size`.  If you want just a pure numeric integer that gives us the number of elements,  you can use the `numel()` method on a `torch.Size` object as:"
   ]
  },
  {
   "cell_type": "code",
   "execution_count": 7,
   "metadata": {
    "colab": {
     "base_uri": "https://localhost:8080/",
     "height": 34
    },
    "colab_type": "code",
    "id": "20NabyYncvHi",
    "outputId": "87656eda-388b-440f-fc68-59400124bddf"
   },
   "outputs": [
    {
     "data": {
      "text/plain": [
       "3"
      ]
     },
     "execution_count": 7,
     "metadata": {
      "tags": []
     },
     "output_type": "execute_result"
    }
   ],
   "source": [
    "x.size().numel()"
   ]
  },
  {
   "cell_type": "markdown",
   "metadata": {
    "colab_type": "text",
    "id": "WnEluqLhdghF"
   },
   "source": [
    "Such decisions depend on the program you are trying to write and the style of programming you are trying to use along with all the variets of syntatctic sugar. \n",
    "\n",
    "\n",
    "Having covered some of the basics of what tensors look like, lets create a slightly more sophisticted tensor. Here we will make a 2 dimensional tensor with 2 rows and 3 columns with random values (from normal random generator):"
   ]
  },
  {
   "cell_type": "code",
   "execution_count": 0,
   "metadata": {
    "colab": {
     "base_uri": "https://localhost:8080/",
     "height": 51
    },
    "colab_type": "code",
    "id": "qK5PTOi5dfte",
    "outputId": "b57b00e6-74a6-446a-b1e6-bf2b05fe9142"
   },
   "outputs": [
    {
     "name": "stdout",
     "output_type": "stream",
     "text": [
      "tensor([[ 0.7686, -1.0158, -3.0055],\n",
      "        [-0.7388,  0.9558, -0.6715]])\n"
     ]
    }
   ],
   "source": [
    "z = torch.randn(2,3)\n",
    "print(z)"
   ]
  },
  {
   "cell_type": "markdown",
   "metadata": {
    "colab_type": "text",
    "id": "Fold6eR9egSe"
   },
   "source": [
    "Again, each element in `z` is dawn from a normal distribution so the values you print on your computer will be different on your machine. We can again use the `dim()` and `size()` methods to get verify the shape of this tensor without having to print it and individually count the elements"
   ]
  },
  {
   "cell_type": "code",
   "execution_count": 0,
   "metadata": {
    "colab": {
     "base_uri": "https://localhost:8080/",
     "height": 34
    },
    "colab_type": "code",
    "id": "KysXeHdfdLIq",
    "outputId": "ac384b6c-b90a-463a-9a76-6251d0434ca1"
   },
   "outputs": [
    {
     "data": {
      "text/plain": [
       "2"
      ]
     },
     "execution_count": 9,
     "metadata": {
      "tags": []
     },
     "output_type": "execute_result"
    }
   ],
   "source": [
    "z.dim()"
   ]
  },
  {
   "cell_type": "code",
   "execution_count": 0,
   "metadata": {
    "colab": {
     "base_uri": "https://localhost:8080/",
     "height": 34
    },
    "colab_type": "code",
    "id": "Vp7tHOsLed0t",
    "outputId": "4b4fcde2-3f66-42bc-9872-ac7a7d7ee198"
   },
   "outputs": [
    {
     "data": {
      "text/plain": [
       "torch.Size([2, 3])"
      ]
     },
     "execution_count": 10,
     "metadata": {
      "tags": []
     },
     "output_type": "execute_result"
    }
   ],
   "source": [
    "z.size()"
   ]
  },
  {
   "cell_type": "markdown",
   "metadata": {
    "colab_type": "text",
    "id": "_WLf4zkpffyH"
   },
   "source": [
    "The `torch.randn()` method doesn't just limit us to create 2 dimensional tensors, however. We can artibitrarily stack a high dimensional tensor by continuing to specify how many elemenrts should be in each dimension. For example, below we create a 4 dimensional tensor"
   ]
  },
  {
   "cell_type": "code",
   "execution_count": 0,
   "metadata": {
    "colab": {
     "base_uri": "https://localhost:8080/",
     "height": 34
    },
    "colab_type": "code",
    "id": "T5fYnmeUe3yL",
    "outputId": "c36bc499-ab09-4af4-9edd-864f12be33af"
   },
   "outputs": [
    {
     "data": {
      "text/plain": [
       "4"
      ]
     },
     "execution_count": 11,
     "metadata": {
      "tags": []
     },
     "output_type": "execute_result"
    }
   ],
   "source": [
    "high_dim_tensor = torch.randn(2,3,4,2)\n",
    "high_dim_tensor.size()\n",
    "high_dim_tensor.dim()"
   ]
  },
  {
   "cell_type": "markdown",
   "metadata": {
    "colab_type": "text",
    "id": "bHOpewarf6lf"
   },
   "source": [
    "This 4 dimensional tensor has 2 elements in its first dimesnion, 3 elements in the second, 4 in the third dimension, and 2 elements in the fourth and last dimension. \n",
    "\n",
    "Just as in Numpy Arrays, we can use \"indexing\" to access specific parts of a tensor. Let's say we only wanted to print the first row of `z`. We can use the same bracket syntax (called indexing slicing) used in Numpy Arrays on PyTorch tensors"
   ]
  },
  {
   "cell_type": "code",
   "execution_count": 0,
   "metadata": {
    "colab": {
     "base_uri": "https://localhost:8080/",
     "height": 34
    },
    "colab_type": "code",
    "id": "rPvRoA1DjTxa",
    "outputId": "793ae823-cccb-412f-9d95-64a46cd7557c"
   },
   "outputs": [
    {
     "name": "stdout",
     "output_type": "stream",
     "text": [
      "tensor([ 0.7686, -1.0158, -3.0055])\n"
     ]
    }
   ],
   "source": [
    "print(z[0,:])"
   ]
  },
  {
   "cell_type": "markdown",
   "metadata": {
    "colab_type": "text",
    "id": "om11VnPHjXwi"
   },
   "source": [
    "The `:` indicates that we want every single element in the dimension (in this case the second dimension, also known as the column) to be displayed.  Similarly, if we want to print the last column, we could either use the index 2 (remember indexing in Python starts with 0) or simply -1 (element from the end):"
   ]
  },
  {
   "cell_type": "code",
   "execution_count": 0,
   "metadata": {
    "colab": {
     "base_uri": "https://localhost:8080/",
     "height": 34
    },
    "colab_type": "code",
    "id": "loHatZKBjWhE",
    "outputId": "103d5b92-6055-429f-bcdc-07d6a7074701"
   },
   "outputs": [
    {
     "data": {
      "text/plain": [
       "tensor([-3.0055, -0.6715])"
      ]
     },
     "execution_count": 13,
     "metadata": {
      "tags": []
     },
     "output_type": "execute_result"
    }
   ],
   "source": [
    "z[:,-1]"
   ]
  },
  {
   "cell_type": "markdown",
   "metadata": {
    "colab_type": "text",
    "id": "nDePhCiAj2Sl"
   },
   "source": [
    "If we want to add the first row of `z` with `x`, we can just simply add the two tensors:"
   ]
  },
  {
   "cell_type": "code",
   "execution_count": 0,
   "metadata": {
    "colab": {
     "base_uri": "https://localhost:8080/",
     "height": 34
    },
    "colab_type": "code",
    "id": "Hoi0y6mVjxQc",
    "outputId": "ebb82e27-96c0-4fed-a7a6-b5a30ef76d5a"
   },
   "outputs": [
    {
     "data": {
      "text/plain": [
       "tensor([-0.5314,  8.0842,  0.2945])"
      ]
     },
     "execution_count": 14,
     "metadata": {
      "tags": []
     },
     "output_type": "execute_result"
    }
   ],
   "source": [
    "z[0,:] + x"
   ]
  },
  {
   "cell_type": "markdown",
   "metadata": {
    "colab_type": "text",
    "id": "BNXqS1Mvj_fy"
   },
   "source": [
    "Similarly, if we want to add the second row of `z` to `x` we can just do:"
   ]
  },
  {
   "cell_type": "code",
   "execution_count": 0,
   "metadata": {
    "colab": {
     "base_uri": "https://localhost:8080/",
     "height": 34
    },
    "colab_type": "code",
    "id": "zcYhUoC4j-7v",
    "outputId": "6e39d836-575e-4c70-c5fa-29c3b74b0b6c"
   },
   "outputs": [
    {
     "data": {
      "text/plain": [
       "tensor([-2.0388, 10.0558,  2.6285])"
      ]
     },
     "execution_count": 15,
     "metadata": {
      "tags": []
     },
     "output_type": "execute_result"
    }
   ],
   "source": [
    "z[1,:] + x"
   ]
  },
  {
   "cell_type": "markdown",
   "metadata": {
    "colab_type": "text",
    "id": "nDVVtL3TkI2x"
   },
   "source": [
    "But what happens if we do `z + x`? Readers with a Linear Algebra background may object that such an operation doesn't make sense since the shapes of the two tensors do not line up. While mathematically that is true, in PyTorch it is perfectly legal:"
   ]
  },
  {
   "cell_type": "code",
   "execution_count": 0,
   "metadata": {
    "colab": {
     "base_uri": "https://localhost:8080/",
     "height": 51
    },
    "colab_type": "code",
    "id": "ny22eyzajVPc",
    "outputId": "156506bd-3443-4a7e-abe0-982fac5e9e96"
   },
   "outputs": [
    {
     "data": {
      "text/plain": [
       "tensor([[-0.5314,  8.0842,  0.2945],\n",
       "        [-2.0388, 10.0558,  2.6285]])"
      ]
     },
     "execution_count": 16,
     "metadata": {
      "tags": []
     },
     "output_type": "execute_result"
    }
   ],
   "source": [
    "z + x"
   ]
  },
  {
   "cell_type": "markdown",
   "metadata": {
    "colab_type": "text",
    "id": "TNzYdi4DlzE7"
   },
   "source": [
    "What is going on here?! As you can see, PyTorch has done something very clever. Behind the scenes, PyTorch  notices that there is a dimension mismatch between `x` and `z` but that the number of elements in the single dimension of `x` matches with the second dimension in `z`. Let's review again the shapes of the two tensors with the `size()` method:"
   ]
  },
  {
   "cell_type": "code",
   "execution_count": 0,
   "metadata": {
    "colab": {
     "base_uri": "https://localhost:8080/",
     "height": 51
    },
    "colab_type": "code",
    "id": "C3-Qyw2yfvRD",
    "outputId": "9b98aaaf-7d2f-449d-e096-2ab24b7f839b"
   },
   "outputs": [
    {
     "name": "stdout",
     "output_type": "stream",
     "text": [
      "The shape of z is torch.Size([2, 3])\n",
      "The shape of x is torch.Size([3])\n"
     ]
    }
   ],
   "source": [
    "print(\"The shape of z is\", z.size())\n",
    "print(\"The shape of x is\", x.size())\n"
   ]
  },
  {
   "cell_type": "markdown",
   "metadata": {
    "colab_type": "text",
    "id": "2wEKMACCmWjt"
   },
   "source": [
    "Since the single dimension in `x` has 3 elements and the second dimension in `z` has 3 elements, PyTorch *broadcasts* `x` into 2 dimensional arrays that look something like this:\n",
    "\n",
    "\n",
    "\n",
    "Once this is done then addition follows what we expect. This technique is referred to as *broadcasting* and is a common operation in NumPy and PyTorch.\n",
    "While you can certainly create a for loop that goes through each row in `z` and adds to `x`, broadcasting is often much faster. In fact, broadcasting is usually preferred when you consider the following example"
   ]
  },
  {
   "cell_type": "code",
   "execution_count": 0,
   "metadata": {
    "colab": {},
    "colab_type": "code",
    "id": "GQYI41cIiTCz"
   },
   "outputs": [],
   "source": [
    "big_matrix = torch.randn(1000,3)"
   ]
  },
  {
   "cell_type": "code",
   "execution_count": 0,
   "metadata": {
    "colab": {
     "base_uri": "https://localhost:8080/",
     "height": 34
    },
    "colab_type": "code",
    "id": "kLo9qjTIk8OW",
    "outputId": "ad69c99c-c96c-4ddf-be07-c231fe779943"
   },
   "outputs": [
    {
     "name": "stdout",
     "output_type": "stream",
     "text": [
      "100 loops, best of 3: 5.59 ms per loop\n"
     ]
    }
   ],
   "source": [
    "%%timeit\n",
    "\n",
    "for i in range(1000):\n",
    "    _ = big_matrix[i,:] + x"
   ]
  },
  {
   "cell_type": "markdown",
   "metadata": {
    "colab_type": "text",
    "id": "yXtfGF6foEi2"
   },
   "source": [
    "We are storing the values into the dummy variable `_` since we do not care about actual values here. We just want to know how fast it is to go through each row in a big tensor to add to another tensor.\n",
    "\n",
    "Now lets do the same thing using broadcasting:"
   ]
  },
  {
   "cell_type": "code",
   "execution_count": 0,
   "metadata": {
    "colab": {
     "base_uri": "https://localhost:8080/",
     "height": 51
    },
    "colab_type": "code",
    "id": "zbXaxd0_iXkh",
    "outputId": "e6dac725-6301-4f05-e276-c2bd0f006f92"
   },
   "outputs": [
    {
     "name": "stdout",
     "output_type": "stream",
     "text": [
      "The slowest run took 8.53 times longer than the fastest. This could mean that an intermediate result is being cached.\n",
      "10000 loops, best of 3: 21.5 µs per loop\n"
     ]
    }
   ],
   "source": [
    "%%timeit\n",
    "\n",
    "_ = big_matrix + x"
   ]
  },
  {
   "cell_type": "markdown",
   "metadata": {
    "colab_type": "text",
    "id": "mef1maGxoRFb"
   },
   "source": [
    "Whoa! Now this is much faster!!!! For this reason you will often see people use broadcasting to great extend. \n",
    "\n",
    "We can see see that broadcasting can work with any aribitraty dimension tensors as long as the number of elements match up:"
   ]
  },
  {
   "cell_type": "code",
   "execution_count": 0,
   "metadata": {
    "colab": {
     "base_uri": "https://localhost:8080/",
     "height": 68
    },
    "colab_type": "code",
    "id": "jF4hf_pfiYlp",
    "outputId": "3f622cf9-00cb-4fff-f924-876d8e1bb696"
   },
   "outputs": [
    {
     "data": {
      "text/plain": [
       "tensor([[[[-0.6518,  0.0931,  0.2568],\n",
       "          [ 0.7315, -0.1045, -0.2882],\n",
       "          [ 0.9381, -0.1340, -0.3696]]]])"
      ]
     },
     "execution_count": 21,
     "metadata": {
      "tags": []
     },
     "output_type": "execute_result"
    }
   ],
   "source": [
    "torch.randn(1,1,3,1) / x"
   ]
  },
  {
   "cell_type": "markdown",
   "metadata": {
    "colab_type": "text",
    "id": "ajMHwqwLoXTx"
   },
   "source": [
    "In addition to the \"+\" operator, broadcasting can be applied for the other arithmetic operations of subtraction, multiplication, and division.\n",
    "\n",
    "\n",
    "While broadcasting is PyTorch's way of autmatically reshaping a tensor so that arithmetic operations can proceed unhitched, we sometimes want to explicity reshape a tensor to a specific shape. In PyTorch the `view()` method in `torch.Tensor` allows us to do exactly just that. Below we will reshape the `z` tensor to have 3 rows and 2 columns instead of 2 rows and 3 columns (ie, we perform a \"transpose\" operation)"
   ]
  },
  {
   "cell_type": "code",
   "execution_count": 0,
   "metadata": {
    "colab": {
     "base_uri": "https://localhost:8080/",
     "height": 68
    },
    "colab_type": "code",
    "id": "tMAGvHvTi1-K",
    "outputId": "d92e5361-302a-4d93-d9a3-0be1638a942f"
   },
   "outputs": [
    {
     "data": {
      "text/plain": [
       "tensor([[ 0.7686, -1.0158],\n",
       "        [-3.0055, -0.7388],\n",
       "        [ 0.9558, -0.6715]])"
      ]
     },
     "execution_count": 22,
     "metadata": {
      "tags": []
     },
     "output_type": "execute_result"
    }
   ],
   "source": [
    "z.view(3,2)"
   ]
  },
  {
   "cell_type": "markdown",
   "metadata": {
    "colab_type": "text",
    "id": "FDJRD3aMuOyg"
   },
   "source": [
    "We can also introduce dummy singlton dimensons using the `view()` method:"
   ]
  },
  {
   "cell_type": "code",
   "execution_count": 0,
   "metadata": {
    "colab": {
     "base_uri": "https://localhost:8080/",
     "height": 68
    },
    "colab_type": "code",
    "id": "6BtsocdpuOSK",
    "outputId": "d5013bae-b9ae-4263-9384-2e550bf99e3b"
   },
   "outputs": [
    {
     "data": {
      "text/plain": [
       "tensor([[[ 0.7686, -1.0158],\n",
       "         [-3.0055, -0.7388],\n",
       "         [ 0.9558, -0.6715]]])"
      ]
     },
     "execution_count": 23,
     "metadata": {
      "tags": []
     },
     "output_type": "execute_result"
    }
   ],
   "source": [
    "z.view(1,3,2)"
   ]
  },
  {
   "cell_type": "markdown",
   "metadata": {
    "colab_type": "text",
    "id": "ZqehPMGxuX89"
   },
   "source": [
    "While the number of elements is still the same, we have introduced a singlton in the first dimension that is just 1. \n",
    "\n",
    "We can also use \"-1\" as a way to specify anything that is left over after a reshape.  For example, below says reshape `z` to have 3 rows, and then let it have as many columns left over in the data (just 3 in our case)"
   ]
  },
  {
   "cell_type": "code",
   "execution_count": 0,
   "metadata": {
    "colab": {
     "base_uri": "https://localhost:8080/",
     "height": 68
    },
    "colab_type": "code",
    "id": "pBX1QRi7uXZB",
    "outputId": "ecae5fa2-5847-4c99-8a8b-5ba72ae748d9"
   },
   "outputs": [
    {
     "data": {
      "text/plain": [
       "tensor([[ 0.7686, -1.0158],\n",
       "        [-3.0055, -0.7388],\n",
       "        [ 0.9558, -0.6715]])"
      ]
     },
     "execution_count": 24,
     "metadata": {
      "tags": []
     },
     "output_type": "execute_result"
    }
   ],
   "source": [
    "z.view(3,-1)"
   ]
  },
  {
   "cell_type": "markdown",
   "metadata": {
    "colab_type": "text",
    "id": "cl81kcrgux0Q"
   },
   "source": [
    "Using such operation with the `view()`  method in PyTorch are very common. \n",
    "\n",
    "\n",
    "# CPU and GPU devices\n",
    "\n",
    "One of the significant advantages of using PyTorch tensors as opposed to Numpy arrays is the ability to utilize the GPU to offload computations. By default when we create tensors in PyTorch, the tensors are computed with the CPU. If we want to use the GPU, we have to specify which GPU device we want to use and offload the PyTorch tensor on the GPU device.\n",
    "\n",
    "To see if a GPU device is available on your system, you can use the function `torch.cuda.is_available()`"
   ]
  },
  {
   "cell_type": "code",
   "execution_count": 0,
   "metadata": {
    "colab": {
     "base_uri": "https://localhost:8080/",
     "height": 34
    },
    "colab_type": "code",
    "id": "8zjZ9IbHwdFU",
    "outputId": "e33f5c79-979a-4c23-9d2a-f901d8f5527a"
   },
   "outputs": [
    {
     "data": {
      "text/plain": [
       "True"
      ]
     },
     "execution_count": 25,
     "metadata": {
      "tags": []
     },
     "output_type": "execute_result"
    }
   ],
   "source": [
    "torch.cuda.is_available()"
   ]
  },
  {
   "cell_type": "markdown",
   "metadata": {
    "colab_type": "text",
    "id": "oMCe1NPRwpUQ"
   },
   "source": [
    "If the output of this method is True, congratulations! PyTorch has access to a GPU that you can use to greatly speed up computations! If the output is False and you do have a GPU, then you need to recheck the installation of PyTorch with the CUDA and cuDNN device drivers. \n",
    "\n",
    "It is very common to define the device that you have with the `torch.device()` method. For example, if you have CUDA properly installed and the output of `torch.cuda.is_available()` is True, then you can have a variable called `device` that specifies which device you are using:"
   ]
  },
  {
   "cell_type": "code",
   "execution_count": 0,
   "metadata": {
    "colab": {},
    "colab_type": "code",
    "id": "gHceCOaqxKJ5"
   },
   "outputs": [],
   "source": [
    "device = torch.device(\"cuda\")"
   ]
  },
  {
   "cell_type": "markdown",
   "metadata": {
    "colab_type": "text",
    "id": "Dn4h7Z8nxh0t"
   },
   "source": [
    "Even if you have GPU but prefer to use CPU, then you can similarly specify to use CPU by running:"
   ]
  },
  {
   "cell_type": "code",
   "execution_count": 0,
   "metadata": {
    "colab": {},
    "colab_type": "code",
    "id": "dfi2WD98xLF6"
   },
   "outputs": [],
   "source": [
    "device = torch.device(\"cpu\")"
   ]
  },
  {
   "cell_type": "markdown",
   "metadata": {
    "colab_type": "text",
    "id": "VDVsKk1OxuWL"
   },
   "source": [
    "Finally, if you want your code to flexibily run on either CPU or GPU, then you can have a Python conditional statement such as the following:"
   ]
  },
  {
   "cell_type": "code",
   "execution_count": 0,
   "metadata": {
    "colab": {},
    "colab_type": "code",
    "id": "3JmmX8ofuB7u"
   },
   "outputs": [],
   "source": [
    "device = torch.device(\"cuda\") if torch.cuda.is_available() else torch.device(\"cpu\")"
   ]
  },
  {
   "cell_type": "markdown",
   "metadata": {
    "colab_type": "text",
    "id": "511QPaxlZGqh"
   },
   "source": [
    "This conditional will automatically then set device to either CPU or GPU depending on what you have. It is very common to see deep learning examples to use such device specifications at the begining of the code. \n",
    "\n",
    "Once you have setup  the device, you can simply send the tensors you have created to it. This can be done with the `to()` method.\n",
    "\n"
   ]
  },
  {
   "cell_type": "code",
   "execution_count": 0,
   "metadata": {
    "colab": {},
    "colab_type": "code",
    "id": "PffJVtZkZJjF"
   },
   "outputs": [],
   "source": [
    "z_on_specified_device = z.to(device)"
   ]
  },
  {
   "cell_type": "markdown",
   "metadata": {
    "colab_type": "text",
    "id": "9QJD77qWx3AK"
   },
   "source": [
    "\n",
    "\n",
    "\n",
    "# Importing other packages for use with PyTorch\n",
    "\n",
    "While PyTorch is a powerful deep leanrning framework, there are many other libraries in Python that we will need to prepare data and aid us in building PyTorch applications. In particular, NumPy (which we have been discussing), Pandas, Scikit-Learn, and Matplotlib are essential general data tools that we will need. If you have installed the Python distribution from Anaconda, these libraries are already included. Otherwise, you should install them using either `pip` or `conda`\n",
    "\n",
    "It is very common for us to want to convert a NumPy Array to a PyTorch tensor. Lets revisit our PyTorch tensor `z`\n",
    "\n",
    "\n"
   ]
  },
  {
   "cell_type": "code",
   "execution_count": 0,
   "metadata": {
    "colab": {
     "base_uri": "https://localhost:8080/",
     "height": 51
    },
    "colab_type": "code",
    "id": "hsMUveTTyC1u",
    "outputId": "9961d369-f858-491e-8804-39c1c11a200c"
   },
   "outputs": [
    {
     "name": "stdout",
     "output_type": "stream",
     "text": [
      "tensor([[ 0.7686, -1.0158, -3.0055],\n",
      "        [-0.7388,  0.9558, -0.6715]])\n"
     ]
    }
   ],
   "source": [
    "print(z)"
   ]
  },
  {
   "cell_type": "markdown",
   "metadata": {
    "colab_type": "text",
    "id": "oVsWKkkXeEff"
   },
   "source": [
    "Clearly from the printout we can see that `z` is a PyTorch tensor as we exepct. Let's say we would like to plot the first row of `z`. We can specify the first row of `z` using indexing the slize `z[0,:]`. Matplotlib gives us powerful plotting tools, so lets use that:"
   ]
  },
  {
   "cell_type": "code",
   "execution_count": 0,
   "metadata": {
    "colab": {},
    "colab_type": "code",
    "id": "1HQ79JSMedmC"
   },
   "outputs": [],
   "source": [
    "import matplotlib.pyplot as plt;\n",
    "\n",
    "## This results in an error! Matplotlib does not recognize PyTorch tensors!\n",
    "# plt.plot(z[0,:])"
   ]
  },
  {
   "cell_type": "markdown",
   "metadata": {
    "colab_type": "text",
    "id": "WKu7TOXnf72O"
   },
   "source": [
    "If you run the above you will get an error! This is because Matplotlib at the time of this writing does not recognize PyTorch tensors. We will have to convert this PyTorch tensor to a NumPy Array. \n",
    "\n",
    "All PyTorch tensors have the method `numpy()` that convert the PyTorch tensor to a Numpy array"
   ]
  },
  {
   "cell_type": "code",
   "execution_count": 0,
   "metadata": {
    "colab": {
     "base_uri": "https://localhost:8080/",
     "height": 34
    },
    "colab_type": "code",
    "id": "KEfvXM1ef7Mp",
    "outputId": "e665e02e-4478-471a-8d29-acdf82e307a0"
   },
   "outputs": [
    {
     "data": {
      "text/plain": [
       "numpy.ndarray"
      ]
     },
     "execution_count": 32,
     "metadata": {
      "tags": []
     },
     "output_type": "execute_result"
    }
   ],
   "source": [
    "first_row = z[0,:].numpy()\n",
    "type(first_row)"
   ]
  },
  {
   "cell_type": "markdown",
   "metadata": {
    "colab_type": "text",
    "id": "g2NotpBngrp4"
   },
   "source": [
    "Now we can either plot `first_row` or just directly convert the PyTorch tensor to NumPy Array and plot:"
   ]
  },
  {
   "cell_type": "code",
   "execution_count": 0,
   "metadata": {
    "colab": {
     "base_uri": "https://localhost:8080/",
     "height": 347
    },
    "colab_type": "code",
    "id": "u7iwVKsxgrJK",
    "outputId": "eed0d421-9bb5-445f-81cb-4beef4bdee40"
   },
   "outputs": [
    {
     "data": {
      "image/png": "[encoded data removed]",
      "text/plain": [
       "<Figure size 576x396 with 1 Axes>"
      ]
     },
     "metadata": {
      "tags": []
     },
     "output_type": "display_data"
    }
   ],
   "source": [
    "plt.plot(z[0,:].numpy());"
   ]
  },
  {
   "cell_type": "markdown",
   "metadata": {
    "colab_type": "text",
    "id": "NwSUVxgghQqc"
   },
   "source": [
    "We can similarly convert a NumPy Array to a PyTorch tensor using the function `torch.tensor()`. Earlier we showed how `torch.tensor()` accepts a Python list, but it also supports taking as inputs NumPy Arrays and even PyTorch tensors (more on that later). Let's create a NumPy Array of 3 elements all having the value of 5"
   ]
  },
  {
   "cell_type": "code",
   "execution_count": 0,
   "metadata": {
    "colab": {},
    "colab_type": "code",
    "id": "siHSTyCqhzg4"
   },
   "outputs": [],
   "source": [
    "import numpy as np\n",
    "\n",
    "const_arr_numpy = 5*np.ones(3)\n",
    "\n",
    "const_arr_tensor = torch.tensor(const_arr_numpy)"
   ]
  },
  {
   "cell_type": "markdown",
   "metadata": {
    "colab_type": "text",
    "id": "-MqNOAKbekKW"
   },
   "source": [
    "`const_arr_tensor` is now a PyTorch tensor that we can apply the usual PyTorch operations on. \n",
    "\n",
    "There has been something that we have not discussed yet though and it will be a headache when passing data between PyTorch tensors and NumPy Arrays if not careful: data types. By default, when we create a NumPy Array the datatype is a 64-point float. We can check this with the `dtype` attribute of NumPy arrays"
   ]
  },
  {
   "cell_type": "code",
   "execution_count": 0,
   "metadata": {
    "colab": {
     "base_uri": "https://localhost:8080/",
     "height": 34
    },
    "colab_type": "code",
    "id": "tXJUhItih_y4",
    "outputId": "06526ed0-df4f-4930-d7a8-00720699b8bf"
   },
   "outputs": [
    {
     "data": {
      "text/plain": [
       "dtype('float64')"
      ]
     },
     "execution_count": 35,
     "metadata": {
      "tags": []
     },
     "output_type": "execute_result"
    }
   ],
   "source": [
    "const_arr_numpy.dtype"
   ]
  },
  {
   "cell_type": "markdown",
   "metadata": {
    "colab_type": "text",
    "id": "7892PvbifQV6"
   },
   "source": [
    "When we convert this NumPy Array to a PyTorch tensor, `torch.tensor()` is smart enough to infer the data and casts the converted PyTorch tensor to be of the same type. We can similarly check the data type of our newly created array with the `dtype` attribute"
   ]
  },
  {
   "cell_type": "code",
   "execution_count": 0,
   "metadata": {
    "colab": {
     "base_uri": "https://localhost:8080/",
     "height": 34
    },
    "colab_type": "code",
    "id": "JWa_M870iQuv",
    "outputId": "0ffe65e0-13f0-466a-da11-22384cb28028"
   },
   "outputs": [
    {
     "data": {
      "text/plain": [
       "torch.float64"
      ]
     },
     "execution_count": 36,
     "metadata": {
      "tags": []
     },
     "output_type": "execute_result"
    }
   ],
   "source": [
    "const_arr_tensor.dtype"
   ]
  },
  {
   "cell_type": "markdown",
   "metadata": {
    "colab_type": "text",
    "id": "UAJyphWKi3SQ"
   },
   "source": [
    "As expected we see that the tensor's data type is a 64-point float just like the NumPy array that was passed to `torch.tensor()` in the assignment. \n",
    "\n",
    "This is all well and good until you try to mix this tensor with other tensors you have created with PyTorch. This is because the default datatype in PyTorch tensors are 32-point tensors. Let's check the tensor `z` datatype that we had created before:"
   ]
  },
  {
   "cell_type": "code",
   "execution_count": 0,
   "metadata": {
    "colab": {
     "base_uri": "https://localhost:8080/",
     "height": 34
    },
    "colab_type": "code",
    "id": "eXYBLG3dibpr",
    "outputId": "61e74930-d7e8-479e-ad6b-34ba2af5d8f3"
   },
   "outputs": [
    {
     "data": {
      "text/plain": [
       "torch.float32"
      ]
     },
     "execution_count": 37,
     "metadata": {
      "tags": []
     },
     "output_type": "execute_result"
    }
   ],
   "source": [
    "z.dtype"
   ]
  },
  {
   "cell_type": "markdown",
   "metadata": {
    "colab_type": "text",
    "id": "WNFTe70nlIdC"
   },
   "source": [
    "Recall that we created `z` using `torch.randn()` and since 32-point floats are PyTorch's default, we see that indeed this is the case with `z`. \n",
    "\n",
    "When we try to add `z` to `const_arr_tensor` (with broadcasting) we get an error:"
   ]
  },
  {
   "cell_type": "code",
   "execution_count": 0,
   "metadata": {
    "colab": {
     "base_uri": "https://localhost:8080/",
     "height": 34
    },
    "colab_type": "code",
    "id": "cyPuikrX10AL",
    "outputId": "58a7f1df-b852-40ec-81bb-308c347403b4"
   },
   "outputs": [
    {
     "data": {
      "text/plain": [
       "tensor([5., 5., 5.])"
      ]
     },
     "execution_count": 38,
     "metadata": {
      "tags": []
     },
     "output_type": "execute_result"
    }
   ],
   "source": [
    "const_arr_tensor.float()"
   ]
  },
  {
   "cell_type": "code",
   "execution_count": 0,
   "metadata": {
    "colab": {},
    "colab_type": "code",
    "id": "GD0VtzWtYwfq"
   },
   "outputs": [],
   "source": [
    "## results in data type error\n",
    "# z + const_arr_tensor"
   ]
  },
  {
   "cell_type": "markdown",
   "metadata": {
    "colab_type": "text",
    "id": "U0dFGSRR1hK5"
   },
   "source": [
    "We can avoid this error by type casting either `z` or `const_arr_tensor` - let's type cast to a 32-point float "
   ]
  },
  {
   "cell_type": "code",
   "execution_count": 0,
   "metadata": {
    "colab": {
     "base_uri": "https://localhost:8080/",
     "height": 51
    },
    "colab_type": "code",
    "id": "e1ekc0rnZ6ir",
    "outputId": "9cb5efc6-2ab1-42cf-a540-0edcdabc96ff"
   },
   "outputs": [
    {
     "data": {
      "text/plain": [
       "tensor([[5.7686, 3.9842, 1.9945],\n",
       "        [4.2612, 5.9558, 4.3285]])"
      ]
     },
     "execution_count": 40,
     "metadata": {
      "tags": []
     },
     "output_type": "execute_result"
    }
   ],
   "source": [
    "z + const_arr_tensor.float()"
   ]
  },
  {
   "cell_type": "markdown",
   "metadata": {
    "colab_type": "text",
    "id": "fyzAHiyk4GvU"
   },
   "source": [
    "Alternative, when we converted the NumPy Array to the PyTorch tensor using `torch.tensor()` we could have made the data type explicit by specifying the dtype argument. This would look as follows: "
   ]
  },
  {
   "cell_type": "code",
   "execution_count": 0,
   "metadata": {
    "colab": {
     "base_uri": "https://localhost:8080/",
     "height": 51
    },
    "colab_type": "code",
    "id": "cGn6l1cQ2Rfm",
    "outputId": "aab2e647-b0f4-4194-a41e-f0be481e33b7"
   },
   "outputs": [
    {
     "data": {
      "text/plain": [
       "tensor([[5.7686, 3.9842, 1.9945],\n",
       "        [4.2612, 5.9558, 4.3285]])"
      ]
     },
     "execution_count": 41,
     "metadata": {
      "tags": []
     },
     "output_type": "execute_result"
    }
   ],
   "source": [
    "const_arr_tensor = torch.tensor(const_arr_numpy, dtype = torch.float32)\n",
    "\n",
    "z + const_arr_tensor # no error!"
   ]
  },
  {
   "cell_type": "markdown",
   "metadata": {
    "colab_type": "text",
    "id": "7fnyP1DU4nV3"
   },
   "source": [
    "Now that we have setup the tensors with the datatype that we want, lets take a step back at the variables that we have active in memory. The NumPy array `const_arr_numpy` and the PyTorch tensor `const_arr_tensor` have the same values but occupy two different places in memory. So even though they store the same values, they are two different variables and affecting one will not affect the other. In other words, `const_arr_tensor`is a copy of `const_arr_numpy` by *value* as opposed to a *copy by reference*.\n",
    "\n",
    "\n",
    "\n",
    "Sometimes we wish to *copy by reference* however. We can perform a copy by reference by using the function `torch.from_numpy()`. Let's illustrate with an example"
   ]
  },
  {
   "cell_type": "code",
   "execution_count": 0,
   "metadata": {
    "colab": {},
    "colab_type": "code",
    "id": "gXso1FWx7J0z"
   },
   "outputs": [],
   "source": [
    "const_arr_tensor = torch.from_numpy(const_arr_numpy)"
   ]
  },
  {
   "cell_type": "markdown",
   "metadata": {
    "colab_type": "text",
    "id": "GH9jGzv073Wm"
   },
   "source": [
    "Although `const_arr_tensor`is a PyTorch tensor and `const_arr_numpy` is a NumPy Array, they both share the same memory! So changing the values in one of them will change the other. For example, "
   ]
  },
  {
   "cell_type": "code",
   "execution_count": 0,
   "metadata": {
    "colab": {
     "base_uri": "https://localhost:8080/",
     "height": 51
    },
    "colab_type": "code",
    "id": "FLKMKnc38toX",
    "outputId": "19b45af8-a731-4675-adc1-1c65a137c0e0"
   },
   "outputs": [
    {
     "name": "stdout",
     "output_type": "stream",
     "text": [
      "tensor([6., 6., 6.], dtype=torch.float64)\n",
      "[6. 6. 6.]\n"
     ]
    }
   ],
   "source": [
    "const_arr_tensor += 1\n",
    "print(const_arr_tensor)\n",
    "print(const_arr_numpy)"
   ]
  },
  {
   "cell_type": "markdown",
   "metadata": {
    "colab_type": "text",
    "id": "I74J25C98s-x"
   },
   "source": [
    "Note that as in NumPy, the `+=` is an in-place operation that directly manipulates `const_arr_tensor` (and `const_arr_numpy` in this case) without creating any new objects (as opposed to an assignment such as `const_arr_tensor = 1 + const_arr_tensor`). \n",
    "\n"
   ]
  },
  {
   "cell_type": "markdown",
   "metadata": {
    "colab_type": "text",
    "id": "6gPKfF33cYdS"
   },
   "source": [
    "# Reading data from a file\n",
    "\n",
    "\n",
    "It is no secret that machine learning algorithms are hungry for data. To build machine learning applications, we will need to load data into PyTorch. In addition to Python's own file reading and writing management,  NumPy and Pandas offer many convenient functions for us to load external datasets into a structued array. We can then use the NumPy converter methods we discussed in the previous section to convert the loaded datasets into PyTorch tensors. \n",
    "\n",
    "\n",
    "Let's consider an example of reading a CSV file with Pandas. We will load the Iris data set hoseted in this GitHub Gist: https://gist.github.com/curran/a08a1080b88344b0c8a7\n",
    "\n",
    "This is the Gist website that contains the CSV file. To get the raw CSV file we would have to use the direct URL to the CSV that you can get from the \"Raw\" button in GitHub Gist: https://gist.githubusercontent.com/curran/a08a1080b88344b0c8a7/raw/d546eaee765268bf2f487608c537c05e22e4b221/iris.csv\n",
    "\n",
    "\n",
    "As of Pandas version `0.19.2` and later, we can read a CSV file from a URL directly into a Pandas DataFrame using the  `read_csv()` method:"
   ]
  },
  {
   "cell_type": "code",
   "execution_count": 0,
   "metadata": {
    "colab": {},
    "colab_type": "code",
    "id": "_Y3n57dsGzp5"
   },
   "outputs": [],
   "source": [
    "import pandas as pd\n",
    "\n",
    "url = \"https://gist.githubusercontent.com/curran/a08a1080b88344b0c8a7/raw/d546eaee765268bf2f487608c537c05e22e4b221/iris.csv\"\n",
    "\n",
    "df = pd.read_csv(url)"
   ]
  },
  {
   "cell_type": "code",
   "execution_count": 0,
   "metadata": {
    "colab": {
     "base_uri": "https://localhost:8080/",
     "height": 204
    },
    "colab_type": "code",
    "id": "1bcTCEUgihWd",
    "outputId": "eac134ad-da6d-4fbc-9623-7067ecb5f9bc"
   },
   "outputs": [
    {
     "data": {
      "text/html": [
       "<div>\n",
       "<style scoped>\n",
       "    .dataframe tbody tr th:only-of-type {\n",
       "        vertical-align: middle;\n",
       "    }\n",
       "\n",
       "    .dataframe tbody tr th {\n",
       "        vertical-align: top;\n",
       "    }\n",
       "\n",
       "    .dataframe thead th {\n",
       "        text-align: right;\n",
       "    }\n",
       "</style>\n",
       "<table border=\"1\" class=\"dataframe\">\n",
       "  <thead>\n",
       "    <tr style=\"text-align: right;\">\n",
       "      <th></th>\n",
       "      <th>sepal_length</th>\n",
       "      <th>sepal_width</th>\n",
       "      <th>petal_length</th>\n",
       "      <th>petal_width</th>\n",
       "      <th>species</th>\n",
       "    </tr>\n",
       "  </thead>\n",
       "  <tbody>\n",
       "    <tr>\n",
       "      <th>0</th>\n",
       "      <td>5.1</td>\n",
       "      <td>3.5</td>\n",
       "      <td>1.4</td>\n",
       "      <td>0.2</td>\n",
       "      <td>setosa</td>\n",
       "    </tr>\n",
       "    <tr>\n",
       "      <th>1</th>\n",
       "      <td>4.9</td>\n",
       "      <td>3.0</td>\n",
       "      <td>1.4</td>\n",
       "      <td>0.2</td>\n",
       "      <td>setosa</td>\n",
       "    </tr>\n",
       "    <tr>\n",
       "      <th>2</th>\n",
       "      <td>4.7</td>\n",
       "      <td>3.2</td>\n",
       "      <td>1.3</td>\n",
       "      <td>0.2</td>\n",
       "      <td>setosa</td>\n",
       "    </tr>\n",
       "    <tr>\n",
       "      <th>3</th>\n",
       "      <td>4.6</td>\n",
       "      <td>3.1</td>\n",
       "      <td>1.5</td>\n",
       "      <td>0.2</td>\n",
       "      <td>setosa</td>\n",
       "    </tr>\n",
       "    <tr>\n",
       "      <th>4</th>\n",
       "      <td>5.0</td>\n",
       "      <td>3.6</td>\n",
       "      <td>1.4</td>\n",
       "      <td>0.2</td>\n",
       "      <td>setosa</td>\n",
       "    </tr>\n",
       "  </tbody>\n",
       "</table>\n",
       "</div>"
      ],
      "text/plain": [
       "   sepal_length  sepal_width  petal_length  petal_width species\n",
       "0           5.1          3.5           1.4          0.2  setosa\n",
       "1           4.9          3.0           1.4          0.2  setosa\n",
       "2           4.7          3.2           1.3          0.2  setosa\n",
       "3           4.6          3.1           1.5          0.2  setosa\n",
       "4           5.0          3.6           1.4          0.2  setosa"
      ]
     },
     "execution_count": 45,
     "metadata": {
      "tags": []
     },
     "output_type": "execute_result"
    }
   ],
   "source": [
    "df.head()"
   ]
  },
  {
   "cell_type": "markdown",
   "metadata": {
    "colab_type": "text",
    "id": "KLDzvBivWZnh"
   },
   "source": [
    "The Iris dataset is a famous dataset promoted by the early 20th century statistician Ronald Fischer where he used it to illustrate the Linear Discriminant Analysis algorithm (which today you can simply run from Scikit-learn). Today the Iris dataset is still used as an example data set to test out algorithmic ideas against a real world dataset that is not too large for quick iteration. \n",
    "\n",
    "From Wikipedia, \n",
    "\n",
    "> The [Iris] data set consists of 50 samples from each of three species of Iris (Iris setosa, Iris virginica and Iris versicolor). Four features were measured from each sample: the length and the width of the sepals and petals, in centimeters. Based on the combination of these four features, Fisher developed a linear discriminant model to distinguish the species from each other.\n",
    "\n",
    "\n",
    "\n",
    "We can see in the data set that we loaded the first four columns are the flower features and the last column is the type of flower (`species`). In machine learning, the last column is usually the \"target\" variable we are interested in predicting from the features. We often represent the set of features (`sepal_length`,\t`sepal_width`,\t`petal_length`,\t`petal_width`) as their own own array and the targets, `species`, as a separate array. \n",
    "\n",
    "We will call the features array `X` and the targets `y`. One way to get the set of features in the Pandas DataFrame is to specify the column names as a list of the feature names. Alternatively, since our data set is so clean, we can just select the first 4 columns with the `iloc` method. We can then use the `.values` attribute to just get the underlying NumPy array in the DataFrame:\n",
    "\n",
    "\n"
   ]
  },
  {
   "cell_type": "code",
   "execution_count": 0,
   "metadata": {
    "colab": {},
    "colab_type": "code",
    "id": "8jztZtb0ZE2N"
   },
   "outputs": [],
   "source": [
    "X = df.iloc[:,:3].values"
   ]
  },
  {
   "cell_type": "markdown",
   "metadata": {
    "colab_type": "text",
    "id": "FprPoWrYciXI"
   },
   "source": [
    "In our case since the DataFrame is so clean, we have no missing values and `X` is a purely numeric array. Often though real data may be messy and contain non-numeric values. You will have to take extra steps to prepare the data to ensure you have a purely numeric array. Often using the combination of the methods `pd.to_numeric()` from Pandas and `np.isnan()` from NumPy helps to convert the array to numeric and identiy where missing (NaN or \"Not a Number\" values) occur which you can then decide how to impute. \n",
    "\n",
    "Here since our data is so clean, before converting it to a PyTorch tensor we'll just check its data type:"
   ]
  },
  {
   "cell_type": "code",
   "execution_count": 0,
   "metadata": {
    "colab": {
     "base_uri": "https://localhost:8080/",
     "height": 34
    },
    "colab_type": "code",
    "id": "OwpgKuUGZgr7",
    "outputId": "599f9153-ccf0-4698-b4a0-911b2b23a808"
   },
   "outputs": [
    {
     "data": {
      "text/plain": [
       "dtype('float64')"
      ]
     },
     "execution_count": 47,
     "metadata": {
      "tags": []
     },
     "output_type": "execute_result"
    }
   ],
   "source": [
    "X.dtype"
   ]
  },
  {
   "cell_type": "markdown",
   "metadata": {
    "colab_type": "text",
    "id": "gc5nX-vvenlu"
   },
   "source": [
    "As discussed earlier, PyTorch tensors by default are 32-bit floating points so when we convert this array we will specify the data type. If we have specified our device (GPU or CPU) with the `device` variable as we have done previously, we can also place the tensor on the device all in one line:"
   ]
  },
  {
   "cell_type": "code",
   "execution_count": 0,
   "metadata": {
    "colab": {},
    "colab_type": "code",
    "id": "lBC7ZLsSceUC"
   },
   "outputs": [],
   "source": [
    "X_tensor = torch.tensor(X, dtype = torch.float32).to(device)"
   ]
  },
  {
   "cell_type": "markdown",
   "metadata": {
    "colab_type": "text",
    "id": "pDeehFXcfOsT"
   },
   "source": [
    "Now that we have prepared the features in `X_tensor` for use in PyTorch, we need to prepare the targets in the `species` column. The `species` column is a list of strings specifying the species of the flower. In machine learning applications, we often want to encode such lists as a numerical vector. \n",
    "\n",
    "Let's first print out the unique list of species classes:"
   ]
  },
  {
   "cell_type": "code",
   "execution_count": 0,
   "metadata": {
    "colab": {
     "base_uri": "https://localhost:8080/",
     "height": 34
    },
    "colab_type": "code",
    "id": "pSmGgl4Me-Db",
    "outputId": "8b2b3b20-2da4-49f7-8fd8-2cc287660a3f"
   },
   "outputs": [
    {
     "data": {
      "text/plain": [
       "array(['setosa', 'versicolor', 'virginica'], dtype=object)"
      ]
     },
     "execution_count": 49,
     "metadata": {
      "tags": []
     },
     "output_type": "execute_result"
    }
   ],
   "source": [
    "pd.unique(df.species)"
   ]
  },
  {
   "cell_type": "markdown",
   "metadata": {
    "colab_type": "text",
    "id": "2KOgcU7igaHw"
   },
   "source": [
    "We see that there are 3 total classes: 'setosa', 'versicolor', and 'virginica.'\n",
    "\n",
    "While we can manually iterate through each row in `df.species` and assign a numeric label to each of these 3 classes,  we recommend using the suite of label preparation utitlities provided by the Scikit-learn library. `LabelEncoder` in particular is useful for us to assigning a unique label integer to each of the classes. Below is an example on how to use it:"
   ]
  },
  {
   "cell_type": "code",
   "execution_count": 0,
   "metadata": {
    "colab": {},
    "colab_type": "code",
    "id": "N_zE3jgwgXfX"
   },
   "outputs": [],
   "source": [
    "from sklearn.preprocessing import LabelEncoder"
   ]
  },
  {
   "cell_type": "code",
   "execution_count": 0,
   "metadata": {
    "colab": {
     "base_uri": "https://localhost:8080/",
     "height": 34
    },
    "colab_type": "code",
    "id": "p5bYto0lhASS",
    "outputId": "495f1f38-6c4f-4cf3-bdf3-d84de3836dd7"
   },
   "outputs": [
    {
     "data": {
      "text/plain": [
       "array([0, 1, 2])"
      ]
     },
     "execution_count": 51,
     "metadata": {
      "tags": []
     },
     "output_type": "execute_result"
    }
   ],
   "source": [
    "target_encoder = LabelEncoder()\n",
    "target_encoder.fit(df.species)\n",
    "\n",
    "y = target_encoder.transform(df.species)\n",
    "\n",
    "np.unique(y)"
   ]
  },
  {
   "cell_type": "markdown",
   "metadata": {
    "colab_type": "text",
    "id": "hR1ifdcAhvK4"
   },
   "source": [
    "Now the NumPy array `y` has a numeric value associated with each of our three classes. If we want to know which integer ID corresponds to what label, we can simply use the `inverse_transform()` method:"
   ]
  },
  {
   "cell_type": "code",
   "execution_count": 0,
   "metadata": {
    "colab": {
     "base_uri": "https://localhost:8080/",
     "height": 34
    },
    "colab_type": "code",
    "id": "Q4I535zGhHk4",
    "outputId": "d806d912-1045-4f0e-f3d4-a592b9f86cf5"
   },
   "outputs": [
    {
     "data": {
      "text/plain": [
       "array(['setosa', 'versicolor', 'virginica'], dtype=object)"
      ]
     },
     "execution_count": 52,
     "metadata": {
      "tags": []
     },
     "output_type": "execute_result"
    }
   ],
   "source": [
    "target_encoder.inverse_transform(np.unique(y))"
   ]
  },
  {
   "cell_type": "markdown",
   "metadata": {
    "colab_type": "text",
    "id": "OOYx0b0BiCuG"
   },
   "source": [
    "Now that `y` is a numeric NumPy array we can transform it to a PyTorch tensor with the `torch.tensor` methods we showed before. "
   ]
  },
  {
   "cell_type": "markdown",
   "metadata": {
    "colab_type": "text",
    "id": "gc48HzDsuy-Q"
   },
   "source": [
    "# GPU device management \n",
    "\n",
    "If you have multiple GPUs,  by default `torch.device(\"cuda\")` specifies the first GPU (GPU 0 as PyTorch GPU indexing starts from 0). You can alternatively specifiy which GPU you want to use:"
   ]
  },
  {
   "cell_type": "code",
   "execution_count": 0,
   "metadata": {
    "colab": {},
    "colab_type": "code",
    "id": "AMBLk4u4hUfb"
   },
   "outputs": [],
   "source": [
    "cuda0 = torch.device('cuda:0')\n",
    "cuda1 = torch.device('cuda:1')"
   ]
  },
  {
   "cell_type": "markdown",
   "metadata": {
    "colab_type": "text",
    "id": "wL4vHA0MzGUO"
   },
   "source": [
    "Now you can use either `cuda0` or `cuda1` to specify where you want a tensor to be. For example, below `x_device_0` is on GPU 0 and `x_device_1` is on GPU  1:"
   ]
  },
  {
   "cell_type": "code",
   "execution_count": 0,
   "metadata": {
    "colab": {},
    "colab_type": "code",
    "id": "vAYNf_zHj-eJ"
   },
   "outputs": [],
   "source": [
    "x_device_0 = torch.randn(3,4).to(cuda0)\n",
    "#x_device_1 = torch.randn(3,4).to(cuda1)"
   ]
  },
  {
   "cell_type": "markdown",
   "metadata": {
    "colab_type": "text",
    "id": "n66QTFe1zzq3"
   },
   "source": [
    "Alternatively, you can use Python's `with` contex manager to speciy which device to use:"
   ]
  },
  {
   "cell_type": "code",
   "execution_count": 0,
   "metadata": {
    "colab": {},
    "colab_type": "code",
    "id": "PVyiHS8NmLNF"
   },
   "outputs": [],
   "source": [
    "with torch.cuda.device(0):\n",
    "    # allocates a tensor on GPU 1\n",
    "    x_device_0 = torch.randn(3,4).cuda() # on device 0\n",
    "    \n",
    "    a = torch.randn(3,4).to(device) # also on device 0\n",
    "\n",
    "    \n",
    "    \n",
    "    "
   ]
  },
  {
   "cell_type": "markdown",
   "metadata": {
    "colab_type": "text",
    "id": "z2R9ECJ909zc"
   },
   "source": [
    "You can use the `device` attribute to see which device a tensor is on:"
   ]
  },
  {
   "cell_type": "code",
   "execution_count": 0,
   "metadata": {
    "colab": {
     "base_uri": "https://localhost:8080/",
     "height": 34
    },
    "colab_type": "code",
    "id": "h9EyFqyimMha",
    "outputId": "95a19c22-6cbb-4b24-9dcc-07c6d6bb6b3a"
   },
   "outputs": [
    {
     "data": {
      "text/plain": [
       "device(type='cuda', index=0)"
      ]
     },
     "execution_count": 65,
     "metadata": {
      "tags": []
     },
     "output_type": "execute_result"
    }
   ],
   "source": [
    "x_device_0.device"
   ]
  },
  {
   "cell_type": "markdown",
   "metadata": {
    "colab_type": "text",
    "id": "nMHyRj791V7X"
   },
   "source": [
    "PyTorch also gives you wrappers to monitor how much memory is used by your different devices with the functions `torch.cuda.memory_allocated()`, `torch.cuda.max_memory_allocated()`,  `torch.cuda.memory_cached()`, and `torch.cuda.max_memory_cached()` as their names imply. For example, to see the maximum memory allocated on your device, just run:"
   ]
  },
  {
   "cell_type": "code",
   "execution_count": 0,
   "metadata": {
    "colab": {
     "base_uri": "https://localhost:8080/",
     "height": 34
    },
    "colab_type": "code",
    "id": "iijYtOCZ1m26",
    "outputId": "24f1523d-e5cd-4341-8ded-22c2515ddbd6"
   },
   "outputs": [
    {
     "data": {
      "text/plain": [
       "4096"
      ]
     },
     "execution_count": 72,
     "metadata": {
      "tags": []
     },
     "output_type": "execute_result"
    }
   ],
   "source": [
    "torch.cuda.max_memory_allocated(device)"
   ]
  }
 ],
 "metadata": {
  "accelerator": "GPU",
  "colab": {
   "include_colab_link": true,
   "name": "pytorch-chapter-1.ipynb",
   "provenance": []
  },
  "hide_input": false,
  "kernelspec": {
   "display_name": "Python 3",
   "language": "python",
   "name": "python3"
  },
  "language_info": {
   "codemirror_mode": {
    "name": "ipython",
    "version": 3
   },
   "file_extension": ".py",
   "mimetype": "text/x-python",
   "name": "python",
   "nbconvert_exporter": "python",
   "pygments_lexer": "ipython3",
   "version": "3.6.9"
  },
  "latex_envs": {
   "LaTeX_envs_menu_present": true,
   "autoclose": false,
   "autocomplete": true,
   "bibliofile": "biblio.bib",
   "cite_by": "apalike",
   "current_citInitial": 1,
   "eqLabelWithNumbers": true,
   "eqNumInitial": 1,
   "hotkeys": {
    "equation": "Ctrl-E",
    "itemize": "Ctrl-I"
   },
   "labels_anchors": false,
   "latex_user_defs": false,
   "report_style_numbering": false,
   "user_envs_cfg": false
  },
  "title": "Chapter 1",
  "varInspector": {
   "cols": {
    "lenName": 16,
    "lenType": 16,
    "lenVar": 40
   },
   "kernels_config": {
    "python": {
     "delete_cmd_postfix": "",
     "delete_cmd_prefix": "del ",
     "library": "var_list.py",
     "varRefreshCmd": "print(var_dic_list())"
    },
    "r": {
     "delete_cmd_postfix": ") ",
     "delete_cmd_prefix": "rm(",
     "library": "var_list.r",
     "varRefreshCmd": "cat(var_dic_list()) "
    }
   },
   "types_to_exclude": [
    "module",
    "function",
    "builtin_function_or_method",
    "instance",
    "_Feature"
   ],
   "window_display": false
  }
 },
 "nbformat": 4,
 "nbformat_minor": 1
}
